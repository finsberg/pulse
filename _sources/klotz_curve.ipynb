{
 "cells": [
  {
   "cell_type": "markdown",
   "id": "b44c4087",
   "metadata": {},
   "source": [
    "# Klotz curve\n",
    "\n",
    "Inlate a geometry to a pressure using different\n",
    "material models, and compare with the Klotz curve.\n"
   ]
  },
  {
   "cell_type": "code",
   "execution_count": null,
   "id": "a4cea135",
   "metadata": {},
   "outputs": [],
   "source": [
    "import math"
   ]
  },
  {
   "cell_type": "code",
   "execution_count": null,
   "id": "2f64daea",
   "metadata": {},
   "outputs": [],
   "source": [
    "import matplotlib.pyplot as plt\n",
    "import numpy as np"
   ]
  },
  {
   "cell_type": "code",
   "execution_count": null,
   "id": "5047f3f9",
   "metadata": {},
   "outputs": [],
   "source": [
    "import pulse"
   ]
  },
  {
   "cell_type": "code",
   "execution_count": null,
   "id": "2e83e6b6",
   "metadata": {},
   "outputs": [],
   "source": [
    "try:\n",
    "    from dolfin_adjoint import Constant, DirichletBC\n",
    "except ImportError:\n",
    "    from dolfin import Constant, DirichletBC"
   ]
  },
  {
   "cell_type": "code",
   "execution_count": null,
   "id": "6b86d1c5",
   "metadata": {},
   "outputs": [],
   "source": [
    "ED_pressure = 1.6  # kPa"
   ]
  },
  {
   "cell_type": "code",
   "execution_count": null,
   "id": "0db2f853",
   "metadata": {},
   "outputs": [],
   "source": [
    "def setup_material(material_model):\n",
    "    \"\"\"\n",
    "    Choose parameters based on\n",
    "\n",
    "    Hadjicharalambous, Myrianthi, et al. \"Analysis of passive\n",
    "    cardiac constitutive laws for parameter estimation using 3D\n",
    "    tagged MRI.\" Biomechanics and modeling in mechanobiology 14.4\n",
    "    (2015): 807-828.\n",
    "\n",
    "    These parameters did not really match the Klotz curve here.\n",
    "    Perhaps they did some more tuning?\n",
    "\n",
    "    \"\"\"\n",
    "    if material_model == \"guccione\":\n",
    "\n",
    "        matparams = pulse.Guccione.default_parameters()\n",
    "        matparams[\"C\"] = 0.18  # kPa\n",
    "        matparams[\"bf\"] = 27.75\n",
    "        matparams[\"bt\"] = 5.37\n",
    "        matparams[\"bfs\"] = 2.445\n",
    "        material = pulse.Guccione(\n",
    "            parameters=matparams,\n",
    "            f0=geometry.f0,\n",
    "            s0=geometry.s0,\n",
    "            n0=geometry.n0,\n",
    "        )\n",
    "\n",
    "    elif material_model == \"neo_hookean\":\n",
    "\n",
    "        matparams = pulse.NeoHookean.default_parameters()\n",
    "        matparams[\"mu\"] = 10.0  # kPa\n",
    "        material = pulse.NeoHookean(parameters=matparams)\n",
    "\n",
    "    elif material_model == \"holzapfel_ogden\":\n",
    "\n",
    "        matparams = pulse.HolzapfelOgden.default_parameters()\n",
    "\n",
    "        matparams[\"a\"] = 4.0  # kPa\n",
    "        matparams[\"a_f\"] = 10.0  # kPa\n",
    "        matparams[\"b\"] = 5.0\n",
    "        matparams[\"b_f\"] = 5.0\n",
    "        material = pulse.HolzapfelOgden(\n",
    "            parameters=matparams,\n",
    "            f0=geometry.f0,\n",
    "            s0=geometry.s0,\n",
    "            n0=geometry.n0,\n",
    "        )\n",
    "    return material"
   ]
  },
  {
   "cell_type": "code",
   "execution_count": null,
   "id": "574d5313",
   "metadata": {},
   "outputs": [],
   "source": [
    "def klotz_curve(ED_pressure):\n",
    "    \"\"\"\n",
    "\n",
    "    EDPVR based on Klotz curve\n",
    "\n",
    "    Klotz, Stefan, et al. \"Single-beat estimation of end-diastolic\n",
    "    pressure-volume relationship: a novel method with potential for\n",
    "    noninvasive application.\" American Journal of Physiology-Heart and\n",
    "    Circulatory Physiology 291.1 (2006): H403-H412.\n",
    "\n",
    "    \"\"\"\n",
    "\n",
    "    # Some point at the EDPVR line\n",
    "    Vm = 148.663\n",
    "    Pm = ED_pressure\n",
    "\n",
    "    # Some constants\n",
    "    An = 27.8\n",
    "    Bn = 2.76\n",
    "\n",
    "    # kpa to mmhg\n",
    "    Pm = Pm * 760 / 101.325\n",
    "\n",
    "    V0 = Vm * (0.6 - 0.006 * Pm)\n",
    "    V30 = V0 + (Vm - V0) / (Pm / An) ** (1.0 / Bn)\n",
    "\n",
    "    beta = math.log(Pm / 30.0) / math.log(Vm / V30)\n",
    "    alpha = 30.0 / V30**beta\n",
    "\n",
    "    # Unloaded volume (not used here)\n",
    "    # P_V0 = alpha * V0 ** beta\n",
    "\n",
    "    vs = [V0]\n",
    "    ps = [0.0]\n",
    "    for p in np.linspace(1.0, 12.0):\n",
    "        vi = (p / alpha) ** (1.0 / beta)\n",
    "        vs.append(vi)\n",
    "        ps.append(p * 101.325 / 760)  # Convert from mmhg to kPa\n",
    "\n",
    "    return vs, ps"
   ]
  },
  {
   "cell_type": "code",
   "execution_count": null,
   "id": "15cc1cac",
   "metadata": {},
   "outputs": [],
   "source": [
    "def fix_basal_plane(W):\n",
    "    V = W if W.sub(0).num_sub_spaces() == 0 else W.sub(0)\n",
    "    bc = DirichletBC(\n",
    "        V,\n",
    "        Constant((0.0, 0.0, 0.0)),\n",
    "        geometry.ffun,\n",
    "        geometry.markers[\"BASE\"][0],\n",
    "    )\n",
    "    return bc"
   ]
  },
  {
   "cell_type": "code",
   "execution_count": null,
   "id": "9395fc12",
   "metadata": {},
   "outputs": [],
   "source": [
    "geometry = pulse.HeartGeometry.from_file(pulse.mesh_paths[\"simple_ellipsoid\"])\n",
    "geometry.mesh.coordinates()[:] *= 4.7\n",
    "# geometry = pulse.geometries.prolate_ellipsoid_geometry(mesh_size_factor=3.0)\n",
    "# geometry.mesh.coordinates()[:] *= 0.37"
   ]
  },
  {
   "cell_type": "code",
   "execution_count": null,
   "id": "e80de72e",
   "metadata": {},
   "outputs": [],
   "source": [
    "dirichlet_bc = [fix_basal_plane]"
   ]
  },
  {
   "cell_type": "code",
   "execution_count": null,
   "id": "f1efed17",
   "metadata": {},
   "outputs": [],
   "source": [
    "lvp = Constant(0.0)\n",
    "lv_marker = geometry.markers[\"ENDO\"][0]\n",
    "lv_pressure = pulse.NeumannBC(traction=lvp, marker=lv_marker, name=\"lv\")\n",
    "neumann_bc = [lv_pressure]"
   ]
  },
  {
   "cell_type": "code",
   "execution_count": null,
   "id": "53b0a2e3",
   "metadata": {},
   "outputs": [],
   "source": [
    "bcs = pulse.BoundaryConditions(dirichlet=dirichlet_bc, neumann=neumann_bc)"
   ]
  },
  {
   "cell_type": "code",
   "execution_count": null,
   "id": "dc467eff",
   "metadata": {},
   "outputs": [],
   "source": [
    "fig, ax = plt.subplots()\n",
    "for material_model in [\"neo_hookean\", \"guccione\", \"holzapfel_ogden\"]:\n",
    "\n",
    "    material = setup_material(material_model)\n",
    "    problem = pulse.MechanicsProblem(geometry, material, bcs)\n",
    "\n",
    "    pressures = [0.0]\n",
    "    volumes = [geometry.cavity_volume()]\n",
    "\n",
    "    for p in np.linspace(0, ED_pressure, 10)[1:]:\n",
    "        pulse.iterate.iterate(problem, lvp, p)\n",
    "\n",
    "        pressures.append(p)\n",
    "        volumes.append(geometry.cavity_volume(u=problem.state.split()[0]))\n",
    "\n",
    "    ax.plot(volumes, pressures, label=\" \".join(material_model.split(\"_\")))\n",
    "\n",
    "    # Reset pressure\n",
    "    lvp.assign(Constant(0.0))"
   ]
  },
  {
   "cell_type": "code",
   "execution_count": null,
   "id": "ca066d37",
   "metadata": {},
   "outputs": [],
   "source": [
    "vs, ps = klotz_curve(ED_pressure)\n",
    "ax.plot(vs, ps, linestyle=\"--\", label=\"Klotz curve\")\n",
    "ax.legend(loc=\"best\")\n",
    "ax.set_xlabel(\"Volume (ml)\")\n",
    "ax.set_ylabel(\"Pressure (kPa)\")\n",
    "plt.show()\n",
    "# plt.savefig(\"klotz_curve.png\")"
   ]
  }
 ],
 "metadata": {
  "jupytext": {
   "cell_metadata_filter": "-all",
   "main_language": "python",
   "notebook_metadata_filter": "-all"
  }
 },
 "nbformat": 4,
 "nbformat_minor": 5
}
