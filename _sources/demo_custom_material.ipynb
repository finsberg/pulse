{
 "cells": [
  {
   "cell_type": "markdown",
   "id": "04bf403c",
   "metadata": {},
   "source": [
    "# Custom material\n",
    "\n",
    "In this demo we show how you can use the pulse-framework\n",
    "together with your custom material model.\n",
    "\n",
    "To illustrate this we will implement a model for a\n",
    "Mooney-Rivelin material.\n"
   ]
  },
  {
   "cell_type": "code",
   "execution_count": null,
   "id": "76921319",
   "metadata": {},
   "outputs": [],
   "source": [
    "import dolfin"
   ]
  },
  {
   "cell_type": "code",
   "execution_count": null,
   "id": "40b8e14a",
   "metadata": {},
   "outputs": [],
   "source": [
    "# Make sure to use dolfin-adjoint version of object if using dolfin_adjoint\n",
    "try:\n",
    "    from dolfin_adjoint import (\n",
    "        Constant,\n",
    "        DirichletBC,\n",
    "        Expression,\n",
    "        UnitCubeMesh,\n",
    "        interpolate,\n",
    "        Mesh,\n",
    "    )\n",
    "except ImportError:\n",
    "    from dolfin import (\n",
    "        UnitCubeMesh,\n",
    "        Expression,\n",
    "        Constant,\n",
    "        DirichletBC,\n",
    "        interpolate,\n",
    "        Mesh,\n",
    "    )"
   ]
  },
  {
   "cell_type": "code",
   "execution_count": null,
   "id": "340ea5e0",
   "metadata": {},
   "outputs": [],
   "source": [
    "import pulse\n",
    "from fenics_plotly import plot"
   ]
  },
  {
   "cell_type": "code",
   "execution_count": null,
   "id": "afb9c088",
   "metadata": {},
   "outputs": [],
   "source": [
    "# Create mesh\n",
    "N = 6\n",
    "mesh = UnitCubeMesh(N, N, N)"
   ]
  },
  {
   "cell_type": "code",
   "execution_count": null,
   "id": "0aa50c2e",
   "metadata": {},
   "outputs": [],
   "source": [
    "# Create subdomains\n",
    "class Free(dolfin.SubDomain):\n",
    "    def inside(self, x, on_boundary):\n",
    "        return x[0] > (1.0 - dolfin.DOLFIN_EPS) and on_boundary"
   ]
  },
  {
   "cell_type": "code",
   "execution_count": null,
   "id": "1a109bc7",
   "metadata": {},
   "outputs": [],
   "source": [
    "class Fixed(dolfin.SubDomain):\n",
    "    def inside(self, x, on_boundary):\n",
    "        return x[0] < dolfin.DOLFIN_EPS and on_boundary"
   ]
  },
  {
   "cell_type": "code",
   "execution_count": null,
   "id": "901b3db4",
   "metadata": {},
   "outputs": [],
   "source": [
    "# Create a facet fuction in order to mark the subdomains\n",
    "ffun = dolfin.MeshFunction(\"size_t\", mesh, 2)\n",
    "ffun.set_all(0)"
   ]
  },
  {
   "cell_type": "code",
   "execution_count": null,
   "id": "032ab1d6",
   "metadata": {},
   "outputs": [],
   "source": [
    "# Mark the first subdomain with value 1\n",
    "fixed = Fixed()\n",
    "fixed_marker = 1\n",
    "fixed.mark(ffun, fixed_marker)"
   ]
  },
  {
   "cell_type": "code",
   "execution_count": null,
   "id": "6cc13f6b",
   "metadata": {},
   "outputs": [],
   "source": [
    "# Mark the second subdomain with value 2\n",
    "free = Free()\n",
    "free_marker = 2\n",
    "free.mark(ffun, free_marker)"
   ]
  },
  {
   "cell_type": "code",
   "execution_count": null,
   "id": "0e17abe5",
   "metadata": {
    "lines_to_next_cell": 2
   },
   "outputs": [],
   "source": [
    "# Create a cell function (but we are not using it)\n",
    "cfun = dolfin.MeshFunction(\"size_t\", mesh, 3)\n",
    "cfun.set_all(0)"
   ]
  },
  {
   "cell_type": "code",
   "execution_count": null,
   "id": "2cbee04c",
   "metadata": {},
   "outputs": [],
   "source": [
    "# Collect the functions containing the markers\n",
    "marker_functions = pulse.MarkerFunctions(ffun=ffun, cfun=cfun)"
   ]
  },
  {
   "cell_type": "code",
   "execution_count": null,
   "id": "f47ae2bb",
   "metadata": {},
   "outputs": [],
   "source": [
    "# Create mictrotructure\n",
    "f0 = Expression((\"1.0\", \"0.0\", \"0.0\"), degree=1, cell=mesh.ufl_cell())\n",
    "s0 = Expression((\"0.0\", \"1.0\", \"0.0\"), degree=1, cell=mesh.ufl_cell())\n",
    "n0 = Expression((\"0.0\", \"0.0\", \"1.0\"), degree=1, cell=mesh.ufl_cell())"
   ]
  },
  {
   "cell_type": "code",
   "execution_count": null,
   "id": "b608f952",
   "metadata": {},
   "outputs": [],
   "source": [
    "# Collect the mictrotructure\n",
    "microstructure = pulse.Microstructure(f0=f0, s0=s0, n0=n0)"
   ]
  },
  {
   "cell_type": "code",
   "execution_count": null,
   "id": "954059ed",
   "metadata": {},
   "outputs": [],
   "source": [
    "# Create the geometry\n",
    "geometry = pulse.Geometry(\n",
    "    mesh=mesh,\n",
    "    marker_functions=marker_functions,\n",
    "    microstructure=microstructure,\n",
    ")"
   ]
  },
  {
   "cell_type": "code",
   "execution_count": null,
   "id": "97313da9",
   "metadata": {},
   "outputs": [],
   "source": [
    "# Use the default material parameters\n",
    "class MooneyRivelin(pulse.Material):\n",
    "    @staticmethod\n",
    "    def default_parameters():\n",
    "        return dict(C1=1.0, C2=1.0)\n",
    "\n",
    "    def strain_energy(self, F_):\n",
    "\n",
    "        # Get elastic part of deformation gradient,\n",
    "        # in case of active strain model\n",
    "        F = self.Fe(F_)\n",
    "\n",
    "        # Active stress (which is zero for acitve strain)\n",
    "        Wactive = self.Wactive(F, diff=0)\n",
    "\n",
    "        I1 = pulse.kinematics.I1(F)\n",
    "        I2 = pulse.kinematics.I2(F)\n",
    "\n",
    "        return self.C1 * (I1 - 3) + self.C2 * (I2 - 3) + Wactive"
   ]
  },
  {
   "cell_type": "code",
   "execution_count": null,
   "id": "46c9ce72",
   "metadata": {},
   "outputs": [],
   "source": [
    "# Select model for active contraction\n",
    "active_model = pulse.ActiveModels.active_strain\n",
    "# active_model = \"active_stress\""
   ]
  },
  {
   "cell_type": "code",
   "execution_count": null,
   "id": "b870229a",
   "metadata": {},
   "outputs": [],
   "source": [
    "# Set the activation\n",
    "activation = Constant(0.1)"
   ]
  },
  {
   "cell_type": "code",
   "execution_count": null,
   "id": "53bca813",
   "metadata": {},
   "outputs": [],
   "source": [
    "# Create material\n",
    "material = MooneyRivelin(active_model=active_model, activation=activation)"
   ]
  },
  {
   "cell_type": "code",
   "execution_count": null,
   "id": "65b5a271",
   "metadata": {},
   "outputs": [],
   "source": [
    "# Make Dirichlet boundary conditions\n",
    "def dirichlet_bc(W):\n",
    "    V = W if W.sub(0).num_sub_spaces() == 0 else W.sub(0)\n",
    "    return DirichletBC(V, Constant((0.0, 0.0, 0.0)), fixed)"
   ]
  },
  {
   "cell_type": "code",
   "execution_count": null,
   "id": "3685e1c2",
   "metadata": {},
   "outputs": [],
   "source": [
    "# Make Neumann boundary conditions\n",
    "neumann_bc = pulse.NeumannBC(traction=Constant(0.0), marker=free_marker)"
   ]
  },
  {
   "cell_type": "code",
   "execution_count": null,
   "id": "868f60e7",
   "metadata": {},
   "outputs": [],
   "source": [
    "# Collect Boundary Conditions\n",
    "bcs = pulse.BoundaryConditions(dirichlet=(dirichlet_bc,), neumann=(neumann_bc,))"
   ]
  },
  {
   "cell_type": "code",
   "execution_count": null,
   "id": "407ace19",
   "metadata": {},
   "outputs": [],
   "source": [
    "# Create problem\n",
    "problem = pulse.MechanicsProblem(geometry, material, bcs)"
   ]
  },
  {
   "cell_type": "code",
   "execution_count": null,
   "id": "41c34a55",
   "metadata": {},
   "outputs": [],
   "source": [
    "# Solve problem\n",
    "problem.solve()"
   ]
  },
  {
   "cell_type": "code",
   "execution_count": null,
   "id": "622e5494",
   "metadata": {},
   "outputs": [],
   "source": [
    "V = dolfin.VectorFunctionSpace(geometry.mesh, \"CG\", 1)\n",
    "u, p = problem.state.split(deepcopy=True)\n",
    "u_int = interpolate(u, V)\n",
    "mesh = Mesh(geometry.mesh)\n",
    "dolfin.ALE.move(mesh, u_int)"
   ]
  },
  {
   "cell_type": "code",
   "execution_count": null,
   "id": "abd1c032",
   "metadata": {},
   "outputs": [],
   "source": [
    "fig = plot(geometry.mesh, show=False)\n",
    "fig.add_plot(plot(mesh, color=\"red\", show=False))\n",
    "fig.show()"
   ]
  }
 ],
 "metadata": {
  "jupytext": {
   "cell_metadata_filter": "-all",
   "main_language": "python",
   "notebook_metadata_filter": "-all"
  }
 },
 "nbformat": 4,
 "nbformat_minor": 5
}
