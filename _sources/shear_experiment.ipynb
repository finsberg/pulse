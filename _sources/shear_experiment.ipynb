{
 "cells": [
  {
   "cell_type": "code",
   "execution_count": null,
   "metadata": {},
   "outputs": [],
   "source": [
    "# # Shear experiment\n",
    "# Attempt to reproduce Figure 8 in [1].\n",
    "#\n",
    "#\n",
    "# > [1] Holzapfel, Gerhard A., and Ray W. Ogden.\n",
    "#     \"Constitutive modelling of passive myocardium:\n",
    "#     a structurally based framework for material characterization.\n",
    "#     \"Philosophical Transactions of the Royal Society of London A:\n",
    "#     Mathematical, Physical and Engineering Sciences 367.1902 (2009): 3445-3475.\n",
    "#\n",
    "import dolfin\n",
    "import matplotlib.pyplot as plt\n",
    "import numpy as np"
   ]
  },
  {
   "cell_type": "code",
   "execution_count": null,
   "metadata": {},
   "outputs": [],
   "source": [
    "import pulse"
   ]
  },
  {
   "cell_type": "code",
   "execution_count": null,
   "metadata": {},
   "outputs": [],
   "source": [
    "try:\n",
    "    from dolfin_adjoint import (\n",
    "        Constant,\n",
    "        DirichletBC,\n",
    "        Expression,\n",
    "        UnitCubeMesh,\n",
    "        interpolate,\n",
    "    )\n",
    "except ImportError:\n",
    "    from dolfin import (\n",
    "        Constant,\n",
    "        DirichletBC,\n",
    "        interpolate,\n",
    "        Expression,\n",
    "        UnitCubeMesh,\n",
    "    )"
   ]
  },
  {
   "cell_type": "code",
   "execution_count": null,
   "metadata": {
    "lines_to_next_cell": 2
   },
   "outputs": [],
   "source": [
    "# Create mesh\n",
    "N = 2\n",
    "mesh = UnitCubeMesh(N, N, N)"
   ]
  },
  {
   "cell_type": "code",
   "execution_count": null,
   "metadata": {},
   "outputs": [],
   "source": [
    "# Create a facet fuction in order to mark the subdomains\n",
    "ffun = dolfin.MeshFunction(\"size_t\", mesh, 2)\n",
    "ffun.set_all(0)"
   ]
  },
  {
   "cell_type": "code",
   "execution_count": null,
   "metadata": {},
   "outputs": [],
   "source": [
    "# Mark subdomains\n",
    "xlow = dolfin.CompiledSubDomain(\"near(x[0], 0) && on_boundary\")\n",
    "xlow_marker = 1\n",
    "xlow.mark(ffun, xlow_marker)"
   ]
  },
  {
   "cell_type": "code",
   "execution_count": null,
   "metadata": {},
   "outputs": [],
   "source": [
    "xhigh = dolfin.CompiledSubDomain(\"near(x[0], 1.0) && on_boundary\")\n",
    "xhigh_marker = 2\n",
    "xhigh.mark(ffun, xhigh_marker)"
   ]
  },
  {
   "cell_type": "code",
   "execution_count": null,
   "metadata": {},
   "outputs": [],
   "source": [
    "ylow = dolfin.CompiledSubDomain(\"near(x[1], 0) && on_boundary\")\n",
    "ylow_marker = 3\n",
    "ylow.mark(ffun, ylow_marker)"
   ]
  },
  {
   "cell_type": "code",
   "execution_count": null,
   "metadata": {
    "lines_to_next_cell": 2
   },
   "outputs": [],
   "source": [
    "yhigh = dolfin.CompiledSubDomain(\"near(x[1], 1) && on_boundary\")\n",
    "yhigh_marker = 4\n",
    "yhigh.mark(ffun, yhigh_marker)"
   ]
  },
  {
   "cell_type": "code",
   "execution_count": null,
   "metadata": {
    "lines_to_next_cell": 2
   },
   "outputs": [],
   "source": [
    "# Collect the functions containing the markers\n",
    "marker_functions = pulse.MarkerFunctions(ffun=ffun)"
   ]
  },
  {
   "cell_type": "code",
   "execution_count": null,
   "metadata": {},
   "outputs": [],
   "source": [
    "# Create mictrotructure\n",
    "V_f = dolfin.VectorFunctionSpace(mesh, \"CG\", 1)"
   ]
  },
  {
   "cell_type": "code",
   "execution_count": null,
   "metadata": {},
   "outputs": [],
   "source": [
    "# Fibers\n",
    "f0 = interpolate(Expression((\"1.0\", \"0.0\", \"0.0\"), degree=1), V_f)\n",
    "# Sheets\n",
    "s0 = interpolate(Expression((\"0.0\", \"1.0\", \"0.0\"), degree=1), V_f)\n",
    "# Fiber-sheet normal\n",
    "n0 = interpolate(Expression((\"0.0\", \"0.0\", \"1.0\"), degree=1), V_f)"
   ]
  },
  {
   "cell_type": "code",
   "execution_count": null,
   "metadata": {},
   "outputs": [],
   "source": [
    "# Collect the mictrotructure\n",
    "microstructure = pulse.Microstructure(f0=f0, s0=s0, n0=n0)"
   ]
  },
  {
   "cell_type": "code",
   "execution_count": null,
   "metadata": {},
   "outputs": [],
   "source": [
    "# Create the geometry\n",
    "geometry = pulse.Geometry(\n",
    "    mesh=mesh,\n",
    "    marker_functions=marker_functions,\n",
    "    microstructure=microstructure,\n",
    ")"
   ]
  },
  {
   "cell_type": "code",
   "execution_count": null,
   "metadata": {},
   "outputs": [],
   "source": [
    "# Use the default material parameters\n",
    "material_parameters = {\"a\": 2.28, \"b\": 9.726, \"a_f\": 1.685, \"b_f\": 15.779}"
   ]
  },
  {
   "cell_type": "code",
   "execution_count": null,
   "metadata": {
    "lines_to_next_cell": 2
   },
   "outputs": [],
   "source": [
    "# Create material\n",
    "material = pulse.HolzapfelOgden(parameters=material_parameters)"
   ]
  },
  {
   "cell_type": "code",
   "execution_count": null,
   "metadata": {},
   "outputs": [],
   "source": [
    "# Eff / Ess strain ratio\n",
    "strain_ratio = Constant(1.0)"
   ]
  },
  {
   "cell_type": "code",
   "execution_count": null,
   "metadata": {},
   "outputs": [],
   "source": [
    "# Create costants defined for the dirichlet BC\n",
    "u0 = Constant(0.0)\n",
    "x_strain = u0 * strain_ratio / 2\n",
    "y_strain = u0 * (1 / strain_ratio) / 2"
   ]
  },
  {
   "cell_type": "code",
   "execution_count": null,
   "metadata": {},
   "outputs": [],
   "source": [
    "# Make Dirichlet boundary conditions\n",
    "def dirichlet_bc(W):\n",
    "    V = W if W.sub(0).num_sub_spaces() == 0 else W.sub(0)\n",
    "    return [\n",
    "        DirichletBC(V.sub(0), Constant(-x_strain), xlow),\n",
    "        DirichletBC(V.sub(0), Constant(x_strain), xhigh),\n",
    "        DirichletBC(V.sub(1), Constant(-y_strain), ylow),\n",
    "        DirichletBC(V.sub(1), Constant(y_strain), yhigh),\n",
    "    ]"
   ]
  },
  {
   "cell_type": "code",
   "execution_count": null,
   "metadata": {},
   "outputs": [],
   "source": [
    "# Collect Boundary Conditions\n",
    "bcs = pulse.BoundaryConditions(dirichlet=(dirichlet_bc,))"
   ]
  },
  {
   "cell_type": "code",
   "execution_count": null,
   "metadata": {},
   "outputs": [],
   "source": [
    "# Create problem\n",
    "problem = pulse.MechanicsProblem(geometry, material, bcs)"
   ]
  },
  {
   "cell_type": "code",
   "execution_count": null,
   "metadata": {},
   "outputs": [],
   "source": [
    "# Solve problem\n",
    "fig, ax = plt.subplots(1, 2)\n",
    "u0s = [0.045, 0.6, 0.8]\n",
    "markers = [\"^\", \"s\", \"o\"]\n",
    "for i, sr in enumerate([2.05, 1.02, 0.48]):\n",
    "    strain_ratio.assign(sr)\n",
    "    Effs = []\n",
    "    Sffs = []\n",
    "    Esss = []\n",
    "    Ssss = []\n",
    "    for xi in np.linspace(0, 0.1, 10):\n",
    "        pulse.iterate.iterate(\n",
    "            problem,\n",
    "            u0,\n",
    "            Constant(xi),\n",
    "            reinit_each_step=True,\n",
    "        )\n",
    "        S = problem.SecondPiolaStress()\n",
    "        E = problem.GreenLagrangeStrain()\n",
    "\n",
    "        Sff = dolfin.assemble(dolfin.inner(f0, S * f0) * dolfin.dx)\n",
    "        Eff = dolfin.assemble(dolfin.inner(f0, E * f0) * dolfin.dx)\n",
    "\n",
    "        Effs.append(Eff)\n",
    "        Sffs.append(Sff)\n",
    "\n",
    "        Sss = dolfin.assemble(dolfin.inner(s0, S * s0) * dolfin.dx)\n",
    "        Ess = dolfin.assemble(dolfin.inner(s0, E * s0) * dolfin.dx)\n",
    "\n",
    "        Esss.append(Ess)\n",
    "        Ssss.append(Sss)\n",
    "\n",
    "    ax[0].plot(Effs, Sffs, marker=markers[i], label=f\"SR: {sr:.2f}\")\n",
    "    ax[1].plot(Esss, Ssss, marker=markers[i], label=f\"SR: {sr:.2f}\")\n",
    "ax[0].set_ylabel(\"$S_{ff}$ (kPa)\")\n",
    "ax[1].set_ylabel(\"$S_{ss}$ (kPa)\")"
   ]
  },
  {
   "cell_type": "code",
   "execution_count": null,
   "metadata": {},
   "outputs": [],
   "source": [
    "ax[0].set_xlabel(\"$E_{ff}$\")\n",
    "ax[1].set_xlabel(\"$E_{ss}$\")\n",
    "for axi in ax:\n",
    "    axi.legend()\n",
    "fig.savefig(\"shear_test\")"
   ]
  }
 ],
 "metadata": {
  "jupytext": {
   "cell_metadata_filter": "-all",
   "main_language": "python",
   "notebook_metadata_filter": "-all"
  }
 },
 "nbformat": 4,
 "nbformat_minor": 4
}
