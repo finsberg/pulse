{
 "cells": [
  {
   "cell_type": "markdown",
   "id": "09738dd9",
   "metadata": {},
   "source": [
    "# Compute stress and strain\n",
    "\n",
    "In this demo we show how to compute stress and strain"
   ]
  },
  {
   "cell_type": "code",
   "execution_count": null,
   "id": "4beda646",
   "metadata": {},
   "outputs": [],
   "source": [
    "import dolfin"
   ]
  },
  {
   "cell_type": "code",
   "execution_count": null,
   "id": "07150fb0",
   "metadata": {},
   "outputs": [],
   "source": [
    "try:\n",
    "    from dolfin_adjoint import Constant, DirichletBC, Function, project\n",
    "except ImportError:\n",
    "    from dolfin import DirichletBC, Constant, project, Function"
   ]
  },
  {
   "cell_type": "code",
   "execution_count": null,
   "id": "e62c6693",
   "metadata": {},
   "outputs": [],
   "source": [
    "import pulse\n",
    "from fenics_plotly import plot"
   ]
  },
  {
   "cell_type": "code",
   "execution_count": null,
   "id": "8e921d9f",
   "metadata": {},
   "outputs": [],
   "source": [
    "gamma_space = \"R_0\"\n",
    "geometry = pulse.Geometry.from_file(pulse.mesh_paths[\"prolate_ellipsoid\"])\n",
    "# geometry = pulse.geometries.prolate_ellipsoid_geometry(mesh_size_factor=3.0)\n",
    "geometry.mesh.coordinates()[:] *= 0.1\n",
    "# breakpoint()\n",
    "activation = Function(dolfin.FunctionSpace(geometry.mesh, \"R\", 0))"
   ]
  },
  {
   "cell_type": "code",
   "execution_count": null,
   "id": "570184c5",
   "metadata": {},
   "outputs": [],
   "source": [
    "matparams = pulse.HolzapfelOgden.default_parameters()\n",
    "material = pulse.HolzapfelOgden(\n",
    "    active_model=pulse.ActiveModels.active_stress,\n",
    "    T_ref=1.0,  # Total active stress should be activation * T_ref\n",
    "    eta=0.2,  # Fraction of transverse stress\n",
    "    activation=activation,\n",
    "    parameters=matparams,\n",
    "    f0=geometry.f0,\n",
    "    s0=geometry.s0,\n",
    "    n0=geometry.n0,\n",
    ")"
   ]
  },
  {
   "cell_type": "code",
   "execution_count": null,
   "id": "cd59da35",
   "metadata": {},
   "outputs": [],
   "source": [
    "# LV Pressure\n",
    "lvp = Constant(0.0)\n",
    "lv_marker = geometry.markers[\"ENDO\"][0]\n",
    "lv_pressure = pulse.NeumannBC(traction=lvp, marker=lv_marker, name=\"lv\")\n",
    "neumann_bc = [lv_pressure]"
   ]
  },
  {
   "cell_type": "code",
   "execution_count": null,
   "id": "e1078af2",
   "metadata": {},
   "outputs": [],
   "source": [
    "# Add spring term at the base with stiffness 1.0 kPa/cm^2\n",
    "base_spring = 1.0\n",
    "robin_bc = [\n",
    "    pulse.RobinBC(value=Constant(base_spring), marker=geometry.markers[\"BASE\"][0]),\n",
    "]"
   ]
  },
  {
   "cell_type": "code",
   "execution_count": null,
   "id": "9e7f7460",
   "metadata": {},
   "outputs": [],
   "source": [
    "def fix_basal_plane(W):\n",
    "    V = W if W.sub(0).num_sub_spaces() == 0 else W.sub(0)\n",
    "    bc = DirichletBC(\n",
    "        V.sub(0),\n",
    "        Constant(0.0),\n",
    "        geometry.ffun,\n",
    "        geometry.markers[\"BASE\"][0],\n",
    "    )\n",
    "    return bc"
   ]
  },
  {
   "cell_type": "code",
   "execution_count": null,
   "id": "d5f64b29",
   "metadata": {},
   "outputs": [],
   "source": [
    "dirichlet_bc = [fix_basal_plane]"
   ]
  },
  {
   "cell_type": "code",
   "execution_count": null,
   "id": "37c02b1b",
   "metadata": {},
   "outputs": [],
   "source": [
    "# Collect boundary conditions\n",
    "bcs = pulse.BoundaryConditions(\n",
    "    dirichlet=dirichlet_bc,\n",
    "    neumann=neumann_bc,\n",
    "    robin=robin_bc,\n",
    ")"
   ]
  },
  {
   "cell_type": "code",
   "execution_count": null,
   "id": "20a6672d",
   "metadata": {},
   "outputs": [],
   "source": [
    "# Create the problem\n",
    "problem = pulse.MechanicsProblem(geometry, material, bcs)"
   ]
  },
  {
   "cell_type": "code",
   "execution_count": null,
   "id": "dc529c02",
   "metadata": {},
   "outputs": [],
   "source": [
    "# Solve the problem\n",
    "pulse.iterate.iterate(problem, lvp, 15.0, max_nr_crash=100, max_iters=100)\n",
    "pulse.iterate.iterate(problem, activation, 60.0)"
   ]
  },
  {
   "cell_type": "code",
   "execution_count": null,
   "id": "8ed203c9",
   "metadata": {},
   "outputs": [],
   "source": [
    "V = dolfin.VectorFunctionSpace(geometry.mesh, \"CG\", 1)\n",
    "u, p = problem.state.split(deepcopy=True)\n",
    "# u_int = interpolate(u, V)\n",
    "# mesh = Mesh(geometry.mesh)\n",
    "# dolfin.ALE.move(mesh, u_int)"
   ]
  },
  {
   "cell_type": "code",
   "execution_count": null,
   "id": "ef672176",
   "metadata": {},
   "outputs": [],
   "source": [
    "# Get the solution\n",
    "# u, p = problem.state.split(deepcopy=True)\n",
    "# dolfin.File(\"u.pvd\") << u"
   ]
  },
  {
   "cell_type": "code",
   "execution_count": null,
   "id": "0e60d69b",
   "metadata": {},
   "outputs": [],
   "source": [
    "W = dolfin.FunctionSpace(geometry.mesh, \"CG\", 1)\n",
    "F = pulse.kinematics.DeformationGradient(u)\n",
    "E = pulse.kinematics.GreenLagrangeStrain(F)\n",
    "# Green strain normal to fiber direction\n",
    "Ef = project(dolfin.inner(E * geometry.f0, geometry.f0), W)\n",
    "# Save to file for visualization in paraview\n",
    "# dolfin.File(\"Ef.pvd\") << Ef\n",
    "plot(Ef)"
   ]
  },
  {
   "cell_type": "code",
   "execution_count": null,
   "id": "7ea7ec8f",
   "metadata": {},
   "outputs": [],
   "source": [
    "P = material.FirstPiolaStress(F, p)\n",
    "# First piola stress normal to fiber direction\n",
    "Pf = project(dolfin.inner(P * geometry.f0, geometry.f0), W)\n",
    "# Save to file for visualization in paraview\n",
    "# dolfin.File(\"Pf.pvd\") << Pf\n",
    "plot(Pf, colorscale=\"viridis\")"
   ]
  },
  {
   "cell_type": "code",
   "execution_count": null,
   "id": "35cb5c2f",
   "metadata": {},
   "outputs": [],
   "source": [
    "T = material.CauchyStress(F, p)\n",
    "f = F * geometry.f0\n",
    "# Cauchy fiber stress\n",
    "Tf = dolfin.project(dolfin.inner(T * f, f), W)\n",
    "# Save to file for visualization in paraview\n",
    "# dolfin.File(\"Tf.pvd\") << Tf\n",
    "plot(Tf, colorscale=\"jet\")"
   ]
  }
 ],
 "metadata": {
  "jupytext": {
   "cell_metadata_filter": "-all",
   "main_language": "python",
   "notebook_metadata_filter": "-all"
  }
 },
 "nbformat": 4,
 "nbformat_minor": 5
}
