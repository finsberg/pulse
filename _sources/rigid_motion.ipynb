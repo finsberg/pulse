{
 "cells": [
  {
   "cell_type": "markdown",
   "id": "521b5e37",
   "metadata": {},
   "source": [
    "# Rigid motion\n",
    "In this example we show to use a Lagrange Multiplier Formuations to enforce a solution that is free of rigid motions as explained in [1]\n",
    "\n",
    "> [1] Kuchta, M., Mardal, K. A., & Mortensen, M. (2019). On the singular Neumann problem in linear elasticity. Numerical Linear Algebra with Applications, 26(1), e2212.\n",
    "\n",
    "Credits to [Aashild Telle](https://github.com/aashildte)\n"
   ]
  },
  {
   "cell_type": "code",
   "execution_count": null,
   "id": "144bfef9",
   "metadata": {},
   "outputs": [],
   "source": [
    "import dolfin\n",
    "from fenics_plotly import plot"
   ]
  },
  {
   "cell_type": "code",
   "execution_count": null,
   "id": "bd11471f",
   "metadata": {},
   "outputs": [],
   "source": [
    "import pulse"
   ]
  },
  {
   "cell_type": "code",
   "execution_count": null,
   "id": "edc86fd2",
   "metadata": {},
   "outputs": [],
   "source": [
    "# Make sure to use dolfin-adjoint version of object if using dolfin_adjoint\n",
    "try:\n",
    "    from dolfin_adjoint import (\n",
    "        Constant,\n",
    "        Function,\n",
    "        Mesh,\n",
    "        UnitCubeMesh,\n",
    "        interpolate,\n",
    "        Expression,\n",
    "    )\n",
    "except ImportError:\n",
    "    from dolfin import Function, Constant, Mesh, UnitCubeMesh, interpolate, Expression"
   ]
  },
  {
   "cell_type": "code",
   "execution_count": null,
   "id": "793e07df",
   "metadata": {},
   "outputs": [],
   "source": [
    "from pulse import DeformationGradient, Jacobian"
   ]
  },
  {
   "cell_type": "code",
   "execution_count": null,
   "id": "5295a994",
   "metadata": {},
   "outputs": [],
   "source": [
    "def rigid_motion_term(mesh, u, r):\n",
    "    position = dolfin.SpatialCoordinate(mesh)\n",
    "    RM = [\n",
    "        Constant((1, 0, 0)),\n",
    "        Constant((0, 1, 0)),\n",
    "        Constant((0, 0, 1)),\n",
    "        dolfin.cross(position, Constant((1, 0, 0))),\n",
    "        dolfin.cross(position, Constant((0, 1, 0))),\n",
    "        dolfin.cross(position, Constant((0, 0, 1))),\n",
    "    ]\n",
    "\n",
    "    return sum(dolfin.dot(u, zi) * r[i] * dolfin.dx for i, zi in enumerate(RM))"
   ]
  },
  {
   "cell_type": "code",
   "execution_count": null,
   "id": "7e5d496a",
   "metadata": {},
   "outputs": [],
   "source": [
    "class RigidMotionProblem(pulse.MechanicsProblem):\n",
    "    def _init_spaces(self):\n",
    "\n",
    "        mesh = self.geometry.mesh\n",
    "\n",
    "        P1 = dolfin.FiniteElement(\"Lagrange\", mesh.ufl_cell(), 1)\n",
    "        P2 = dolfin.VectorElement(\"Lagrange\", mesh.ufl_cell(), 2)\n",
    "        P3 = dolfin.VectorElement(\"Real\", mesh.ufl_cell(), 0, 6)\n",
    "\n",
    "        self.state_space = dolfin.FunctionSpace(mesh, dolfin.MixedElement([P1, P2, P3]))\n",
    "\n",
    "        self.state = Function(self.state_space, name=\"state\")\n",
    "        self.state_test = dolfin.TestFunction(self.state_space)\n",
    "\n",
    "    def _handle_bcs(self, bcs, bcs_parameters):\n",
    "        self.bcs = pulse.BoundaryConditions()\n",
    "\n",
    "    def _init_forms(self):\n",
    "\n",
    "        p, u, r = dolfin.split(self.state)\n",
    "        q, v, w = dolfin.split(self.state_test)\n",
    "\n",
    "        F = dolfin.variable(DeformationGradient(u))\n",
    "        J = Jacobian(F)\n",
    "\n",
    "        dx = self.geometry.dx\n",
    "\n",
    "        # Add penalty term\n",
    "        internal_energy = self.material.strain_energy(\n",
    "            F,\n",
    "        ) + self.material.compressibility(p, J)\n",
    "\n",
    "        self._virtual_work = dolfin.derivative(\n",
    "            internal_energy * dx,\n",
    "            self.state,\n",
    "            self.state_test,\n",
    "        )\n",
    "\n",
    "        self._virtual_work += dolfin.derivative(\n",
    "            rigid_motion_term(\n",
    "                mesh=self.geometry.mesh,\n",
    "                u=u,\n",
    "                r=r,\n",
    "            ),\n",
    "            self.state,\n",
    "            self.state_test,\n",
    "        )\n",
    "\n",
    "        self._jacobian = dolfin.derivative(\n",
    "            self._virtual_work,\n",
    "            self.state,\n",
    "            dolfin.TrialFunction(self.state_space),\n",
    "        )\n",
    "\n",
    "        self._init_solver()\n",
    "\n",
    "    def _init_solver(self):\n",
    "        self._problem = pulse.NonlinearProblem(\n",
    "            J=self._jacobian,\n",
    "            F=self._virtual_work,\n",
    "            bcs=[],\n",
    "        )\n",
    "        self.solver = pulse.NonlinearSolver(\n",
    "            self._problem,\n",
    "            self.state,\n",
    "            parameters=self.solver_parameters,\n",
    "        )"
   ]
  },
  {
   "cell_type": "code",
   "execution_count": null,
   "id": "43a55ee0",
   "metadata": {},
   "outputs": [],
   "source": [
    "N = 4\n",
    "mesh = UnitCubeMesh(N, N, N)"
   ]
  },
  {
   "cell_type": "code",
   "execution_count": null,
   "id": "e4a5b5f3",
   "metadata": {
    "lines_to_next_cell": 2
   },
   "outputs": [],
   "source": [
    "V_f = dolfin.VectorFunctionSpace(mesh, \"CG\", 1)\n",
    "# Fibers\n",
    "f0 = interpolate(Expression((\"1.0\", \"0.0\", \"0.0\"), degree=1), V_f)\n",
    "# Sheets\n",
    "s0 = interpolate(Expression((\"0.0\", \"1.0\", \"0.0\"), degree=1), V_f)\n",
    "# Fiber-sheet normal\n",
    "n0 = interpolate(Expression((\"0.0\", \"0.0\", \"1.0\"), degree=1), V_f)"
   ]
  },
  {
   "cell_type": "code",
   "execution_count": null,
   "id": "8930d5c9",
   "metadata": {},
   "outputs": [],
   "source": [
    "microstructure = pulse.Microstructure(f0=f0, s0=s0, n0=n0)"
   ]
  },
  {
   "cell_type": "code",
   "execution_count": null,
   "id": "f0608c30",
   "metadata": {},
   "outputs": [],
   "source": [
    "# Create the geometry\n",
    "geometry = pulse.Geometry(\n",
    "    mesh=mesh,\n",
    "    microstructure=microstructure,\n",
    ")\n",
    "# -"
   ]
  },
  {
   "cell_type": "code",
   "execution_count": null,
   "id": "ab76c34f",
   "metadata": {},
   "outputs": [],
   "source": [
    "activation = Function(dolfin.FunctionSpace(geometry.mesh, \"R\", 0))\n",
    "activation.assign(Constant(0.2))\n",
    "matparams = pulse.HolzapfelOgden.default_parameters()\n",
    "material = pulse.HolzapfelOgden(\n",
    "    activation=activation,\n",
    "    parameters=matparams,\n",
    "    f0=geometry.f0,\n",
    "    s0=geometry.s0,\n",
    "    n0=geometry.n0,\n",
    ")"
   ]
  },
  {
   "cell_type": "code",
   "execution_count": null,
   "id": "d46d9ad0",
   "metadata": {},
   "outputs": [],
   "source": [
    "problem = RigidMotionProblem(geometry, material)"
   ]
  },
  {
   "cell_type": "code",
   "execution_count": null,
   "id": "4236ca93",
   "metadata": {},
   "outputs": [],
   "source": [
    "problem.solve()"
   ]
  },
  {
   "cell_type": "code",
   "execution_count": null,
   "id": "8f4b1de8",
   "metadata": {},
   "outputs": [],
   "source": [
    "u = problem.state.split(deepcopy=True)[1]\n",
    "V = dolfin.VectorFunctionSpace(mesh, \"CG\", 1)\n",
    "u_int = interpolate(u, V)\n",
    "new_mesh = Mesh(mesh)\n",
    "dolfin.ALE.move(new_mesh, u_int)"
   ]
  },
  {
   "cell_type": "code",
   "execution_count": null,
   "id": "71e180bc",
   "metadata": {},
   "outputs": [],
   "source": [
    "fig = plot(geometry.mesh, opacity=0.4, show=False)\n",
    "fig.add_plot(plot(new_mesh, color=\"red\", show=False))\n",
    "fig.show()"
   ]
  }
 ],
 "metadata": {
  "jupytext": {
   "cell_metadata_filter": "-all",
   "main_language": "python",
   "notebook_metadata_filter": "-all"
  }
 },
 "nbformat": 4,
 "nbformat_minor": 5
}
