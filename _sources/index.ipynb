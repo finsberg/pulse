{
 "cells": [
  {
   "cell_type": "markdown",
   "metadata": {},
   "source": [
    "# Pulse notebooks\n",
    "\n",
    "Here you will find a collection notebooks that walk you trough some of the different ways you can use this library.\n",
    "Note that all demos found here are also accessible in the folder [demo](demo) as pure python scripts. They are also documnented in the [documentation](https://finsberg.github.io/pulse/html/demos/demos.html).\n",
    "\n",
    "## Demos\n",
    "\n",
    "* [Unit Cube](notebooks/unit_cube_demo.ipynb)\n",
    "* [Simple Ellipsoid](notebooks/simple_ellipsoid.ipynb)\n",
    "* Cardiac Mechanics Benchmark\n",
    "    - [Problem 1](notebooks/bechmark_problem1.ipynb)\n",
    "    - [Problem 2](notebooks/bechmark_problem2.ipynb)\n",
    "    - [Problem 3](notebooks/bechmark_problem3.ipynb)\n",
    "* [Compressible Model](notebooks/compressible_model.ipynb)\n",
    "* [Custom material model](notebooks/custom_material.ipynb)\n",
    "* [Klotz curve](notebooks/klotz_curve.ipynb)\n",
    "* [Unloading](notebooks/unloading.ipynb)"
   ]
  },
  {
   "cell_type": "code",
   "execution_count": null,
   "metadata": {},
   "outputs": [],
   "source": []
  }
 ],
 "metadata": {
  "kernelspec": {
   "display_name": "Python 3",
   "language": "python",
   "name": "python3"
  },
  "language_info": {
   "codemirror_mode": {
    "name": "ipython",
    "version": 3
   },
   "file_extension": ".py",
   "mimetype": "text/x-python",
   "name": "python",
   "nbconvert_exporter": "python",
   "pygments_lexer": "ipython3",
   "version": "3.6.4"
  }
 },
 "nbformat": 4,
 "nbformat_minor": 2
}
