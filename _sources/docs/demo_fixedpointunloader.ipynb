{
 "cells": [
  {
   "cell_type": "markdown",
   "id": "ab471c73",
   "metadata": {},
   "source": [
    "# Finding the unloaded geometry\n"
   ]
  },
  {
   "cell_type": "code",
   "execution_count": null,
   "id": "80b7c2fc",
   "metadata": {},
   "outputs": [],
   "source": [
    "from fenics_plotly import plot"
   ]
  },
  {
   "cell_type": "code",
   "execution_count": null,
   "id": "4a208b7d",
   "metadata": {
    "lines_to_next_cell": 2
   },
   "outputs": [],
   "source": [
    "import pulse"
   ]
  },
  {
   "cell_type": "code",
   "execution_count": null,
   "id": "6258a36c",
   "metadata": {},
   "outputs": [],
   "source": [
    "geometry = pulse.HeartGeometry.from_file(pulse.mesh_paths[\"simple_ellipsoid\"])\n",
    "# geometry = pulse.geometries.prolate_ellipsoid_geometry(mesh_size_factor=3.0)\n",
    "material = pulse.NeoHookean()\n",
    "# material = pulse.Guccione()"
   ]
  },
  {
   "cell_type": "code",
   "execution_count": null,
   "id": "b795a300",
   "metadata": {},
   "outputs": [],
   "source": [
    "# Parameter for the cardiac boundary conditions\n",
    "bcs_parameters = pulse.MechanicsProblem.default_bcs_parameters()\n",
    "bcs_parameters[\"base_spring\"] = 1.0\n",
    "bcs_parameters[\"base_bc\"] = \"fix_x\""
   ]
  },
  {
   "cell_type": "code",
   "execution_count": null,
   "id": "a5a3e993",
   "metadata": {},
   "outputs": [],
   "source": [
    "# Create the problem\n",
    "problem = pulse.MechanicsProblem(geometry, material, bcs_parameters=bcs_parameters)"
   ]
  },
  {
   "cell_type": "code",
   "execution_count": null,
   "id": "cc04c2d2",
   "metadata": {},
   "outputs": [],
   "source": [
    "# Suppose geometry is loaded with a pressure of 1 kPa\n",
    "# and create the unloader\n",
    "unloader = pulse.FixedPointUnloader(problem=problem, pressure=3.0)"
   ]
  },
  {
   "cell_type": "code",
   "execution_count": null,
   "id": "a09f0421",
   "metadata": {},
   "outputs": [],
   "source": [
    "# Unload the geometry\n",
    "unloader.unload()"
   ]
  },
  {
   "cell_type": "code",
   "execution_count": null,
   "id": "1981fc2c",
   "metadata": {},
   "outputs": [],
   "source": [
    "# Get the unloaded geometry\n",
    "unloaded_geometry = unloader.unloaded_geometry"
   ]
  },
  {
   "cell_type": "code",
   "execution_count": null,
   "id": "6b1bfc6f",
   "metadata": {},
   "outputs": [],
   "source": [
    "fig = plot(geometry.mesh, opacity=0.0, show=False)\n",
    "fig.add_plot(plot(unloaded_geometry.mesh, color=\"red\", show=False))\n",
    "fig.show()"
   ]
  }
 ],
 "metadata": {
  "jupytext": {
   "cell_metadata_filter": "-all",
   "main_language": "python",
   "notebook_metadata_filter": "-all"
  }
 },
 "nbformat": 4,
 "nbformat_minor": 5
}
