{
 "cells": [
  {
   "cell_type": "markdown",
   "id": "4de079bb",
   "metadata": {},
   "source": [
    "# Finding the unloaded geometry\n"
   ]
  },
  {
   "cell_type": "code",
   "execution_count": null,
   "id": "4fc53092",
   "metadata": {},
   "outputs": [],
   "source": [
    "from fenics_plotly import plot"
   ]
  },
  {
   "cell_type": "code",
   "execution_count": null,
   "id": "d9dfa74a",
   "metadata": {
    "lines_to_next_cell": 2
   },
   "outputs": [],
   "source": [
    "import pulse"
   ]
  },
  {
   "cell_type": "code",
   "execution_count": null,
   "id": "c2fd7d4f",
   "metadata": {},
   "outputs": [],
   "source": [
    "geometry = pulse.HeartGeometry.from_file(pulse.mesh_paths[\"simple_ellipsoid\"])\n",
    "# geometry = pulse.geometries.prolate_ellipsoid_geometry(mesh_size_factor=3.0)\n",
    "material = pulse.NeoHookean()\n",
    "# material = pulse.Guccione()"
   ]
  },
  {
   "cell_type": "code",
   "execution_count": null,
   "id": "a5f3ff82",
   "metadata": {},
   "outputs": [],
   "source": [
    "# Parameter for the cardiac boundary conditions\n",
    "bcs_parameters = pulse.MechanicsProblem.default_bcs_parameters()\n",
    "bcs_parameters[\"base_spring\"] = 1.0\n",
    "bcs_parameters[\"base_bc\"] = \"fix_x\""
   ]
  },
  {
   "cell_type": "code",
   "execution_count": null,
   "id": "0b065f21",
   "metadata": {},
   "outputs": [],
   "source": [
    "# Create the problem\n",
    "problem = pulse.MechanicsProblem(geometry, material, bcs_parameters=bcs_parameters)"
   ]
  },
  {
   "cell_type": "code",
   "execution_count": null,
   "id": "08779c64",
   "metadata": {},
   "outputs": [],
   "source": [
    "# Suppose geometry is loaded with a pressure of 1 kPa\n",
    "# and create the unloader\n",
    "unloader = pulse.FixedPointUnloader(problem=problem, pressure=3.0)"
   ]
  },
  {
   "cell_type": "code",
   "execution_count": null,
   "id": "79d7efe6",
   "metadata": {},
   "outputs": [],
   "source": [
    "# Unload the geometry\n",
    "unloader.unload()"
   ]
  },
  {
   "cell_type": "code",
   "execution_count": null,
   "id": "04a89deb",
   "metadata": {},
   "outputs": [],
   "source": [
    "# Get the unloaded geometry\n",
    "unloaded_geometry = unloader.unloaded_geometry"
   ]
  },
  {
   "cell_type": "code",
   "execution_count": null,
   "id": "87964d04",
   "metadata": {},
   "outputs": [],
   "source": [
    "fig = plot(geometry.mesh, opacity=0.0, show=False)\n",
    "fig.add_plot(plot(unloaded_geometry.mesh, color=\"red\", show=False))\n",
    "fig.show()"
   ]
  }
 ],
 "metadata": {
  "jupytext": {
   "cell_metadata_filter": "-all",
   "main_language": "python",
   "notebook_metadata_filter": "-all"
  }
 },
 "nbformat": 4,
 "nbformat_minor": 5
}
