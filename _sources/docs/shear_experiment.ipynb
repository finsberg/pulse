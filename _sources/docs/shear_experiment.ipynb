{
 "cells": [
  {
   "cell_type": "markdown",
   "id": "42158fa5",
   "metadata": {},
   "source": [
    "# Shear experiment\n",
    "Attempt to reproduce Figure 7 in [1].\n",
    "\n",
    "\n",
    "> [1] Holzapfel, Gerhard A., and Ray W. Ogden.\n",
    "    \"Constitutive modelling of passive myocardium:\n",
    "    a structurally based framework for material characterization.\n",
    "    \"Philosophical Transactions of the Royal Society of London A:\n",
    "    Mathematical, Physical and Engineering Sciences 367.1902 (2009): 3445-3475.\n"
   ]
  },
  {
   "cell_type": "code",
   "execution_count": null,
   "id": "fee3ea0e",
   "metadata": {},
   "outputs": [],
   "source": [
    "from __future__ import annotations\n",
    "from pathlib import Path\n",
    "import dolfin\n",
    "import matplotlib.pyplot as plt\n",
    "import numpy as np\n",
    "import ufl\n",
    "import typing"
   ]
  },
  {
   "cell_type": "code",
   "execution_count": null,
   "id": "1e5e0a22",
   "metadata": {},
   "outputs": [],
   "source": [
    "import pulse\n",
    "from pulse.mechanicsproblem import MechanicsProblem"
   ]
  },
  {
   "cell_type": "code",
   "execution_count": null,
   "id": "cd0433b5",
   "metadata": {},
   "outputs": [],
   "source": [
    "try:\n",
    "    from dolfin_adjoint import (\n",
    "        Constant,\n",
    "        DirichletBC,\n",
    "        Expression,\n",
    "        UnitCubeMesh,\n",
    "        interpolate,\n",
    "        Function,\n",
    "    )\n",
    "except ImportError:\n",
    "    from dolfin import (\n",
    "        Constant,\n",
    "        DirichletBC,\n",
    "        interpolate,\n",
    "        Expression,\n",
    "        UnitCubeMesh,\n",
    "        Function,\n",
    "    )"
   ]
  },
  {
   "cell_type": "code",
   "execution_count": null,
   "id": "101505c6",
   "metadata": {},
   "outputs": [],
   "source": [
    "class Experiment(typing.NamedTuple):\n",
    "    problem: MechanicsProblem\n",
    "    increment: typing.Callable[[float], typing.Tuple[float, float, float]]\n",
    "    shear_component: typing.Callable[[ufl.tensors.ComponentTensor], float]"
   ]
  },
  {
   "cell_type": "code",
   "execution_count": null,
   "id": "c8a5dd23",
   "metadata": {
    "lines_to_next_cell": 2
   },
   "outputs": [],
   "source": [
    "# Create mesh\n",
    "N = 2\n",
    "mesh = UnitCubeMesh(N, N, N)"
   ]
  },
  {
   "cell_type": "markdown",
   "id": "7cf62f96",
   "metadata": {},
   "source": [
    "Create a facet fuction in order to mark the subdomains"
   ]
  },
  {
   "cell_type": "code",
   "execution_count": null,
   "id": "60b0df1b",
   "metadata": {},
   "outputs": [],
   "source": [
    "ffun = dolfin.MeshFunction(\"size_t\", mesh, 2)\n",
    "ffun.set_all(0)"
   ]
  },
  {
   "cell_type": "markdown",
   "id": "66f2d64b",
   "metadata": {},
   "source": [
    "Mark subdomains"
   ]
  },
  {
   "cell_type": "code",
   "execution_count": null,
   "id": "131c4fe7",
   "metadata": {},
   "outputs": [],
   "source": [
    "xlow = dolfin.CompiledSubDomain(\"near(x[0], 0) && on_boundary\")\n",
    "xlow_marker = 1\n",
    "xlow.mark(ffun, xlow_marker)"
   ]
  },
  {
   "cell_type": "code",
   "execution_count": null,
   "id": "e5c30b34",
   "metadata": {},
   "outputs": [],
   "source": [
    "xhigh = dolfin.CompiledSubDomain(\"near(x[0], 1.0) && on_boundary\")\n",
    "xhigh_marker = 2\n",
    "xhigh.mark(ffun, xhigh_marker)"
   ]
  },
  {
   "cell_type": "code",
   "execution_count": null,
   "id": "ec4c4ba5",
   "metadata": {},
   "outputs": [],
   "source": [
    "ylow = dolfin.CompiledSubDomain(\"near(x[1], 0) && on_boundary\")\n",
    "ylow_marker = 3\n",
    "ylow.mark(ffun, ylow_marker)"
   ]
  },
  {
   "cell_type": "code",
   "execution_count": null,
   "id": "c0f6b355",
   "metadata": {},
   "outputs": [],
   "source": [
    "yhigh = dolfin.CompiledSubDomain(\"near(x[1], 1) && on_boundary\")\n",
    "yhigh_marker = 4\n",
    "yhigh.mark(ffun, yhigh_marker)"
   ]
  },
  {
   "cell_type": "code",
   "execution_count": null,
   "id": "951eeb64",
   "metadata": {},
   "outputs": [],
   "source": [
    "zlow = dolfin.CompiledSubDomain(\"near(x[2], 0) && on_boundary\")\n",
    "zlow_marker = 5\n",
    "zlow.mark(ffun, zlow_marker)"
   ]
  },
  {
   "cell_type": "code",
   "execution_count": null,
   "id": "27cda4f3",
   "metadata": {
    "lines_to_next_cell": 2
   },
   "outputs": [],
   "source": [
    "zhigh = dolfin.CompiledSubDomain(\"near(x[2], 1) && on_boundary\")\n",
    "zhigh_marker = 6\n",
    "zhigh.mark(ffun, zhigh_marker)"
   ]
  },
  {
   "cell_type": "markdown",
   "id": "d1a34386",
   "metadata": {},
   "source": [
    "Collect the functions containing the markers"
   ]
  },
  {
   "cell_type": "code",
   "execution_count": null,
   "id": "a8d2deef",
   "metadata": {
    "lines_to_next_cell": 2
   },
   "outputs": [],
   "source": [
    "marker_functions = pulse.MarkerFunctions(ffun=ffun)"
   ]
  },
  {
   "cell_type": "markdown",
   "id": "ff48544d",
   "metadata": {},
   "source": [
    "Create mictrotructure"
   ]
  },
  {
   "cell_type": "code",
   "execution_count": null,
   "id": "1d905d6c",
   "metadata": {},
   "outputs": [],
   "source": [
    "V_f = dolfin.VectorFunctionSpace(mesh, \"CG\", 1)"
   ]
  },
  {
   "cell_type": "markdown",
   "id": "12586c2a",
   "metadata": {},
   "source": [
    "Fibers, sheets and fiber-sheet normal"
   ]
  },
  {
   "cell_type": "code",
   "execution_count": null,
   "id": "40c13694",
   "metadata": {},
   "outputs": [],
   "source": [
    "f0 = interpolate(Expression((\"1.0\", \"0.0\", \"0.0\"), degree=1), V_f)\n",
    "s0 = interpolate(Expression((\"0.0\", \"1.0\", \"0.0\"), degree=1), V_f)\n",
    "n0 = interpolate(Expression((\"0.0\", \"0.0\", \"1.0\"), degree=1), V_f)"
   ]
  },
  {
   "cell_type": "markdown",
   "id": "ad8f4380",
   "metadata": {},
   "source": [
    "Collect the mictrotructure"
   ]
  },
  {
   "cell_type": "code",
   "execution_count": null,
   "id": "9da509a0",
   "metadata": {},
   "outputs": [],
   "source": [
    "microstructure = pulse.Microstructure(f0=f0, s0=s0, n0=n0)"
   ]
  },
  {
   "cell_type": "markdown",
   "id": "757d8482",
   "metadata": {},
   "source": [
    "Create the geometry"
   ]
  },
  {
   "cell_type": "code",
   "execution_count": null,
   "id": "4fb489ff",
   "metadata": {},
   "outputs": [],
   "source": [
    "geometry = pulse.Geometry(\n",
    "    mesh=mesh,\n",
    "    marker_functions=marker_functions,\n",
    "    microstructure=microstructure,\n",
    ")"
   ]
  },
  {
   "cell_type": "markdown",
   "id": "f64ec60f",
   "metadata": {},
   "source": [
    "Use the default material parameters from the paper"
   ]
  },
  {
   "cell_type": "code",
   "execution_count": null,
   "id": "ece16884",
   "metadata": {},
   "outputs": [],
   "source": [
    "material_parameters = {\n",
    "    \"a\": 0.059,\n",
    "    \"b\": 8.023,\n",
    "    \"a_f\": 18.472,\n",
    "    \"b_f\": 16.026,\n",
    "    \"a_s\": 2.481,\n",
    "    \"b_s\": 11.120,\n",
    "    \"a_fs\": 0.216,\n",
    "    \"b_fs\": 11.436,\n",
    "}"
   ]
  },
  {
   "cell_type": "markdown",
   "id": "cf6cb3ba",
   "metadata": {},
   "source": [
    "Create material"
   ]
  },
  {
   "cell_type": "code",
   "execution_count": null,
   "id": "fd85c454",
   "metadata": {},
   "outputs": [],
   "source": [
    "material = pulse.HolzapfelOgden(parameters=material_parameters)"
   ]
  },
  {
   "cell_type": "markdown",
   "id": "1db498c7",
   "metadata": {},
   "source": [
    "Make a space for controling the amount of shear displacement"
   ]
  },
  {
   "cell_type": "code",
   "execution_count": null,
   "id": "94c97e2f",
   "metadata": {
    "lines_to_next_cell": 2
   },
   "outputs": [],
   "source": [
    "X_space = dolfin.VectorFunctionSpace(mesh, \"R\", 0)\n",
    "x = Function(X_space)\n",
    "zero = Constant((0.0, 0.0, 0.0))"
   ]
  },
  {
   "cell_type": "markdown",
   "id": "5971fb4d",
   "metadata": {
    "lines_to_next_cell": 2
   },
   "source": [
    "Make a method that will return"
   ]
  },
  {
   "cell_type": "code",
   "execution_count": null,
   "id": "9e0113d2",
   "metadata": {},
   "outputs": [],
   "source": [
    "def create_experiment(case):  # noqa: C901\n",
    "    if case == \"fs\":\n",
    "\n",
    "        def dirichlet_bc(W):\n",
    "            V = W if W.sub(0).num_sub_spaces() == 0 else W.sub(0)\n",
    "            return [\n",
    "                DirichletBC(V, zero, xlow),\n",
    "                DirichletBC(V, x, xhigh),\n",
    "            ]\n",
    "\n",
    "        def increment(xi):\n",
    "            return (0, xi, 0)\n",
    "\n",
    "        def shear_component(T):\n",
    "            return dolfin.assemble(T[0, 1] * dolfin.dx)\n",
    "\n",
    "    elif case == \"fn\":\n",
    "\n",
    "        def dirichlet_bc(W):\n",
    "            V = W if W.sub(0).num_sub_spaces() == 0 else W.sub(0)\n",
    "            return [\n",
    "                DirichletBC(V, zero, xlow),\n",
    "                DirichletBC(V, x, xhigh),\n",
    "            ]\n",
    "\n",
    "        def increment(xi):\n",
    "            return (0, 0, xi)\n",
    "\n",
    "        def shear_component(T):\n",
    "            return dolfin.assemble(T[0, 2] * dolfin.dx)\n",
    "\n",
    "    elif case == \"sf\":\n",
    "\n",
    "        def dirichlet_bc(W):\n",
    "            V = W if W.sub(0).num_sub_spaces() == 0 else W.sub(0)\n",
    "            return [\n",
    "                DirichletBC(V, zero, ylow),\n",
    "                DirichletBC(V, x, yhigh),\n",
    "            ]\n",
    "\n",
    "        def increment(xi):\n",
    "            return (xi, 0, 0)\n",
    "\n",
    "        def shear_component(T):\n",
    "            return dolfin.assemble(T[1, 0] * dolfin.dx)\n",
    "\n",
    "    elif case == \"sn\":\n",
    "\n",
    "        def dirichlet_bc(W):\n",
    "            V = W if W.sub(0).num_sub_spaces() == 0 else W.sub(0)\n",
    "            return [\n",
    "                DirichletBC(V, zero, ylow),\n",
    "                DirichletBC(V, x, yhigh),\n",
    "            ]\n",
    "\n",
    "        def increment(xi):\n",
    "            return (0, 0, xi)\n",
    "\n",
    "        def shear_component(T):\n",
    "            return dolfin.assemble(T[1, 2] * dolfin.dx)\n",
    "\n",
    "    elif case == \"nf\":\n",
    "\n",
    "        def dirichlet_bc(W):\n",
    "            V = W if W.sub(0).num_sub_spaces() == 0 else W.sub(0)\n",
    "            return [\n",
    "                DirichletBC(V, zero, zlow),\n",
    "                DirichletBC(V, x, zhigh),\n",
    "            ]\n",
    "\n",
    "        def increment(xi):\n",
    "            return (xi, 0, 0)\n",
    "\n",
    "        def shear_component(T):\n",
    "            return dolfin.assemble(T[2, 0] * dolfin.dx)\n",
    "\n",
    "    elif case == \"ns\":\n",
    "\n",
    "        def dirichlet_bc(W):\n",
    "            V = W if W.sub(0).num_sub_spaces() == 0 else W.sub(0)\n",
    "            return [\n",
    "                DirichletBC(V, zero, zlow),\n",
    "                DirichletBC(V, x, zhigh),\n",
    "            ]\n",
    "\n",
    "        def increment(xi):\n",
    "            return (0, xi, 0)\n",
    "\n",
    "        def shear_component(T):\n",
    "            return dolfin.assemble(T[2, 1] * dolfin.dx)\n",
    "\n",
    "    else:\n",
    "        raise ValueError(f\"Unknown case {case}\")\n",
    "\n",
    "    # Collect Boundary Conditions\n",
    "    bcs = pulse.BoundaryConditions(dirichlet=(dirichlet_bc,))\n",
    "\n",
    "    # Create problem\n",
    "    return Experiment(\n",
    "        problem=pulse.MechanicsProblem(geometry, material, bcs),\n",
    "        increment=increment,\n",
    "        shear_component=shear_component,\n",
    "    )"
   ]
  },
  {
   "cell_type": "markdown",
   "id": "ac0864ad",
   "metadata": {},
   "source": [
    "Loop over all modes and collect the stress values"
   ]
  },
  {
   "cell_type": "code",
   "execution_count": null,
   "id": "5ba88d85",
   "metadata": {},
   "outputs": [],
   "source": [
    "modes = [\"fs\", \"fn\", \"sf\", \"sn\", \"nf\", \"ns\"]\n",
    "stress: dict[str, dict[str, list[float]]] = {\n",
    "    \"cauchy\": {m: [] for m in modes},\n",
    "    \"pk1\": {m: [] for m in modes},\n",
    "}\n",
    "shear_values = np.linspace(0, 0.6, 10)\n",
    "recompute = True\n",
    "# Solve problem\n",
    "results_file = Path(\"result.npy\")\n",
    "if recompute or not results_file.is_file():\n",
    "    for mode in modes:\n",
    "        x.assign(zero)\n",
    "        experiment = create_experiment(mode)\n",
    "\n",
    "        for shear in shear_values:\n",
    "            pulse.iterate.iterate(\n",
    "                experiment.problem,\n",
    "                x,\n",
    "                experiment.increment(shear),\n",
    "                reinit_each_step=True,\n",
    "            )\n",
    "            stress[\"cauchy\"][mode].append(\n",
    "                experiment.shear_component(experiment.problem.ChachyStress()),\n",
    "            )\n",
    "            stress[\"pk1\"][mode].append(\n",
    "                experiment.shear_component(experiment.problem.FirstPiolaStress()),\n",
    "            )\n",
    "\n",
    "    np.save(results_file, stress)"
   ]
  },
  {
   "cell_type": "markdown",
   "id": "f23a30cc",
   "metadata": {},
   "source": [
    "Plot results"
   ]
  },
  {
   "cell_type": "code",
   "execution_count": null,
   "id": "74b21107",
   "metadata": {},
   "outputs": [],
   "source": [
    "stress = np.load(results_file, allow_pickle=True).item()\n",
    "fig, ax = plt.subplots(1, 2, sharey=True, sharex=True)\n",
    "for mode, values in stress[\"cauchy\"].items():\n",
    "    ax[0].plot(shear_values, stress[\"cauchy\"][mode], label=mode)\n",
    "ax[0].set_title(\"Cauchy Stress\")\n",
    "for mode, values in stress[\"pk1\"].items():\n",
    "    ax[1].plot(shear_values, stress[\"pk1\"][mode], label=mode)\n",
    "ax[1].set_title(\"First Piola Kirchhoff Stress\")\n",
    "ax[0].set_ylabel(\"Shear stress (kPa)\")\n",
    "for axi in ax:\n",
    "    axi.set_xlabel(\"Amount of shear\")\n",
    "    axi.set_ylim((0, 16))\n",
    "    axi.grid()\n",
    "    axi.legend()\n",
    "plt.show()"
   ]
  }
 ],
 "metadata": {
  "jupytext": {
   "cell_metadata_filter": "-all",
   "main_language": "python",
   "notebook_metadata_filter": "-all"
  }
 },
 "nbformat": 4,
 "nbformat_minor": 5
}
