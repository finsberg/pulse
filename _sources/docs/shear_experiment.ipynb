{
 "cells": [
  {
   "cell_type": "markdown",
   "id": "1ab008de",
   "metadata": {},
   "source": [
    "# Shear experiment\n",
    "Attempt to reproduce Figure 7 in [1].\n",
    "\n",
    "\n",
    "> [1] Holzapfel, Gerhard A., and Ray W. Ogden.\n",
    "    \"Constitutive modelling of passive myocardium:\n",
    "    a structurally based framework for material characterization.\n",
    "    \"Philosophical Transactions of the Royal Society of London A:\n",
    "    Mathematical, Physical and Engineering Sciences 367.1902 (2009): 3445-3475.\n"
   ]
  },
  {
   "cell_type": "code",
   "execution_count": null,
   "id": "9030cef9",
   "metadata": {},
   "outputs": [],
   "source": [
    "from __future__ import annotations\n",
    "from pathlib import Path\n",
    "import dolfin\n",
    "import matplotlib.pyplot as plt\n",
    "import numpy as np"
   ]
  },
  {
   "cell_type": "code",
   "execution_count": null,
   "id": "5a0510b2",
   "metadata": {},
   "outputs": [],
   "source": [
    "try:\n",
    "    import ufl_legacy as ufl\n",
    "except ImportError:\n",
    "    import ufl\n",
    "import typing"
   ]
  },
  {
   "cell_type": "code",
   "execution_count": null,
   "id": "4461da26",
   "metadata": {},
   "outputs": [],
   "source": [
    "import pulse\n",
    "from pulse.mechanicsproblem import MechanicsProblem"
   ]
  },
  {
   "cell_type": "code",
   "execution_count": null,
   "id": "f5624580",
   "metadata": {},
   "outputs": [],
   "source": [
    "try:\n",
    "    from dolfin_adjoint import (\n",
    "        Constant,\n",
    "        DirichletBC,\n",
    "        Expression,\n",
    "        UnitCubeMesh,\n",
    "        interpolate,\n",
    "        Function,\n",
    "    )\n",
    "except ImportError:\n",
    "    from dolfin import (\n",
    "        Constant,\n",
    "        DirichletBC,\n",
    "        interpolate,\n",
    "        Expression,\n",
    "        UnitCubeMesh,\n",
    "        Function,\n",
    "    )"
   ]
  },
  {
   "cell_type": "code",
   "execution_count": null,
   "id": "54467e14",
   "metadata": {},
   "outputs": [],
   "source": [
    "class Experiment(typing.NamedTuple):\n",
    "    problem: MechanicsProblem\n",
    "    increment: typing.Callable[[float], typing.Tuple[float, float, float]]\n",
    "    shear_component: typing.Callable[[ufl.tensors.ComponentTensor], float]"
   ]
  },
  {
   "cell_type": "code",
   "execution_count": null,
   "id": "87f4be19",
   "metadata": {
    "lines_to_next_cell": 2
   },
   "outputs": [],
   "source": [
    "# Create mesh\n",
    "N = 2\n",
    "mesh = UnitCubeMesh(N, N, N)"
   ]
  },
  {
   "cell_type": "markdown",
   "id": "5d932b85",
   "metadata": {},
   "source": [
    "Create a facet fuction in order to mark the subdomains"
   ]
  },
  {
   "cell_type": "code",
   "execution_count": null,
   "id": "723dc51a",
   "metadata": {},
   "outputs": [],
   "source": [
    "ffun = dolfin.MeshFunction(\"size_t\", mesh, 2)\n",
    "ffun.set_all(0)"
   ]
  },
  {
   "cell_type": "markdown",
   "id": "1d39f811",
   "metadata": {},
   "source": [
    "Mark subdomains"
   ]
  },
  {
   "cell_type": "code",
   "execution_count": null,
   "id": "5eae9332",
   "metadata": {},
   "outputs": [],
   "source": [
    "xlow = dolfin.CompiledSubDomain(\"near(x[0], 0) && on_boundary\")\n",
    "xlow_marker = 1\n",
    "xlow.mark(ffun, xlow_marker)"
   ]
  },
  {
   "cell_type": "code",
   "execution_count": null,
   "id": "79e86822",
   "metadata": {},
   "outputs": [],
   "source": [
    "xhigh = dolfin.CompiledSubDomain(\"near(x[0], 1.0) && on_boundary\")\n",
    "xhigh_marker = 2\n",
    "xhigh.mark(ffun, xhigh_marker)"
   ]
  },
  {
   "cell_type": "code",
   "execution_count": null,
   "id": "bb915be3",
   "metadata": {},
   "outputs": [],
   "source": [
    "ylow = dolfin.CompiledSubDomain(\"near(x[1], 0) && on_boundary\")\n",
    "ylow_marker = 3\n",
    "ylow.mark(ffun, ylow_marker)"
   ]
  },
  {
   "cell_type": "code",
   "execution_count": null,
   "id": "6ccb110f",
   "metadata": {},
   "outputs": [],
   "source": [
    "yhigh = dolfin.CompiledSubDomain(\"near(x[1], 1) && on_boundary\")\n",
    "yhigh_marker = 4\n",
    "yhigh.mark(ffun, yhigh_marker)"
   ]
  },
  {
   "cell_type": "code",
   "execution_count": null,
   "id": "6c8dc8a5",
   "metadata": {},
   "outputs": [],
   "source": [
    "zlow = dolfin.CompiledSubDomain(\"near(x[2], 0) && on_boundary\")\n",
    "zlow_marker = 5\n",
    "zlow.mark(ffun, zlow_marker)"
   ]
  },
  {
   "cell_type": "code",
   "execution_count": null,
   "id": "4240e75d",
   "metadata": {
    "lines_to_next_cell": 2
   },
   "outputs": [],
   "source": [
    "zhigh = dolfin.CompiledSubDomain(\"near(x[2], 1) && on_boundary\")\n",
    "zhigh_marker = 6\n",
    "zhigh.mark(ffun, zhigh_marker)"
   ]
  },
  {
   "cell_type": "markdown",
   "id": "17dcf07a",
   "metadata": {},
   "source": [
    "Collect the functions containing the markers"
   ]
  },
  {
   "cell_type": "code",
   "execution_count": null,
   "id": "730f5879",
   "metadata": {
    "lines_to_next_cell": 2
   },
   "outputs": [],
   "source": [
    "marker_functions = pulse.MarkerFunctions(ffun=ffun)"
   ]
  },
  {
   "cell_type": "markdown",
   "id": "00e5939a",
   "metadata": {},
   "source": [
    "Create mictrotructure"
   ]
  },
  {
   "cell_type": "code",
   "execution_count": null,
   "id": "123e05fa",
   "metadata": {},
   "outputs": [],
   "source": [
    "V_f = dolfin.VectorFunctionSpace(mesh, \"CG\", 1)"
   ]
  },
  {
   "cell_type": "markdown",
   "id": "4067f9f3",
   "metadata": {},
   "source": [
    "Fibers, sheets and fiber-sheet normal"
   ]
  },
  {
   "cell_type": "code",
   "execution_count": null,
   "id": "869bfae8",
   "metadata": {},
   "outputs": [],
   "source": [
    "f0 = interpolate(Expression((\"1.0\", \"0.0\", \"0.0\"), degree=1), V_f)\n",
    "s0 = interpolate(Expression((\"0.0\", \"1.0\", \"0.0\"), degree=1), V_f)\n",
    "n0 = interpolate(Expression((\"0.0\", \"0.0\", \"1.0\"), degree=1), V_f)"
   ]
  },
  {
   "cell_type": "markdown",
   "id": "866b5964",
   "metadata": {},
   "source": [
    "Collect the mictrotructure"
   ]
  },
  {
   "cell_type": "code",
   "execution_count": null,
   "id": "260433c9",
   "metadata": {},
   "outputs": [],
   "source": [
    "microstructure = pulse.Microstructure(f0=f0, s0=s0, n0=n0)"
   ]
  },
  {
   "cell_type": "markdown",
   "id": "edcd0cc3",
   "metadata": {},
   "source": [
    "Create the geometry"
   ]
  },
  {
   "cell_type": "code",
   "execution_count": null,
   "id": "1d9e667f",
   "metadata": {},
   "outputs": [],
   "source": [
    "geometry = pulse.Geometry(\n",
    "    mesh=mesh,\n",
    "    marker_functions=marker_functions,\n",
    "    microstructure=microstructure,\n",
    ")"
   ]
  },
  {
   "cell_type": "markdown",
   "id": "074e028c",
   "metadata": {},
   "source": [
    "Use the default material parameters from the paper"
   ]
  },
  {
   "cell_type": "code",
   "execution_count": null,
   "id": "d2c37f97",
   "metadata": {},
   "outputs": [],
   "source": [
    "material_parameters = {\n",
    "    \"a\": 0.059,\n",
    "    \"b\": 8.023,\n",
    "    \"a_f\": 18.472,\n",
    "    \"b_f\": 16.026,\n",
    "    \"a_s\": 2.481,\n",
    "    \"b_s\": 11.120,\n",
    "    \"a_fs\": 0.216,\n",
    "    \"b_fs\": 11.436,\n",
    "}"
   ]
  },
  {
   "cell_type": "markdown",
   "id": "a7dd8f70",
   "metadata": {},
   "source": [
    "Create material"
   ]
  },
  {
   "cell_type": "code",
   "execution_count": null,
   "id": "b35e2dd9",
   "metadata": {},
   "outputs": [],
   "source": [
    "material = pulse.HolzapfelOgden(parameters=material_parameters)"
   ]
  },
  {
   "cell_type": "markdown",
   "id": "b30a7051",
   "metadata": {},
   "source": [
    "Make a space for controling the amount of shear displacement"
   ]
  },
  {
   "cell_type": "code",
   "execution_count": null,
   "id": "32a2b332",
   "metadata": {
    "lines_to_next_cell": 2
   },
   "outputs": [],
   "source": [
    "X_space = dolfin.VectorFunctionSpace(mesh, \"R\", 0)\n",
    "x = Function(X_space)\n",
    "zero = Constant((0.0, 0.0, 0.0))"
   ]
  },
  {
   "cell_type": "markdown",
   "id": "8901b25b",
   "metadata": {
    "lines_to_next_cell": 2
   },
   "source": [
    "Make a method that will return"
   ]
  },
  {
   "cell_type": "code",
   "execution_count": null,
   "id": "13bcf321",
   "metadata": {},
   "outputs": [],
   "source": [
    "def create_experiment(case):  # noqa: C901\n",
    "    if case == \"fs\":\n",
    "\n",
    "        def dirichlet_bc(W):\n",
    "            V = W if W.sub(0).num_sub_spaces() == 0 else W.sub(0)\n",
    "            return [\n",
    "                DirichletBC(V, zero, xlow),\n",
    "                DirichletBC(V, x, xhigh),\n",
    "            ]\n",
    "\n",
    "        def increment(xi):\n",
    "            return (0, xi, 0)\n",
    "\n",
    "        def shear_component(T):\n",
    "            return dolfin.assemble(T[0, 1] * dolfin.dx)\n",
    "\n",
    "    elif case == \"fn\":\n",
    "\n",
    "        def dirichlet_bc(W):\n",
    "            V = W if W.sub(0).num_sub_spaces() == 0 else W.sub(0)\n",
    "            return [\n",
    "                DirichletBC(V, zero, xlow),\n",
    "                DirichletBC(V, x, xhigh),\n",
    "            ]\n",
    "\n",
    "        def increment(xi):\n",
    "            return (0, 0, xi)\n",
    "\n",
    "        def shear_component(T):\n",
    "            return dolfin.assemble(T[0, 2] * dolfin.dx)\n",
    "\n",
    "    elif case == \"sf\":\n",
    "\n",
    "        def dirichlet_bc(W):\n",
    "            V = W if W.sub(0).num_sub_spaces() == 0 else W.sub(0)\n",
    "            return [\n",
    "                DirichletBC(V, zero, ylow),\n",
    "                DirichletBC(V, x, yhigh),\n",
    "            ]\n",
    "\n",
    "        def increment(xi):\n",
    "            return (xi, 0, 0)\n",
    "\n",
    "        def shear_component(T):\n",
    "            return dolfin.assemble(T[1, 0] * dolfin.dx)\n",
    "\n",
    "    elif case == \"sn\":\n",
    "\n",
    "        def dirichlet_bc(W):\n",
    "            V = W if W.sub(0).num_sub_spaces() == 0 else W.sub(0)\n",
    "            return [\n",
    "                DirichletBC(V, zero, ylow),\n",
    "                DirichletBC(V, x, yhigh),\n",
    "            ]\n",
    "\n",
    "        def increment(xi):\n",
    "            return (0, 0, xi)\n",
    "\n",
    "        def shear_component(T):\n",
    "            return dolfin.assemble(T[1, 2] * dolfin.dx)\n",
    "\n",
    "    elif case == \"nf\":\n",
    "\n",
    "        def dirichlet_bc(W):\n",
    "            V = W if W.sub(0).num_sub_spaces() == 0 else W.sub(0)\n",
    "            return [\n",
    "                DirichletBC(V, zero, zlow),\n",
    "                DirichletBC(V, x, zhigh),\n",
    "            ]\n",
    "\n",
    "        def increment(xi):\n",
    "            return (xi, 0, 0)\n",
    "\n",
    "        def shear_component(T):\n",
    "            return dolfin.assemble(T[2, 0] * dolfin.dx)\n",
    "\n",
    "    elif case == \"ns\":\n",
    "\n",
    "        def dirichlet_bc(W):\n",
    "            V = W if W.sub(0).num_sub_spaces() == 0 else W.sub(0)\n",
    "            return [\n",
    "                DirichletBC(V, zero, zlow),\n",
    "                DirichletBC(V, x, zhigh),\n",
    "            ]\n",
    "\n",
    "        def increment(xi):\n",
    "            return (0, xi, 0)\n",
    "\n",
    "        def shear_component(T):\n",
    "            return dolfin.assemble(T[2, 1] * dolfin.dx)\n",
    "\n",
    "    else:\n",
    "        raise ValueError(f\"Unknown case {case}\")\n",
    "\n",
    "    # Collect Boundary Conditions\n",
    "    bcs = pulse.BoundaryConditions(dirichlet=(dirichlet_bc,))\n",
    "\n",
    "    # Create problem\n",
    "    return Experiment(\n",
    "        problem=pulse.MechanicsProblem(geometry, material, bcs),\n",
    "        increment=increment,\n",
    "        shear_component=shear_component,\n",
    "    )"
   ]
  },
  {
   "cell_type": "markdown",
   "id": "4b6032b1",
   "metadata": {},
   "source": [
    "Loop over all modes and collect the stress values"
   ]
  },
  {
   "cell_type": "code",
   "execution_count": null,
   "id": "9725acaa",
   "metadata": {},
   "outputs": [],
   "source": [
    "modes = [\"fs\", \"fn\", \"sf\", \"sn\", \"nf\", \"ns\"]\n",
    "stress: dict[str, dict[str, list[float]]] = {\n",
    "    \"cauchy\": {m: [] for m in modes},\n",
    "    \"pk1\": {m: [] for m in modes},\n",
    "}\n",
    "shear_values = np.linspace(0, 0.6, 10)\n",
    "recompute = True\n",
    "# Solve problem\n",
    "results_file = Path(\"result.npy\")\n",
    "if recompute or not results_file.is_file():\n",
    "    for mode in modes:\n",
    "        x.assign(zero)\n",
    "        experiment = create_experiment(mode)\n",
    "\n",
    "        for shear in shear_values:\n",
    "            pulse.iterate.iterate(\n",
    "                experiment.problem,\n",
    "                x,\n",
    "                experiment.increment(shear),\n",
    "                reinit_each_step=True,\n",
    "            )\n",
    "            stress[\"cauchy\"][mode].append(\n",
    "                experiment.shear_component(experiment.problem.ChachyStress()),\n",
    "            )\n",
    "            stress[\"pk1\"][mode].append(\n",
    "                experiment.shear_component(experiment.problem.FirstPiolaStress()),\n",
    "            )\n",
    "\n",
    "    np.save(results_file, stress)"
   ]
  },
  {
   "cell_type": "markdown",
   "id": "60360e3e",
   "metadata": {},
   "source": [
    "Plot results"
   ]
  },
  {
   "cell_type": "code",
   "execution_count": null,
   "id": "185bf69c",
   "metadata": {},
   "outputs": [],
   "source": [
    "stress = np.load(results_file, allow_pickle=True).item()\n",
    "fig, ax = plt.subplots(1, 2, sharey=True, sharex=True)\n",
    "for mode, values in stress[\"cauchy\"].items():\n",
    "    ax[0].plot(shear_values, stress[\"cauchy\"][mode], label=mode)\n",
    "ax[0].set_title(\"Cauchy Stress\")\n",
    "for mode, values in stress[\"pk1\"].items():\n",
    "    ax[1].plot(shear_values, stress[\"pk1\"][mode], label=mode)\n",
    "ax[1].set_title(\"First Piola Kirchhoff Stress\")\n",
    "ax[0].set_ylabel(\"Shear stress (kPa)\")\n",
    "for axi in ax:\n",
    "    axi.set_xlabel(\"Amount of shear\")\n",
    "    axi.set_ylim((0, 16))\n",
    "    axi.grid()\n",
    "    axi.legend()\n",
    "plt.show()"
   ]
  }
 ],
 "metadata": {
  "jupytext": {
   "cell_metadata_filter": "-all",
   "main_language": "python",
   "notebook_metadata_filter": "-all"
  }
 },
 "nbformat": 4,
 "nbformat_minor": 5
}
