{
 "cells": [
  {
   "cell_type": "markdown",
   "id": "de5c4252",
   "metadata": {},
   "source": [
    "# Cardiac mechanics Benchmark - Problem 1\n",
    "This code implements problem 1 in the Cardiac Mechanic Benchmark paper\n",
    "\n",
    "> Land S, Gurev V, Arens S, Augustin CM, Baron L, Blake R, Bradley C, Castro S,\n",
    "Crozier A, Favino M, Fastl TE. Verification of cardiac mechanics software:\n",
    "benchmark problems and solutions for testing active and passive material\n",
    "behaviour. Proc. R. Soc. A. 2015 Dec 8;471(2184):20150641.\n"
   ]
  },
  {
   "cell_type": "code",
   "execution_count": null,
   "id": "836181ac",
   "metadata": {},
   "outputs": [],
   "source": [
    "import dolfin\n",
    "import numpy as np"
   ]
  },
  {
   "cell_type": "code",
   "execution_count": null,
   "id": "56c1c53e",
   "metadata": {},
   "outputs": [],
   "source": [
    "try:\n",
    "    from dolfin_adjoint import (\n",
    "        BoxMesh,\n",
    "        Constant,\n",
    "        DirichletBC,\n",
    "        Expression,\n",
    "        Mesh,\n",
    "        interpolate,\n",
    "    )\n",
    "except ImportError:\n",
    "    from dolfin import BoxMesh, Expression, DirichletBC, Constant, interpolate, Mesh"
   ]
  },
  {
   "cell_type": "code",
   "execution_count": null,
   "id": "67e07a4c",
   "metadata": {
    "lines_to_next_cell": 2
   },
   "outputs": [],
   "source": [
    "import pulse\n",
    "from fenics_plotly import plot"
   ]
  },
  {
   "cell_type": "markdown",
   "id": "c6681bd5",
   "metadata": {},
   "source": [
    "Create the Beam geometry"
   ]
  },
  {
   "cell_type": "code",
   "execution_count": null,
   "id": "f1fff8bb",
   "metadata": {},
   "outputs": [],
   "source": [
    "# Length\n",
    "L = 10\n",
    "# Width\n",
    "W = 1"
   ]
  },
  {
   "cell_type": "code",
   "execution_count": null,
   "id": "1c50537e",
   "metadata": {},
   "outputs": [],
   "source": [
    "# Create mesh\n",
    "mesh = BoxMesh(dolfin.Point(0, 0, 0), dolfin.Point(L, W, W), 30, 3, 3)"
   ]
  },
  {
   "cell_type": "code",
   "execution_count": null,
   "id": "bfa140b7",
   "metadata": {},
   "outputs": [],
   "source": [
    "# Mark boundary subdomians\n",
    "left = dolfin.CompiledSubDomain(\"near(x[0], side) && on_boundary\", side=0)\n",
    "bottom = dolfin.CompiledSubDomain(\"near(x[2], side) && on_boundary\", side=0)"
   ]
  },
  {
   "cell_type": "code",
   "execution_count": null,
   "id": "efab3904",
   "metadata": {},
   "outputs": [],
   "source": [
    "boundary_markers = dolfin.MeshFunction(\"size_t\", mesh, mesh.topology().dim() - 1)\n",
    "boundary_markers.set_all(0)"
   ]
  },
  {
   "cell_type": "code",
   "execution_count": null,
   "id": "2a8f81f0",
   "metadata": {},
   "outputs": [],
   "source": [
    "left_marker = 1\n",
    "left.mark(boundary_markers, 1)\n",
    "bottom_marker = 2\n",
    "bottom.mark(boundary_markers, 2)"
   ]
  },
  {
   "cell_type": "code",
   "execution_count": null,
   "id": "d9cefb0d",
   "metadata": {},
   "outputs": [],
   "source": [
    "marker_functions = pulse.MarkerFunctions(ffun=boundary_markers)"
   ]
  },
  {
   "cell_type": "code",
   "execution_count": null,
   "id": "ceaee94e",
   "metadata": {},
   "outputs": [],
   "source": [
    "# Create mictrotructure\n",
    "f0 = Expression((\"1.0\", \"0.0\", \"0.0\"), degree=1, cell=mesh.ufl_cell())\n",
    "s0 = Expression((\"0.0\", \"1.0\", \"0.0\"), degree=1, cell=mesh.ufl_cell())\n",
    "n0 = Expression((\"0.0\", \"0.0\", \"1.0\"), degree=1, cell=mesh.ufl_cell())"
   ]
  },
  {
   "cell_type": "code",
   "execution_count": null,
   "id": "9b6462bf",
   "metadata": {},
   "outputs": [],
   "source": [
    "# Collect the mictrotructure\n",
    "microstructure = pulse.Microstructure(f0=f0, s0=s0, n0=n0)"
   ]
  },
  {
   "cell_type": "code",
   "execution_count": null,
   "id": "d590d80a",
   "metadata": {},
   "outputs": [],
   "source": [
    "# Create the geometry\n",
    "geometry = pulse.Geometry(\n",
    "    mesh=mesh,\n",
    "    marker_functions=marker_functions,\n",
    "    microstructure=microstructure,\n",
    ")"
   ]
  },
  {
   "cell_type": "code",
   "execution_count": null,
   "id": "f3c939c6",
   "metadata": {},
   "outputs": [],
   "source": [
    "# Create the material\n",
    "material_parameters = pulse.Guccione.default_parameters()\n",
    "material_parameters[\"CC\"] = 2.0\n",
    "material_parameters[\"bf\"] = 8.0\n",
    "material_parameters[\"bfs\"] = 4.0\n",
    "material_parameters[\"bt\"] = 2.0"
   ]
  },
  {
   "cell_type": "code",
   "execution_count": null,
   "id": "0da590fb",
   "metadata": {},
   "outputs": [],
   "source": [
    "material = pulse.Guccione(parameters=material_parameters)"
   ]
  },
  {
   "cell_type": "code",
   "execution_count": null,
   "id": "19d8ff55",
   "metadata": {},
   "outputs": [],
   "source": [
    "# Define Dirichlet boundary. Fix at the left boundary\n",
    "def dirichlet_bc(W):\n",
    "    V = W if W.sub(0).num_sub_spaces() == 0 else W.sub(0)\n",
    "    return DirichletBC(V, Constant((0.0, 0.0, 0.0)), left)"
   ]
  },
  {
   "cell_type": "code",
   "execution_count": null,
   "id": "d23fe9f0",
   "metadata": {},
   "outputs": [],
   "source": [
    "# Traction at the bottom of the beam\n",
    "p_bottom = Constant(0.004)\n",
    "neumann_bc = pulse.NeumannBC(traction=p_bottom, marker=bottom_marker)"
   ]
  },
  {
   "cell_type": "code",
   "execution_count": null,
   "id": "29112e58",
   "metadata": {},
   "outputs": [],
   "source": [
    "# Collect Boundary Conditions\n",
    "bcs = pulse.BoundaryConditions(dirichlet=(dirichlet_bc,), neumann=(neumann_bc,))"
   ]
  },
  {
   "cell_type": "code",
   "execution_count": null,
   "id": "566f180d",
   "metadata": {},
   "outputs": [],
   "source": [
    "# Create problem\n",
    "problem = pulse.MechanicsProblem(geometry, material, bcs)"
   ]
  },
  {
   "cell_type": "code",
   "execution_count": null,
   "id": "4ab8a972",
   "metadata": {},
   "outputs": [],
   "source": [
    "# Solve problem\n",
    "problem.solve()"
   ]
  },
  {
   "cell_type": "code",
   "execution_count": null,
   "id": "5d3a15b1",
   "metadata": {},
   "outputs": [],
   "source": [
    "# Get displacement and hydrostatic pressure\n",
    "u, p = problem.state.split(deepcopy=True)"
   ]
  },
  {
   "cell_type": "code",
   "execution_count": null,
   "id": "c532019d",
   "metadata": {},
   "outputs": [],
   "source": [
    "point = np.array([10.0, 0.5, 1.0])\n",
    "disp = np.zeros(3)\n",
    "u.eval(disp, point)"
   ]
  },
  {
   "cell_type": "code",
   "execution_count": null,
   "id": "754308f6",
   "metadata": {},
   "outputs": [],
   "source": [
    "print(\n",
    "    (\"Get z-position of point ({}): {:.4f} mm\" \"\").format(\n",
    "        \", \".join([\"{:.1f}\".format(p) for p in point]),\n",
    "        point[2] + disp[2],\n",
    "    ),\n",
    ")"
   ]
  },
  {
   "cell_type": "code",
   "execution_count": null,
   "id": "5338a619",
   "metadata": {},
   "outputs": [],
   "source": [
    "V = dolfin.VectorFunctionSpace(geometry.mesh, \"CG\", 1)\n",
    "u_int = interpolate(u, V)\n",
    "mesh = Mesh(geometry.mesh)\n",
    "dolfin.ALE.move(mesh, u_int)"
   ]
  },
  {
   "cell_type": "code",
   "execution_count": null,
   "id": "1a5645af",
   "metadata": {},
   "outputs": [],
   "source": [
    "fig = plot(geometry.mesh, show=False)\n",
    "fig.add_plot(plot(mesh, color=\"red\", show=False))\n",
    "fig.show()"
   ]
  }
 ],
 "metadata": {
  "jupytext": {
   "cell_metadata_filter": "-all",
   "main_language": "python",
   "notebook_metadata_filter": "-all"
  }
 },
 "nbformat": 4,
 "nbformat_minor": 5
}
