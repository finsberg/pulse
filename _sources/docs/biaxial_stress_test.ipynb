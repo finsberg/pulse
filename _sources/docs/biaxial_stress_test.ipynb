{
 "cells": [
  {
   "cell_type": "markdown",
   "id": "59004b2c",
   "metadata": {},
   "source": [
    "# Biaxial stress test\n",
    "\n",
    "Attempt to reproduce Figure 8 in [1].\n",
    "\n",
    "\n",
    "> [1] Holzapfel, Gerhard A., and Ray W. Ogden.\n",
    "    \"Constitutive modelling of passive myocardium:\n",
    "    a structurally based framework for material characterization.\n",
    "    \"Philosophical Transactions of the Royal Society of London A:\n",
    "    Mathematical, Physical and Engineering Sciences 367.1902 (2009): 3445-3475.\n"
   ]
  },
  {
   "cell_type": "code",
   "execution_count": null,
   "id": "b1324135",
   "metadata": {},
   "outputs": [],
   "source": [
    "import dolfin\n",
    "import matplotlib.pyplot as plt\n",
    "import numpy as np"
   ]
  },
  {
   "cell_type": "code",
   "execution_count": null,
   "id": "79e0e042",
   "metadata": {},
   "outputs": [],
   "source": [
    "try:\n",
    "    from dolfin_adjoint import (\n",
    "        Constant,\n",
    "        DirichletBC,\n",
    "        Expression,\n",
    "        UnitCubeMesh,\n",
    "        interpolate,\n",
    "    )\n",
    "except ImportError:\n",
    "    from dolfin import (\n",
    "        Constant,\n",
    "        DirichletBC,\n",
    "        interpolate,\n",
    "        Expression,\n",
    "        UnitCubeMesh,\n",
    "    )\n",
    "# -"
   ]
  },
  {
   "cell_type": "code",
   "execution_count": null,
   "id": "3b0045a8",
   "metadata": {
    "lines_to_next_cell": 2
   },
   "outputs": [],
   "source": [
    "import pulse"
   ]
  },
  {
   "cell_type": "code",
   "execution_count": null,
   "id": "d3c7a724",
   "metadata": {},
   "outputs": [],
   "source": [
    "# Create mesh\n",
    "N = 4\n",
    "mesh = UnitCubeMesh(N, N, N)"
   ]
  },
  {
   "cell_type": "code",
   "execution_count": null,
   "id": "ef23321b",
   "metadata": {},
   "outputs": [],
   "source": [
    "# Create a facet fuction in order to mark the subdomains\n",
    "ffun = dolfin.MeshFunction(\"size_t\", mesh, 2)\n",
    "ffun.set_all(0)"
   ]
  },
  {
   "cell_type": "code",
   "execution_count": null,
   "id": "3fe96297",
   "metadata": {},
   "outputs": [],
   "source": [
    "# Mark subdomains\n",
    "xlow = dolfin.CompiledSubDomain(\"near(x[0], 0) && on_boundary\")\n",
    "xlow_marker = 1\n",
    "xlow.mark(ffun, xlow_marker)"
   ]
  },
  {
   "cell_type": "code",
   "execution_count": null,
   "id": "62c61fbc",
   "metadata": {},
   "outputs": [],
   "source": [
    "xhigh = dolfin.CompiledSubDomain(\"near(x[0], 1.0) && on_boundary\")\n",
    "xhigh_marker = 2\n",
    "xhigh.mark(ffun, xhigh_marker)"
   ]
  },
  {
   "cell_type": "code",
   "execution_count": null,
   "id": "a1f5328e",
   "metadata": {},
   "outputs": [],
   "source": [
    "ylow = dolfin.CompiledSubDomain(\"near(x[1], 0) && on_boundary\")\n",
    "ylow_marker = 3\n",
    "ylow.mark(ffun, ylow_marker)"
   ]
  },
  {
   "cell_type": "code",
   "execution_count": null,
   "id": "eaf7a9d0",
   "metadata": {},
   "outputs": [],
   "source": [
    "yhigh = dolfin.CompiledSubDomain(\"near(x[1], 1) && on_boundary\")\n",
    "yhigh_marker = 4\n",
    "yhigh.mark(ffun, yhigh_marker)"
   ]
  },
  {
   "cell_type": "code",
   "execution_count": null,
   "id": "87a68639",
   "metadata": {},
   "outputs": [],
   "source": [
    "center = dolfin.CompiledSubDomain(\n",
    "    \"near(x[0], 0.5) && near(x[1], 0.5) && near(x[2], 0.5)\",\n",
    ")\n",
    "center_marker = 5\n",
    "center.mark(ffun, center_marker)\n",
    "dolfin.File(\"ffun.pvd\") << ffun"
   ]
  },
  {
   "cell_type": "code",
   "execution_count": null,
   "id": "37c3ceef",
   "metadata": {},
   "outputs": [],
   "source": [
    "# Collect the functions containing the markers\n",
    "marker_functions = pulse.MarkerFunctions(ffun=ffun)"
   ]
  },
  {
   "cell_type": "code",
   "execution_count": null,
   "id": "5a72da4a",
   "metadata": {},
   "outputs": [],
   "source": [
    "# Create mictrotructure\n",
    "V_f = dolfin.VectorFunctionSpace(mesh, \"CG\", 1)"
   ]
  },
  {
   "cell_type": "code",
   "execution_count": null,
   "id": "72ac6a34",
   "metadata": {},
   "outputs": [],
   "source": [
    "# Fibers\n",
    "f0 = interpolate(Expression((\"1.0\", \"0.0\", \"0.0\"), degree=1), V_f)\n",
    "# Sheets\n",
    "s0 = interpolate(Expression((\"0.0\", \"1.0\", \"0.0\"), degree=1), V_f)\n",
    "# Fiber-sheet normal\n",
    "n0 = interpolate(Expression((\"0.0\", \"0.0\", \"1.0\"), degree=1), V_f)"
   ]
  },
  {
   "cell_type": "code",
   "execution_count": null,
   "id": "3af5bbe1",
   "metadata": {},
   "outputs": [],
   "source": [
    "# Collect the mictrotructure\n",
    "microstructure = pulse.Microstructure(f0=f0, s0=s0, n0=n0)"
   ]
  },
  {
   "cell_type": "code",
   "execution_count": null,
   "id": "55f328b4",
   "metadata": {},
   "outputs": [],
   "source": [
    "# Create the geometry\n",
    "geometry = pulse.Geometry(\n",
    "    mesh=mesh,\n",
    "    marker_functions=marker_functions,\n",
    "    microstructure=microstructure,\n",
    ")\n",
    "# Use the default material parameters\n",
    "material_parameters = {\n",
    "    \"a\": 2.28,\n",
    "    \"b\": 9.726,\n",
    "    \"a_f\": 1.685,\n",
    "    \"b_f\": 15.779,\n",
    "    \"a_s\": 0,\n",
    "    \"a_fs\": 0,\n",
    "}"
   ]
  },
  {
   "cell_type": "code",
   "execution_count": null,
   "id": "b3f7b9d6",
   "metadata": {},
   "outputs": [],
   "source": [
    "# Create material\n",
    "material = pulse.HolzapfelOgden(parameters=material_parameters)"
   ]
  },
  {
   "cell_type": "code",
   "execution_count": null,
   "id": "c4951a1d",
   "metadata": {},
   "outputs": [],
   "source": [
    "# Eff / Ess strain ratio\n",
    "strain_ratio = Constant(1.0)"
   ]
  },
  {
   "cell_type": "code",
   "execution_count": null,
   "id": "8b00f29f",
   "metadata": {},
   "outputs": [],
   "source": [
    "# Create costants defined for the dirichlet BC\n",
    "u0 = Constant(0.0)\n",
    "x_strain = u0 * strain_ratio / 2\n",
    "y_strain = u0 * (1 / strain_ratio) / 2"
   ]
  },
  {
   "cell_type": "code",
   "execution_count": null,
   "id": "067423a5",
   "metadata": {},
   "outputs": [],
   "source": [
    "# Make Dirichlet boundary conditions\n",
    "def dirichlet_bc(W):\n",
    "    V = W if W.sub(0).num_sub_spaces() == 0 else W.sub(0)\n",
    "    return [\n",
    "        DirichletBC(V.sub(0), Constant(-x_strain), xlow),\n",
    "        DirichletBC(V.sub(0), Constant(x_strain), xhigh),\n",
    "        DirichletBC(V.sub(1), Constant(-y_strain), ylow),\n",
    "        DirichletBC(V.sub(1), Constant(y_strain), yhigh),\n",
    "        DirichletBC(V, np.zeros(3), center, method=\"pointwise\"),\n",
    "    ]"
   ]
  },
  {
   "cell_type": "code",
   "execution_count": null,
   "id": "522882b9",
   "metadata": {},
   "outputs": [],
   "source": [
    "# Collect Boundary Conditions\n",
    "bcs = pulse.BoundaryConditions(dirichlet=(dirichlet_bc,))"
   ]
  },
  {
   "cell_type": "code",
   "execution_count": null,
   "id": "f86b0964",
   "metadata": {},
   "outputs": [],
   "source": [
    "# Create problem\n",
    "problem = pulse.MechanicsProblem(geometry, material, bcs)"
   ]
  },
  {
   "cell_type": "code",
   "execution_count": null,
   "id": "63ea265e",
   "metadata": {
    "lines_to_next_cell": 2
   },
   "outputs": [],
   "source": [
    "# Solve problem\n",
    "max_xi = [0.1, 0.15, 0.1]\n",
    "data = {}\n",
    "for i, sr in enumerate([2.05, 1.02, 0.48]):\n",
    "    strain_ratio.assign(sr)\n",
    "    Effs = []\n",
    "    Sffs = []\n",
    "    Esss = []\n",
    "    Ssss = []\n",
    "\n",
    "    for xi in np.linspace(0, max_xi[i], 10):\n",
    "        try:\n",
    "            pulse.iterate.iterate(problem, u0, Constant(xi), reinit_each_step=True)\n",
    "        except pulse.mechanicsproblem.SolverDidNotConverge:\n",
    "            continue\n",
    "        S = problem.SecondPiolaStress()\n",
    "        E = problem.GreenLagrangeStrain()\n",
    "\n",
    "        Sff = dolfin.assemble(dolfin.inner(f0, S * f0) * dolfin.dx)\n",
    "        Eff = dolfin.assemble(dolfin.inner(f0, E * f0) * dolfin.dx)\n",
    "\n",
    "        Effs.append(Eff)\n",
    "        Sffs.append(Sff)\n",
    "\n",
    "        Sss = dolfin.assemble(dolfin.inner(s0, S * s0) * dolfin.dx)\n",
    "        Ess = dolfin.assemble(dolfin.inner(s0, E * s0) * dolfin.dx)\n",
    "\n",
    "        Esss.append(Ess)\n",
    "        Ssss.append(Sss)\n",
    "\n",
    "        u, p = problem.state.split(deepcopy=True)\n",
    "\n",
    "    data[sr] = {\"Eff\": Effs, \"Sff\": Sffs, \"Ess\": Esss, \"Sss\": Ssss}"
   ]
  },
  {
   "cell_type": "code",
   "execution_count": null,
   "id": "f58b0ea4",
   "metadata": {},
   "outputs": [],
   "source": [
    "fig, ax = plt.subplots(1, 2, figsize=(10, 6))\n",
    "markers = [\"^\", \"s\", \"o\"]\n",
    "for i, (sr, v) in enumerate(data.items()):\n",
    "    ax[0].plot(v[\"Eff\"], v[\"Sff\"], marker=markers[i], label=f\"SR: {sr:.2f}\")\n",
    "    ax[1].plot(v[\"Ess\"], v[\"Sss\"], marker=markers[i], label=f\"SR: {sr:.2f}\")\n",
    "ax[0].set_ylabel(\"$S_{ff}$ (kPa)\")\n",
    "ax[1].set_ylabel(\"$S_{ss}$ (kPa)\")\n",
    "ax[0].set_xlabel(\"$E_{ff}$\")\n",
    "ax[1].set_xlabel(\"$E_{ss}$\")\n",
    "for axi in ax:\n",
    "    axi.legend()\n",
    "    axi.set_ylim(0, 12)\n",
    "    axi.grid()\n",
    "plt.show()"
   ]
  }
 ],
 "metadata": {
  "jupytext": {
   "cell_metadata_filter": "-all",
   "main_language": "python",
   "notebook_metadata_filter": "-all"
  }
 },
 "nbformat": 4,
 "nbformat_minor": 5
}
