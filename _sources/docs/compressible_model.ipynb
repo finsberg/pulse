{
 "cells": [
  {
   "cell_type": "markdown",
   "id": "bb5e6891",
   "metadata": {},
   "source": [
    "# Compressible model\n",
    "\n",
    "\n",
    "In this demo we show how to make a custom model e.g a compressible\n",
    "model. The default model in `pulse` is an incompressible model\n",
    "implemented using a two-field variational approach with Taylor-Hood\n",
    "finite elements. In this demo we use a pentaly-based compressible\n",
    "model where the term\n",
    "\n",
    "$$\\kappa (J \\mathrm{ln}J - J + 1)$$\n",
    "\n",
    "is added as a penalty to the strain energy denisty function, and we\n",
    "use $\\mathbb{P}1$ elements for the displacement\n"
   ]
  },
  {
   "cell_type": "code",
   "execution_count": null,
   "id": "90a91269",
   "metadata": {},
   "outputs": [],
   "source": [
    "import dolfin"
   ]
  },
  {
   "cell_type": "code",
   "execution_count": null,
   "id": "c14a4baf",
   "metadata": {},
   "outputs": [],
   "source": [
    "import pulse"
   ]
  },
  {
   "cell_type": "code",
   "execution_count": null,
   "id": "ac8abfe3",
   "metadata": {},
   "outputs": [],
   "source": [
    "# Make sure to use dolfin-adjoint version of object if using dolfin_adjoint\n",
    "try:\n",
    "    from dolfin_adjoint import Constant, DirichletBC, Function, Mesh\n",
    "except ImportError:\n",
    "    from dolfin import Function, Constant, DirichletBC, Mesh"
   ]
  },
  {
   "cell_type": "code",
   "execution_count": null,
   "id": "9999011d",
   "metadata": {},
   "outputs": [],
   "source": [
    "from fenics_plotly import plot"
   ]
  },
  {
   "cell_type": "code",
   "execution_count": null,
   "id": "ee07fdf5",
   "metadata": {},
   "outputs": [],
   "source": [
    "from pulse import DeformationGradient, Jacobian"
   ]
  },
  {
   "cell_type": "code",
   "execution_count": null,
   "id": "71618b26",
   "metadata": {},
   "outputs": [],
   "source": [
    "class CompressibleProblem(pulse.MechanicsProblem):\n",
    "    \"\"\"\n",
    "    This class implements a compressbile model with a penalized\n",
    "    compressibility term, solving for the displacement only.\n",
    "\n",
    "    \"\"\"\n",
    "\n",
    "    def _init_spaces(self):\n",
    "        mesh = self.geometry.mesh\n",
    "\n",
    "        element = dolfin.VectorElement(\"P\", mesh.ufl_cell(), 1)\n",
    "        self.state_space = dolfin.FunctionSpace(mesh, element)\n",
    "        self.state = Function(self.state_space)\n",
    "        self.state_test = dolfin.TestFunction(self.state_space)\n",
    "\n",
    "        # Add penalty factor\n",
    "        self.kappa = Constant(1e3)\n",
    "\n",
    "    def _init_forms(self):\n",
    "        u = self.state\n",
    "        v = self.state_test\n",
    "\n",
    "        F = dolfin.variable(DeformationGradient(u))\n",
    "        J = Jacobian(F)\n",
    "\n",
    "        dx = self.geometry.dx\n",
    "\n",
    "        # Add penalty term\n",
    "        internal_energy = self.material.strain_energy(F) + self.kappa * (\n",
    "            J * dolfin.ln(J) - J + 1\n",
    "        )\n",
    "\n",
    "        self._virtual_work = dolfin.derivative(\n",
    "            internal_energy * dx,\n",
    "            self.state,\n",
    "            self.state_test,\n",
    "        )\n",
    "\n",
    "        self._virtual_work += self._external_work(u, v)\n",
    "\n",
    "        self._jacobian = dolfin.derivative(\n",
    "            self._virtual_work,\n",
    "            self.state,\n",
    "            dolfin.TrialFunction(self.state_space),\n",
    "        )\n",
    "\n",
    "        self._set_dirichlet_bc()\n",
    "        self._init_solver()"
   ]
  },
  {
   "cell_type": "code",
   "execution_count": null,
   "id": "d72004ef",
   "metadata": {},
   "outputs": [],
   "source": [
    "geometry = pulse.Geometry.from_file(pulse.mesh_paths[\"simple_ellipsoid\"])\n",
    "# geometry = pulse.geometries.prolate_ellipsoid_geometry(mesh_size_factor=3.0)"
   ]
  },
  {
   "cell_type": "code",
   "execution_count": null,
   "id": "59ad6571",
   "metadata": {},
   "outputs": [],
   "source": [
    "activation = Function(dolfin.FunctionSpace(geometry.mesh, \"R\", 0))\n",
    "activation.assign(Constant(0.2))\n",
    "matparams = pulse.HolzapfelOgden.default_parameters()\n",
    "material = pulse.HolzapfelOgden(\n",
    "    activation=activation,\n",
    "    parameters=matparams,\n",
    "    f0=geometry.f0,\n",
    "    s0=geometry.s0,\n",
    "    n0=geometry.n0,\n",
    ")"
   ]
  },
  {
   "cell_type": "code",
   "execution_count": null,
   "id": "726d3620",
   "metadata": {},
   "outputs": [],
   "source": [
    "# LV Pressure\n",
    "lvp = Constant(1.0)\n",
    "lv_marker = geometry.markers[\"ENDO\"][0]\n",
    "lv_pressure = pulse.NeumannBC(traction=lvp, marker=lv_marker, name=\"lv\")\n",
    "neumann_bc = [lv_pressure]"
   ]
  },
  {
   "cell_type": "code",
   "execution_count": null,
   "id": "7650c98f",
   "metadata": {},
   "outputs": [],
   "source": [
    "# Add spring term at the base with stiffness 1.0 kPa/cm^2\n",
    "base_spring = 1.0\n",
    "robin_bc = [\n",
    "    pulse.RobinBC(value=Constant(base_spring), marker=geometry.markers[\"BASE\"][0]),\n",
    "]"
   ]
  },
  {
   "cell_type": "code",
   "execution_count": null,
   "id": "96c98959",
   "metadata": {},
   "outputs": [],
   "source": [
    "# Fix the basal plane in the longitudinal direction\n",
    "# 0 in V.sub(0) refers to x-direction, which is the longitudinal direction\n",
    "def fix_basal_plane(W):\n",
    "    V = W if W.sub(0).num_sub_spaces() == 0 else W.sub(0)\n",
    "    bc = DirichletBC(\n",
    "        V.sub(0),\n",
    "        Constant(0.0),\n",
    "        geometry.ffun,\n",
    "        geometry.markers[\"BASE\"][0],\n",
    "    )\n",
    "    return bc"
   ]
  },
  {
   "cell_type": "code",
   "execution_count": null,
   "id": "693f2fdc",
   "metadata": {
    "lines_to_next_cell": 2
   },
   "outputs": [],
   "source": [
    "dirichlet_bc = [fix_basal_plane]"
   ]
  },
  {
   "cell_type": "code",
   "execution_count": null,
   "id": "8e618347",
   "metadata": {},
   "outputs": [],
   "source": [
    "# Collect boundary conditions\n",
    "bcs = pulse.BoundaryConditions(\n",
    "    dirichlet=dirichlet_bc,\n",
    "    neumann=neumann_bc,\n",
    "    robin=robin_bc,\n",
    ")"
   ]
  },
  {
   "cell_type": "code",
   "execution_count": null,
   "id": "7d24636f",
   "metadata": {},
   "outputs": [],
   "source": [
    "# Create the problem\n",
    "problem = CompressibleProblem(\n",
    "    geometry,\n",
    "    material,\n",
    "    bcs,\n",
    "    solver_parameters={\"verbose\": True},\n",
    ")"
   ]
  },
  {
   "cell_type": "code",
   "execution_count": null,
   "id": "e28cea3b",
   "metadata": {},
   "outputs": [],
   "source": [
    "# Solve the problem\n",
    "problem.solve()"
   ]
  },
  {
   "cell_type": "code",
   "execution_count": null,
   "id": "10bd5db7",
   "metadata": {},
   "outputs": [],
   "source": [
    "u = problem.state\n",
    "mesh = Mesh(geometry.mesh)\n",
    "dolfin.ALE.move(mesh, u)"
   ]
  },
  {
   "cell_type": "code",
   "execution_count": null,
   "id": "834fac85",
   "metadata": {},
   "outputs": [],
   "source": [
    "fig = plot(geometry.mesh, opacity=0.4, show=False)\n",
    "fig.add_plot(plot(mesh, color=\"red\", show=False))\n",
    "fig.show()"
   ]
  }
 ],
 "metadata": {
  "jupytext": {
   "cell_metadata_filter": "-all",
   "main_language": "python",
   "notebook_metadata_filter": "-all"
  }
 },
 "nbformat": 4,
 "nbformat_minor": 5
}
