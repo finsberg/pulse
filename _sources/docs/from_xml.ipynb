{
 "cells": [
  {
   "cell_type": "markdown",
   "id": "ef8252c2",
   "metadata": {},
   "source": [
    "# From XML data\n",
    "\n",
    "Example on how to load your data if it is currently in xml format"
   ]
  },
  {
   "cell_type": "code",
   "execution_count": null,
   "id": "a7792f95",
   "metadata": {},
   "outputs": [],
   "source": [
    "import json"
   ]
  },
  {
   "cell_type": "code",
   "execution_count": null,
   "id": "c47d14ed",
   "metadata": {},
   "outputs": [],
   "source": [
    "import dolfin\n",
    "from fenics_plotly import plot"
   ]
  },
  {
   "cell_type": "code",
   "execution_count": null,
   "id": "e6cea3f8",
   "metadata": {},
   "outputs": [],
   "source": [
    "import pulse"
   ]
  },
  {
   "cell_type": "code",
   "execution_count": null,
   "id": "9bd7b5c4",
   "metadata": {
    "lines_to_next_cell": 2
   },
   "outputs": [],
   "source": [
    "try:\n",
    "    from dolfin_adjoint import Constant, DirichletBC, Function, Mesh, interpolate\n",
    "except ImportError:\n",
    "    from dolfin import Mesh, Function, Constant, DirichletBC, interpolate"
   ]
  },
  {
   "cell_type": "code",
   "execution_count": null,
   "id": "e914a865",
   "metadata": {},
   "outputs": [],
   "source": [
    "# Mesh\n",
    "mesh = Mesh(pulse.utils.mpi_comm_world(), \"data/mesh.xml\")"
   ]
  },
  {
   "cell_type": "code",
   "execution_count": null,
   "id": "74a00bd3",
   "metadata": {},
   "outputs": [],
   "source": [
    "# Marker functions\n",
    "facet_function = dolfin.MeshFunction(\"size_t\", mesh, \"data/facet_function.xml\")\n",
    "marker_functions = pulse.MarkerFunctions(ffun=facet_function)"
   ]
  },
  {
   "cell_type": "code",
   "execution_count": null,
   "id": "6634f44c",
   "metadata": {
    "lines_to_next_cell": 2
   },
   "outputs": [],
   "source": [
    "# Markers\n",
    "with open(\"data/markers.json\", \"r\") as f:\n",
    "    markers = json.load(f)"
   ]
  },
  {
   "cell_type": "code",
   "execution_count": null,
   "id": "537482f1",
   "metadata": {},
   "outputs": [],
   "source": [
    "# Fiber\n",
    "fiber_element = dolfin.VectorElement(\n",
    "    family=\"Quadrature\",\n",
    "    cell=mesh.ufl_cell(),\n",
    "    degree=4,\n",
    "    quad_scheme=\"default\",\n",
    ")\n",
    "fiber_space = dolfin.FunctionSpace(mesh, fiber_element)\n",
    "fiber = Function(fiber_space, \"data/fiber.xml\")"
   ]
  },
  {
   "cell_type": "code",
   "execution_count": null,
   "id": "71e83880",
   "metadata": {
    "lines_to_next_cell": 2
   },
   "outputs": [],
   "source": [
    "microstructure = pulse.Microstructure(f0=fiber)"
   ]
  },
  {
   "cell_type": "code",
   "execution_count": null,
   "id": "a3133863",
   "metadata": {},
   "outputs": [],
   "source": [
    "# Create the geometry\n",
    "geometry = pulse.HeartGeometry(\n",
    "    mesh=mesh,\n",
    "    markers=markers,\n",
    "    marker_functions=marker_functions,\n",
    "    microstructure=microstructure,\n",
    ")"
   ]
  },
  {
   "cell_type": "code",
   "execution_count": null,
   "id": "1c676376",
   "metadata": {},
   "outputs": [],
   "source": [
    "activation = Function(dolfin.FunctionSpace(geometry.mesh, \"R\", 0))\n",
    "activation.assign(Constant(0.0))\n",
    "matparams = pulse.HolzapfelOgden.default_parameters()\n",
    "material = pulse.HolzapfelOgden(\n",
    "    activation=activation,\n",
    "    parameters=matparams,\n",
    "    f0=geometry.f0,\n",
    ")"
   ]
  },
  {
   "cell_type": "code",
   "execution_count": null,
   "id": "1d388878",
   "metadata": {},
   "outputs": [],
   "source": [
    "# LV Pressure\n",
    "lvp = Constant(0.0)\n",
    "lv_marker = markers[\"ENDO\"][0]\n",
    "lv_pressure = pulse.NeumannBC(traction=lvp, marker=lv_marker, name=\"lv\")\n",
    "neumann_bc = [lv_pressure]"
   ]
  },
  {
   "cell_type": "code",
   "execution_count": null,
   "id": "d52c5b27",
   "metadata": {},
   "outputs": [],
   "source": [
    "# Add spring term at the base with stiffness 1.0 kPa/cm^2\n",
    "base_spring = 1.0\n",
    "robin_bc = [pulse.RobinBC(value=Constant(base_spring), marker=markers[\"BASE\"][0])]"
   ]
  },
  {
   "cell_type": "code",
   "execution_count": null,
   "id": "9fd9aad4",
   "metadata": {},
   "outputs": [],
   "source": [
    "# Fix the basal plane in the longitudinal direction\n",
    "# 0 in V.sub(0) refers to x-direction, which is the longitudinal direction\n",
    "def fix_basal_plane(W):\n",
    "    V = W if W.sub(0).num_sub_spaces() == 0 else W.sub(0)\n",
    "    bc = DirichletBC(V.sub(0), Constant(0.0), geometry.ffun, markers[\"BASE\"][0])\n",
    "    return bc"
   ]
  },
  {
   "cell_type": "code",
   "execution_count": null,
   "id": "e52743ff",
   "metadata": {},
   "outputs": [],
   "source": [
    "dirichlet_bc = [fix_basal_plane]\n",
    "# You can also use a built in function for this\n",
    "# from functools import partial\n",
    "# dirichlet_bc = partial(pulse.mechanicsproblem.dirichlet_fix_base_directional,\n",
    "#                        ffun=geometry.ffun,\n",
    "#                        marker=geometry.markers[\"BASE\"][0])"
   ]
  },
  {
   "cell_type": "code",
   "execution_count": null,
   "id": "01376efb",
   "metadata": {},
   "outputs": [],
   "source": [
    "# Collect boundary conditions\n",
    "bcs = pulse.BoundaryConditions(\n",
    "    dirichlet=dirichlet_bc,\n",
    "    neumann=neumann_bc,\n",
    "    robin=robin_bc,\n",
    ")"
   ]
  },
  {
   "cell_type": "code",
   "execution_count": null,
   "id": "bdc4bfe9",
   "metadata": {},
   "outputs": [],
   "source": [
    "# Create the problem\n",
    "problem = pulse.MechanicsProblem(geometry, material, bcs)"
   ]
  },
  {
   "cell_type": "code",
   "execution_count": null,
   "id": "53b2d028",
   "metadata": {},
   "outputs": [],
   "source": [
    "problem.solve()"
   ]
  },
  {
   "cell_type": "code",
   "execution_count": null,
   "id": "743a31d8",
   "metadata": {},
   "outputs": [],
   "source": [
    "# Solve the problem\n",
    "pulse.iterate.iterate(problem, (lvp, activation), (1.0, 0.2))"
   ]
  },
  {
   "cell_type": "code",
   "execution_count": null,
   "id": "8baa17b5",
   "metadata": {},
   "outputs": [],
   "source": [
    "# Get the solution\n",
    "u, p = problem.state.split(deepcopy=True)"
   ]
  },
  {
   "cell_type": "code",
   "execution_count": null,
   "id": "ef104032",
   "metadata": {},
   "outputs": [],
   "source": [
    "volume = geometry.cavity_volume(u=u)\n",
    "print(f\"Cavity volume = {volume}\")"
   ]
  },
  {
   "cell_type": "code",
   "execution_count": null,
   "id": "8654ea2e",
   "metadata": {},
   "outputs": [],
   "source": [
    "# Move mesh accoring to displacement\n",
    "u_int = interpolate(u, dolfin.VectorFunctionSpace(geometry.mesh, \"CG\", 1))\n",
    "mesh = Mesh(geometry.mesh)\n",
    "dolfin.ALE.move(mesh, u_int)"
   ]
  },
  {
   "cell_type": "code",
   "execution_count": null,
   "id": "25c88b91",
   "metadata": {},
   "outputs": [],
   "source": [
    "fig = plot(geometry.mesh, color=\"red\", show=False)\n",
    "fig.add_plot(plot(mesh, show=False))\n",
    "fig.show()"
   ]
  }
 ],
 "metadata": {
  "jupytext": {
   "cell_metadata_filter": "-all",
   "main_language": "python",
   "notebook_metadata_filter": "-all"
  }
 },
 "nbformat": 4,
 "nbformat_minor": 5
}
