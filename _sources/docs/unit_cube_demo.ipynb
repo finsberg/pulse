{
 "cells": [
  {
   "cell_type": "markdown",
   "id": "f7b25ec9",
   "metadata": {},
   "source": [
    "# Contracting cube\n",
    "\n",
    "In this demo we simulate a unit cube that is fixed\n",
    "at $x = 0$ and free at $x = 1$. We use\n",
    "a transversally isotropic material with fiber oriented\n",
    "in the $x$-direction.\n"
   ]
  },
  {
   "cell_type": "code",
   "execution_count": null,
   "id": "88142cb1",
   "metadata": {},
   "outputs": [],
   "source": [
    "import dolfin"
   ]
  },
  {
   "cell_type": "code",
   "execution_count": null,
   "id": "e8d8534e",
   "metadata": {
    "lines_to_next_cell": 2
   },
   "outputs": [],
   "source": [
    "try:\n",
    "    from dolfin_adjoint import (\n",
    "        Constant,\n",
    "        DirichletBC,\n",
    "        Expression,\n",
    "        UnitCubeMesh,\n",
    "        interpolate,\n",
    "        Mesh,\n",
    "    )\n",
    "except ImportError:\n",
    "    from dolfin import (\n",
    "        Constant,\n",
    "        DirichletBC,\n",
    "        interpolate,\n",
    "        Expression,\n",
    "        UnitCubeMesh,\n",
    "        Mesh,\n",
    "    )"
   ]
  },
  {
   "cell_type": "code",
   "execution_count": null,
   "id": "1daf41b5",
   "metadata": {
    "lines_to_next_cell": 2
   },
   "outputs": [],
   "source": [
    "import pulse\n",
    "from fenics_plotly import plot"
   ]
  },
  {
   "cell_type": "code",
   "execution_count": null,
   "id": "4b14abf0",
   "metadata": {},
   "outputs": [],
   "source": [
    "pulse.iterate.logger.setLevel(10)"
   ]
  },
  {
   "cell_type": "code",
   "execution_count": null,
   "id": "3b980d4b",
   "metadata": {},
   "outputs": [],
   "source": [
    "# Create mesh\n",
    "N = 6\n",
    "mesh = UnitCubeMesh(N, N, N)"
   ]
  },
  {
   "cell_type": "code",
   "execution_count": null,
   "id": "8af1193b",
   "metadata": {},
   "outputs": [],
   "source": [
    "# Create subdomains\n",
    "class Free(dolfin.SubDomain):\n",
    "    def inside(self, x, on_boundary):\n",
    "        return x[0] > (1.0 - dolfin.DOLFIN_EPS) and on_boundary\n",
    "\n",
    "\n",
    "class Fixed(dolfin.SubDomain):\n",
    "    def inside(self, x, on_boundary):\n",
    "        return x[0] < dolfin.DOLFIN_EPS and on_boundary"
   ]
  },
  {
   "cell_type": "code",
   "execution_count": null,
   "id": "bb38866f",
   "metadata": {},
   "outputs": [],
   "source": [
    "# Create a facet fuction in order to mark the subdomains\n",
    "ffun = dolfin.MeshFunction(\"size_t\", mesh, 2)\n",
    "ffun.set_all(0)"
   ]
  },
  {
   "cell_type": "code",
   "execution_count": null,
   "id": "6885e93c",
   "metadata": {},
   "outputs": [],
   "source": [
    "# Mark the first subdomain with value 1\n",
    "fixed = Fixed()\n",
    "fixed_marker = 1\n",
    "fixed.mark(ffun, fixed_marker)"
   ]
  },
  {
   "cell_type": "code",
   "execution_count": null,
   "id": "271d8442",
   "metadata": {},
   "outputs": [],
   "source": [
    "# Mark the second subdomain with value 2\n",
    "free = Free()\n",
    "free_marker = 2\n",
    "free.mark(ffun, free_marker)"
   ]
  },
  {
   "cell_type": "code",
   "execution_count": null,
   "id": "d9aa42a9",
   "metadata": {
    "lines_to_next_cell": 2
   },
   "outputs": [],
   "source": [
    "# Create a cell function (but we are not using it)\n",
    "cfun = dolfin.MeshFunction(\"size_t\", mesh, 3)\n",
    "cfun.set_all(0)"
   ]
  },
  {
   "cell_type": "code",
   "execution_count": null,
   "id": "19195054",
   "metadata": {},
   "outputs": [],
   "source": [
    "# Collect the functions containing the markers\n",
    "marker_functions = pulse.MarkerFunctions(ffun=ffun, cfun=cfun)"
   ]
  },
  {
   "cell_type": "code",
   "execution_count": null,
   "id": "a32c8eac",
   "metadata": {},
   "outputs": [],
   "source": [
    "# Create mictrotructure\n",
    "V_f = dolfin.VectorFunctionSpace(mesh, \"CG\", 1)"
   ]
  },
  {
   "cell_type": "code",
   "execution_count": null,
   "id": "4ab7c040",
   "metadata": {},
   "outputs": [],
   "source": [
    "# Fibers\n",
    "f0 = interpolate(Expression((\"1.0\", \"0.0\", \"0.0\"), degree=1), V_f)\n",
    "# Sheets\n",
    "s0 = interpolate(Expression((\"0.0\", \"1.0\", \"0.0\"), degree=1), V_f)\n",
    "# Fiber-sheet normal\n",
    "n0 = interpolate(Expression((\"0.0\", \"0.0\", \"1.0\"), degree=1), V_f)"
   ]
  },
  {
   "cell_type": "code",
   "execution_count": null,
   "id": "9b3d58a7",
   "metadata": {},
   "outputs": [],
   "source": [
    "# Collect the mictrotructure\n",
    "microstructure = pulse.Microstructure(f0=f0, s0=s0, n0=n0)"
   ]
  },
  {
   "cell_type": "code",
   "execution_count": null,
   "id": "1568f1e6",
   "metadata": {},
   "outputs": [],
   "source": [
    "# Create the geometry\n",
    "geometry = pulse.Geometry(\n",
    "    mesh=mesh,\n",
    "    marker_functions=marker_functions,\n",
    "    microstructure=microstructure,\n",
    ")"
   ]
  },
  {
   "cell_type": "code",
   "execution_count": null,
   "id": "8d36e34e",
   "metadata": {},
   "outputs": [],
   "source": [
    "# Use the default material parameters\n",
    "material_parameters = pulse.HolzapfelOgden.default_parameters()"
   ]
  },
  {
   "cell_type": "code",
   "execution_count": null,
   "id": "1f96ba58",
   "metadata": {},
   "outputs": [],
   "source": [
    "# Select model for active contraction\n",
    "active_model = pulse.ActiveModels.active_strain\n",
    "# active_model = \"active_stress\""
   ]
  },
  {
   "cell_type": "code",
   "execution_count": null,
   "id": "cce5ad2f",
   "metadata": {},
   "outputs": [],
   "source": [
    "# Set the activation\n",
    "activation = Constant(0.0)"
   ]
  },
  {
   "cell_type": "code",
   "execution_count": null,
   "id": "51f56f22",
   "metadata": {},
   "outputs": [],
   "source": [
    "# Create material\n",
    "material = pulse.HolzapfelOgden(\n",
    "    active_model=active_model,\n",
    "    parameters=material_parameters,\n",
    "    activation=activation,\n",
    ")"
   ]
  },
  {
   "cell_type": "code",
   "execution_count": null,
   "id": "bf6b9175",
   "metadata": {},
   "outputs": [],
   "source": [
    "# Make Dirichlet boundary conditions\n",
    "def dirichlet_bc(W):\n",
    "    V = W if W.sub(0).num_sub_spaces() == 0 else W.sub(0)\n",
    "    return DirichletBC(V, Constant((0.0, 0.0, 0.0)), fixed)"
   ]
  },
  {
   "cell_type": "code",
   "execution_count": null,
   "id": "b6f9f89c",
   "metadata": {},
   "outputs": [],
   "source": [
    "# Make Neumann boundary conditions\n",
    "neumann_bc = pulse.NeumannBC(traction=Constant(0.0), marker=free_marker)"
   ]
  },
  {
   "cell_type": "code",
   "execution_count": null,
   "id": "f60a4868",
   "metadata": {},
   "outputs": [],
   "source": [
    "# Collect Boundary Conditions\n",
    "bcs = pulse.BoundaryConditions(dirichlet=(dirichlet_bc,), neumann=(neumann_bc,))"
   ]
  },
  {
   "cell_type": "code",
   "execution_count": null,
   "id": "493a055f",
   "metadata": {},
   "outputs": [],
   "source": [
    "# Create problem\n",
    "problem = pulse.MechanicsProblem(geometry, material, bcs)"
   ]
  },
  {
   "cell_type": "code",
   "execution_count": null,
   "id": "5f6ae1dc",
   "metadata": {},
   "outputs": [],
   "source": [
    "# Solve problem\n",
    "pulse.iterate.iterate(problem, activation, 0.1)"
   ]
  },
  {
   "cell_type": "code",
   "execution_count": null,
   "id": "96f04aa0",
   "metadata": {},
   "outputs": [],
   "source": [
    "# Get displacement and hydrostatic pressure\n",
    "u, p = problem.state.split(deepcopy=True)"
   ]
  },
  {
   "cell_type": "code",
   "execution_count": null,
   "id": "d0d52a58",
   "metadata": {},
   "outputs": [],
   "source": [
    "V = dolfin.VectorFunctionSpace(mesh, \"CG\", 1)\n",
    "u_int = interpolate(u, V)\n",
    "new_mesh = Mesh(mesh)\n",
    "dolfin.ALE.move(new_mesh, u_int)"
   ]
  },
  {
   "cell_type": "code",
   "execution_count": null,
   "id": "f3f99b7a",
   "metadata": {},
   "outputs": [],
   "source": [
    "fig = plot(mesh, show=False)\n",
    "fig.add_plot(plot(new_mesh, color=\"red\", show=False))\n",
    "fig.show()"
   ]
  }
 ],
 "metadata": {
  "jupytext": {
   "cell_metadata_filter": "-all",
   "main_language": "python",
   "notebook_metadata_filter": "-all"
  }
 },
 "nbformat": 4,
 "nbformat_minor": 5
}
