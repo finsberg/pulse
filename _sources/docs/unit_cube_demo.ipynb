{
 "cells": [
  {
   "cell_type": "markdown",
   "id": "b403dabd",
   "metadata": {},
   "source": [
    "# Contracting cube\n",
    "\n",
    "In this demo we simulate a unit cube that is fixed\n",
    "at $x = 0$ and free at $x = 1$. We use\n",
    "a transversally isotropic material with fiber oriented\n",
    "in the $x$-direction.\n"
   ]
  },
  {
   "cell_type": "code",
   "execution_count": null,
   "id": "04e53b74",
   "metadata": {},
   "outputs": [],
   "source": [
    "import dolfin"
   ]
  },
  {
   "cell_type": "code",
   "execution_count": null,
   "id": "600706c6",
   "metadata": {
    "lines_to_next_cell": 2
   },
   "outputs": [],
   "source": [
    "try:\n",
    "    from dolfin_adjoint import (\n",
    "        Constant,\n",
    "        DirichletBC,\n",
    "        Expression,\n",
    "        UnitCubeMesh,\n",
    "        interpolate,\n",
    "        Mesh,\n",
    "    )\n",
    "except ImportError:\n",
    "    from dolfin import (\n",
    "        Constant,\n",
    "        DirichletBC,\n",
    "        interpolate,\n",
    "        Expression,\n",
    "        UnitCubeMesh,\n",
    "        Mesh,\n",
    "    )"
   ]
  },
  {
   "cell_type": "code",
   "execution_count": null,
   "id": "5e88fc04",
   "metadata": {
    "lines_to_next_cell": 2
   },
   "outputs": [],
   "source": [
    "import pulse\n",
    "from fenics_plotly import plot"
   ]
  },
  {
   "cell_type": "code",
   "execution_count": null,
   "id": "806360c7",
   "metadata": {},
   "outputs": [],
   "source": [
    "pulse.iterate.logger.setLevel(10)"
   ]
  },
  {
   "cell_type": "code",
   "execution_count": null,
   "id": "d0c516e7",
   "metadata": {},
   "outputs": [],
   "source": [
    "# Create mesh\n",
    "N = 6\n",
    "mesh = UnitCubeMesh(N, N, N)"
   ]
  },
  {
   "cell_type": "code",
   "execution_count": null,
   "id": "e43202c0",
   "metadata": {},
   "outputs": [],
   "source": [
    "# Create subdomains\n",
    "class Free(dolfin.SubDomain):\n",
    "    def inside(self, x, on_boundary):\n",
    "        return x[0] > (1.0 - dolfin.DOLFIN_EPS) and on_boundary\n",
    "\n",
    "\n",
    "class Fixed(dolfin.SubDomain):\n",
    "    def inside(self, x, on_boundary):\n",
    "        return x[0] < dolfin.DOLFIN_EPS and on_boundary"
   ]
  },
  {
   "cell_type": "code",
   "execution_count": null,
   "id": "d273f587",
   "metadata": {},
   "outputs": [],
   "source": [
    "# Create a facet fuction in order to mark the subdomains\n",
    "ffun = dolfin.MeshFunction(\"size_t\", mesh, 2)\n",
    "ffun.set_all(0)"
   ]
  },
  {
   "cell_type": "code",
   "execution_count": null,
   "id": "942a3641",
   "metadata": {},
   "outputs": [],
   "source": [
    "# Mark the first subdomain with value 1\n",
    "fixed = Fixed()\n",
    "fixed_marker = 1\n",
    "fixed.mark(ffun, fixed_marker)"
   ]
  },
  {
   "cell_type": "code",
   "execution_count": null,
   "id": "7206eff5",
   "metadata": {},
   "outputs": [],
   "source": [
    "# Mark the second subdomain with value 2\n",
    "free = Free()\n",
    "free_marker = 2\n",
    "free.mark(ffun, free_marker)"
   ]
  },
  {
   "cell_type": "code",
   "execution_count": null,
   "id": "079ff32a",
   "metadata": {
    "lines_to_next_cell": 2
   },
   "outputs": [],
   "source": [
    "# Create a cell function (but we are not using it)\n",
    "cfun = dolfin.MeshFunction(\"size_t\", mesh, 3)\n",
    "cfun.set_all(0)"
   ]
  },
  {
   "cell_type": "code",
   "execution_count": null,
   "id": "5d20c754",
   "metadata": {},
   "outputs": [],
   "source": [
    "# Collect the functions containing the markers\n",
    "marker_functions = pulse.MarkerFunctions(ffun=ffun, cfun=cfun)"
   ]
  },
  {
   "cell_type": "code",
   "execution_count": null,
   "id": "fb581942",
   "metadata": {},
   "outputs": [],
   "source": [
    "# Create mictrotructure\n",
    "V_f = dolfin.VectorFunctionSpace(mesh, \"CG\", 1)"
   ]
  },
  {
   "cell_type": "code",
   "execution_count": null,
   "id": "b58f5c06",
   "metadata": {},
   "outputs": [],
   "source": [
    "# Fibers\n",
    "f0 = interpolate(Expression((\"1.0\", \"0.0\", \"0.0\"), degree=1), V_f)\n",
    "# Sheets\n",
    "s0 = interpolate(Expression((\"0.0\", \"1.0\", \"0.0\"), degree=1), V_f)\n",
    "# Fiber-sheet normal\n",
    "n0 = interpolate(Expression((\"0.0\", \"0.0\", \"1.0\"), degree=1), V_f)"
   ]
  },
  {
   "cell_type": "code",
   "execution_count": null,
   "id": "b8fcf684",
   "metadata": {},
   "outputs": [],
   "source": [
    "# Collect the mictrotructure\n",
    "microstructure = pulse.Microstructure(f0=f0, s0=s0, n0=n0)"
   ]
  },
  {
   "cell_type": "code",
   "execution_count": null,
   "id": "524544db",
   "metadata": {},
   "outputs": [],
   "source": [
    "# Create the geometry\n",
    "geometry = pulse.Geometry(\n",
    "    mesh=mesh,\n",
    "    marker_functions=marker_functions,\n",
    "    microstructure=microstructure,\n",
    ")"
   ]
  },
  {
   "cell_type": "code",
   "execution_count": null,
   "id": "c5c47aac",
   "metadata": {},
   "outputs": [],
   "source": [
    "# Use the default material parameters\n",
    "material_parameters = pulse.HolzapfelOgden.default_parameters()"
   ]
  },
  {
   "cell_type": "code",
   "execution_count": null,
   "id": "11500f67",
   "metadata": {},
   "outputs": [],
   "source": [
    "# Select model for active contraction\n",
    "active_model = pulse.ActiveModels.active_strain\n",
    "# active_model = \"active_stress\""
   ]
  },
  {
   "cell_type": "code",
   "execution_count": null,
   "id": "7ff003d3",
   "metadata": {},
   "outputs": [],
   "source": [
    "# Set the activation\n",
    "activation = Constant(0.0)"
   ]
  },
  {
   "cell_type": "code",
   "execution_count": null,
   "id": "0c9aa86b",
   "metadata": {},
   "outputs": [],
   "source": [
    "# Create material\n",
    "material = pulse.HolzapfelOgden(\n",
    "    active_model=active_model,\n",
    "    parameters=material_parameters,\n",
    "    activation=activation,\n",
    ")"
   ]
  },
  {
   "cell_type": "code",
   "execution_count": null,
   "id": "d90a093f",
   "metadata": {},
   "outputs": [],
   "source": [
    "# Make Dirichlet boundary conditions\n",
    "def dirichlet_bc(W):\n",
    "    V = W if W.sub(0).num_sub_spaces() == 0 else W.sub(0)\n",
    "    return DirichletBC(V, Constant((0.0, 0.0, 0.0)), fixed)"
   ]
  },
  {
   "cell_type": "code",
   "execution_count": null,
   "id": "6211ead7",
   "metadata": {},
   "outputs": [],
   "source": [
    "# Make Neumann boundary conditions\n",
    "neumann_bc = pulse.NeumannBC(traction=Constant(0.0), marker=free_marker)"
   ]
  },
  {
   "cell_type": "code",
   "execution_count": null,
   "id": "5c98c065",
   "metadata": {},
   "outputs": [],
   "source": [
    "# Collect Boundary Conditions\n",
    "bcs = pulse.BoundaryConditions(dirichlet=(dirichlet_bc,), neumann=(neumann_bc,))"
   ]
  },
  {
   "cell_type": "code",
   "execution_count": null,
   "id": "5191be47",
   "metadata": {},
   "outputs": [],
   "source": [
    "# Create problem\n",
    "problem = pulse.MechanicsProblem(geometry, material, bcs)"
   ]
  },
  {
   "cell_type": "code",
   "execution_count": null,
   "id": "c6314b3f",
   "metadata": {},
   "outputs": [],
   "source": [
    "# Solve problem\n",
    "pulse.iterate.iterate(problem, activation, 0.1)"
   ]
  },
  {
   "cell_type": "code",
   "execution_count": null,
   "id": "c1bb9ae4",
   "metadata": {},
   "outputs": [],
   "source": [
    "# Get displacement and hydrostatic pressure\n",
    "u, p = problem.state.split(deepcopy=True)"
   ]
  },
  {
   "cell_type": "code",
   "execution_count": null,
   "id": "74c28afa",
   "metadata": {},
   "outputs": [],
   "source": [
    "V = dolfin.VectorFunctionSpace(mesh, \"CG\", 1)\n",
    "u_int = interpolate(u, V)\n",
    "new_mesh = Mesh(mesh)\n",
    "dolfin.ALE.move(new_mesh, u_int)"
   ]
  },
  {
   "cell_type": "code",
   "execution_count": null,
   "id": "a17e7ee6",
   "metadata": {},
   "outputs": [],
   "source": [
    "fig = plot(mesh, show=False)\n",
    "fig.add_plot(plot(new_mesh, color=\"red\", show=False))\n",
    "fig.show()"
   ]
  }
 ],
 "metadata": {
  "jupytext": {
   "cell_metadata_filter": "-all",
   "main_language": "python",
   "notebook_metadata_filter": "-all"
  }
 },
 "nbformat": 4,
 "nbformat_minor": 5
}
