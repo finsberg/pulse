{
 "cells": [
  {
   "cell_type": "markdown",
   "id": "42dbeea7",
   "metadata": {},
   "source": [
    "# Cardiac mechanics Benchmark - Problem 2\n",
    "This code implements problem 2 in the Cardiac Mechanic Benchmark paper\n",
    "\n",
    "> Land S, Gurev V, Arens S, Augustin CM, Baron L, Blake R, Bradley C, Castro S,\n",
    "Crozier A, Favino M, Fastl TE. Verification of cardiac mechanics software:\n",
    "benchmark problems and solutions for testing active and passive material\n",
    "behaviour. Proc. R. Soc. A. 2015 Dec 8;471(2184):20150641.\n"
   ]
  },
  {
   "cell_type": "code",
   "execution_count": null,
   "id": "f11ccf6d",
   "metadata": {},
   "outputs": [],
   "source": [
    "from pathlib import Path"
   ]
  },
  {
   "cell_type": "code",
   "execution_count": null,
   "id": "714cae85",
   "metadata": {},
   "outputs": [],
   "source": [
    "import dolfin"
   ]
  },
  {
   "cell_type": "code",
   "execution_count": null,
   "id": "95001328",
   "metadata": {},
   "outputs": [],
   "source": [
    "try:\n",
    "    from dolfin_adjoint import Constant, DirichletBC, Mesh, interpolate\n",
    "except ImportError:\n",
    "    from dolfin import DirichletBC, Constant, interpolate, Mesh"
   ]
  },
  {
   "cell_type": "code",
   "execution_count": null,
   "id": "94aeb4f8",
   "metadata": {},
   "outputs": [],
   "source": [
    "import pulse\n",
    "from fenics_plotly import plot"
   ]
  },
  {
   "cell_type": "code",
   "execution_count": null,
   "id": "e6026f35",
   "metadata": {
    "lines_to_next_cell": 2
   },
   "outputs": [],
   "source": [
    "here = Path(__file__).absolute().parent"
   ]
  },
  {
   "cell_type": "code",
   "execution_count": null,
   "id": "78fff75b",
   "metadata": {
    "lines_to_next_cell": 2
   },
   "outputs": [],
   "source": [
    "geometry = pulse.HeartGeometry.from_file(pulse.mesh_paths[\"benchmark\"])\n",
    "# geometry = pulse.geometries.benchmark_ellipsoid_geometry()"
   ]
  },
  {
   "cell_type": "code",
   "execution_count": null,
   "id": "29052750",
   "metadata": {},
   "outputs": [],
   "source": [
    "# Create the material\n",
    "material_parameters = pulse.Guccione.default_parameters()\n",
    "material_parameters[\"CC\"] = 10.0\n",
    "material_parameters[\"bf\"] = 1.0\n",
    "material_parameters[\"bfs\"] = 1.0\n",
    "material_parameters[\"bt\"] = 1.0"
   ]
  },
  {
   "cell_type": "code",
   "execution_count": null,
   "id": "549b1d68",
   "metadata": {},
   "outputs": [],
   "source": [
    "material = pulse.Guccione(parameters=material_parameters)"
   ]
  },
  {
   "cell_type": "code",
   "execution_count": null,
   "id": "97e3d2b5",
   "metadata": {},
   "outputs": [],
   "source": [
    "# Define Dirichlet boundary. Fix the base_spring\n",
    "def dirichlet_bc(W):\n",
    "    V = W if W.sub(0).num_sub_spaces() == 0 else W.sub(0)\n",
    "    return DirichletBC(\n",
    "        V,\n",
    "        Constant((0.0, 0.0, 0.0)),\n",
    "        geometry.ffun,\n",
    "        geometry.markers[\"BASE\"][0],\n",
    "    )"
   ]
  },
  {
   "cell_type": "code",
   "execution_count": null,
   "id": "f59be1f3",
   "metadata": {},
   "outputs": [],
   "source": [
    "# Traction at the bottom of the beam\n",
    "lvp = Constant(0.0)\n",
    "neumann_bc = pulse.NeumannBC(traction=lvp, marker=geometry.markers[\"ENDO\"][0])"
   ]
  },
  {
   "cell_type": "code",
   "execution_count": null,
   "id": "b53f84b0",
   "metadata": {},
   "outputs": [],
   "source": [
    "# Collect Boundary Conditions\n",
    "bcs = pulse.BoundaryConditions(dirichlet=(dirichlet_bc,), neumann=(neumann_bc,))"
   ]
  },
  {
   "cell_type": "code",
   "execution_count": null,
   "id": "4bd5e6b8",
   "metadata": {},
   "outputs": [],
   "source": [
    "# Create problem\n",
    "problem = pulse.MechanicsProblem(geometry, material, bcs)"
   ]
  },
  {
   "cell_type": "code",
   "execution_count": null,
   "id": "3b97b854",
   "metadata": {},
   "outputs": [],
   "source": [
    "# Solve problem\n",
    "pulse.iterate.iterate(problem, lvp, 10.0, initial_number_of_steps=200)"
   ]
  },
  {
   "cell_type": "code",
   "execution_count": null,
   "id": "8d091479",
   "metadata": {},
   "outputs": [],
   "source": [
    "# Get displacement and hydrostatic pressure\n",
    "u, p = problem.state.split(deepcopy=True)"
   ]
  },
  {
   "cell_type": "code",
   "execution_count": null,
   "id": "850a1c45",
   "metadata": {},
   "outputs": [],
   "source": [
    "endo_apex_marker = geometry.markers[\"APEX_ENDO\"][0]\n",
    "endo_apex_idx = geometry.vfun.array().tolist().index(endo_apex_marker)\n",
    "endo_apex = geometry.mesh.coordinates()[endo_apex_idx, :]\n",
    "endo_apex_pos = endo_apex + u(endo_apex)"
   ]
  },
  {
   "cell_type": "code",
   "execution_count": null,
   "id": "1d91870e",
   "metadata": {
    "lines_to_next_cell": 2
   },
   "outputs": [],
   "source": [
    "print(\n",
    "    (\"\\n\\nGet longitudinal position of endocardial apex: {:.4f} mm\" \"\").format(\n",
    "        endo_apex_pos[0],\n",
    "    ),\n",
    ")"
   ]
  },
  {
   "cell_type": "code",
   "execution_count": null,
   "id": "f112bcd1",
   "metadata": {},
   "outputs": [],
   "source": [
    "epi_apex_marker = geometry.markers[\"APEX_EPI\"][0]\n",
    "epi_apex_idx = geometry.vfun.array().tolist().index(epi_apex_marker)\n",
    "epi_apex = geometry.mesh.coordinates()[epi_apex_idx, :]\n",
    "epi_apex_pos = epi_apex + u(epi_apex)"
   ]
  },
  {
   "cell_type": "code",
   "execution_count": null,
   "id": "f02cbbad",
   "metadata": {},
   "outputs": [],
   "source": [
    "print(\n",
    "    (\"\\n\\nGet longitudinal position of epicardial apex: {:.4f} mm\" \"\").format(\n",
    "        epi_apex_pos[0],\n",
    "    ),\n",
    ")"
   ]
  },
  {
   "cell_type": "code",
   "execution_count": null,
   "id": "31a52af1",
   "metadata": {
    "lines_to_next_cell": 2
   },
   "outputs": [],
   "source": [
    "V = dolfin.VectorFunctionSpace(geometry.mesh, \"CG\", 1)\n",
    "u_int = interpolate(u, V)\n",
    "mesh = Mesh(geometry.mesh)\n",
    "dolfin.ALE.move(mesh, u_int)"
   ]
  },
  {
   "cell_type": "code",
   "execution_count": null,
   "id": "2be18a2c",
   "metadata": {},
   "outputs": [],
   "source": [
    "fig = plot(geometry.mesh, color=\"red\", show=False)\n",
    "fig.add_plot(plot(mesh, opacity=0.3, show=False))\n",
    "fig.show()"
   ]
  }
 ],
 "metadata": {
  "jupytext": {
   "cell_metadata_filter": "-all",
   "main_language": "python",
   "notebook_metadata_filter": "-all"
  }
 },
 "nbformat": 4,
 "nbformat_minor": 5
}
