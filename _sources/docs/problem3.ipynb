{
 "cells": [
  {
   "cell_type": "markdown",
   "id": "e1a1cd78",
   "metadata": {},
   "source": [
    "# Cardiac mechanics Benchmark - Problem 3\n",
    "This code implements problem 3 in the Cardiac Mechanic Benchmark paper\n",
    "\n",
    "> Land S, Gurev V, Arens S, Augustin CM, Baron L, Blake R, Bradley C, Castro S,\n",
    "Crozier A, Favino M, Fastl TE. Verification of cardiac mechanics software:\n",
    "benchmark problems and solutions for testing active and passive material\n",
    "behaviour. Proc. R. Soc. A. 2015 Dec 8;471(2184):20150641.\n"
   ]
  },
  {
   "cell_type": "code",
   "execution_count": null,
   "id": "b91ed0fe",
   "metadata": {},
   "outputs": [],
   "source": [
    "import dolfin"
   ]
  },
  {
   "cell_type": "code",
   "execution_count": null,
   "id": "13c848f7",
   "metadata": {},
   "outputs": [],
   "source": [
    "try:\n",
    "    from dolfin_adjoint import Constant, DirichletBC, Mesh, interpolate\n",
    "except ImportError:\n",
    "    from dolfin import DirichletBC, Constant, interpolate, Mesh"
   ]
  },
  {
   "cell_type": "code",
   "execution_count": null,
   "id": "616362e2",
   "metadata": {},
   "outputs": [],
   "source": [
    "import pulse\n",
    "from fenics_plotly import plot"
   ]
  },
  {
   "cell_type": "code",
   "execution_count": null,
   "id": "de31f438",
   "metadata": {},
   "outputs": [],
   "source": [
    "geometry = pulse.HeartGeometry.from_file(pulse.mesh_paths[\"benchmark\"])\n",
    "# geometry = pulse.geometries.benchmark_ellipsoid_geometry()"
   ]
  },
  {
   "cell_type": "code",
   "execution_count": null,
   "id": "4cf4bbad",
   "metadata": {},
   "outputs": [],
   "source": [
    "# Create the material\n",
    "material_parameters = pulse.Guccione.default_parameters()\n",
    "material_parameters[\"CC\"] = 2.0\n",
    "material_parameters[\"bf\"] = 8.0\n",
    "material_parameters[\"bfs\"] = 4.0\n",
    "material_parameters[\"bt\"] = 2.0"
   ]
  },
  {
   "cell_type": "code",
   "execution_count": null,
   "id": "6690c218",
   "metadata": {},
   "outputs": [],
   "source": [
    "activation = Constant(0.0)\n",
    "material = pulse.Guccione(\n",
    "    parameters=material_parameters,\n",
    "    active_model=pulse.ActiveModels.active_stress,\n",
    "    activation=activation,\n",
    ")"
   ]
  },
  {
   "cell_type": "code",
   "execution_count": null,
   "id": "e53bc9f5",
   "metadata": {},
   "outputs": [],
   "source": [
    "# Define Dirichlet boundary. Fix the base_spring\n",
    "def dirichlet_bc(W):\n",
    "    V = W if W.sub(0).num_sub_spaces() == 0 else W.sub(0)\n",
    "    return DirichletBC(\n",
    "        V,\n",
    "        Constant((0.0, 0.0, 0.0)),\n",
    "        geometry.ffun,\n",
    "        geometry.markers[\"BASE\"][0],\n",
    "    )"
   ]
  },
  {
   "cell_type": "code",
   "execution_count": null,
   "id": "6f89e1b7",
   "metadata": {},
   "outputs": [],
   "source": [
    "# Traction at the bottom of the beam\n",
    "lvp = Constant(0.0)\n",
    "neumann_bc = pulse.NeumannBC(traction=lvp, marker=geometry.markers[\"ENDO\"][0])"
   ]
  },
  {
   "cell_type": "code",
   "execution_count": null,
   "id": "118ab9a3",
   "metadata": {},
   "outputs": [],
   "source": [
    "# Collect Boundary Conditions\n",
    "bcs = pulse.BoundaryConditions(dirichlet=(dirichlet_bc,), neumann=(neumann_bc,))"
   ]
  },
  {
   "cell_type": "code",
   "execution_count": null,
   "id": "ac05d19a",
   "metadata": {},
   "outputs": [],
   "source": [
    "# Create problem\n",
    "problem = pulse.MechanicsProblem(geometry, material, bcs)"
   ]
  },
  {
   "cell_type": "code",
   "execution_count": null,
   "id": "f3052a59",
   "metadata": {},
   "outputs": [],
   "source": [
    "# Solve problem\n",
    "pulse.iterate.iterate(problem, lvp, 15.0, initial_number_of_steps=50)\n",
    "pulse.iterate.iterate(problem, activation, 60.0, initial_number_of_steps=50)"
   ]
  },
  {
   "cell_type": "code",
   "execution_count": null,
   "id": "9cefc337",
   "metadata": {
    "lines_to_next_cell": 2
   },
   "outputs": [],
   "source": [
    "# Get displacement and hydrostatic pressure\n",
    "u, p = problem.state.split(deepcopy=True)"
   ]
  },
  {
   "cell_type": "code",
   "execution_count": null,
   "id": "01bfe6db",
   "metadata": {},
   "outputs": [],
   "source": [
    "endo_apex_marker = geometry.markers[\"APEX_ENDO\"][0]\n",
    "endo_apex_idx = geometry.vfun.array().tolist().index(endo_apex_marker)\n",
    "endo_apex = geometry.mesh.coordinates()[endo_apex_idx, :]\n",
    "endo_apex_pos = endo_apex + u(endo_apex)"
   ]
  },
  {
   "cell_type": "code",
   "execution_count": null,
   "id": "1b9b6695",
   "metadata": {
    "lines_to_next_cell": 2
   },
   "outputs": [],
   "source": [
    "print(\n",
    "    (\"\\n\\nGet longitudinal position of endocardial apex: {:.4f} mm\" \"\").format(\n",
    "        endo_apex_pos[0],\n",
    "    ),\n",
    ")"
   ]
  },
  {
   "cell_type": "code",
   "execution_count": null,
   "id": "8dbdca3f",
   "metadata": {},
   "outputs": [],
   "source": [
    "epi_apex_marker = geometry.markers[\"APEX_EPI\"][0]\n",
    "epi_apex_idx = geometry.vfun.array().tolist().index(epi_apex_marker)\n",
    "epi_apex = geometry.mesh.coordinates()[epi_apex_idx, :]\n",
    "epi_apex_pos = epi_apex + u(epi_apex)"
   ]
  },
  {
   "cell_type": "code",
   "execution_count": null,
   "id": "d634d548",
   "metadata": {},
   "outputs": [],
   "source": [
    "print(\n",
    "    (\"\\n\\nGet longitudinal position of epicardial apex: {:.4f} mm\" \"\").format(\n",
    "        epi_apex_pos[0],\n",
    "    ),\n",
    ")"
   ]
  },
  {
   "cell_type": "code",
   "execution_count": null,
   "id": "350dc45d",
   "metadata": {
    "lines_to_next_cell": 2
   },
   "outputs": [],
   "source": [
    "V = dolfin.VectorFunctionSpace(geometry.mesh, \"CG\", 1)\n",
    "u_int = interpolate(u, V)\n",
    "mesh = Mesh(geometry.mesh)\n",
    "dolfin.ALE.move(mesh, u_int)"
   ]
  },
  {
   "cell_type": "code",
   "execution_count": null,
   "id": "11e09df8",
   "metadata": {},
   "outputs": [],
   "source": [
    "fig = plot(geometry.mesh, color=\"red\", show=False)\n",
    "fig.add_plot(plot(mesh, opacity=0.3, show=False))\n",
    "fig.show()"
   ]
  }
 ],
 "metadata": {
  "jupytext": {
   "cell_metadata_filter": "-all",
   "main_language": "python",
   "notebook_metadata_filter": "-all"
  }
 },
 "nbformat": 4,
 "nbformat_minor": 5
}
