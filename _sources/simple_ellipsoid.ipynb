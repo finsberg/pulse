{
 "cells": [
  {
   "cell_type": "markdown",
   "id": "cf6b0d5b",
   "metadata": {},
   "source": [
    "# Simple ellipsoid\n"
   ]
  },
  {
   "cell_type": "code",
   "execution_count": null,
   "id": "3c684952",
   "metadata": {},
   "outputs": [],
   "source": [
    "import dolfin\n",
    "from fenics_plotly import plot"
   ]
  },
  {
   "cell_type": "code",
   "execution_count": null,
   "id": "fa39b891",
   "metadata": {
    "lines_to_next_cell": 2
   },
   "outputs": [],
   "source": [
    "import pulse"
   ]
  },
  {
   "cell_type": "code",
   "execution_count": null,
   "id": "2bba35d3",
   "metadata": {},
   "outputs": [],
   "source": [
    "try:\n",
    "    from dolfin_adjoint import Constant, DirichletBC, Function, Mesh, interpolate\n",
    "except ImportError:\n",
    "    from dolfin import Function, Constant, DirichletBC, Mesh, interpolate"
   ]
  },
  {
   "cell_type": "code",
   "execution_count": null,
   "id": "4884bc67",
   "metadata": {},
   "outputs": [],
   "source": [
    "gamma_space = \"R_0\""
   ]
  },
  {
   "cell_type": "code",
   "execution_count": null,
   "id": "07680fa9",
   "metadata": {},
   "outputs": [],
   "source": [
    "geometry = pulse.HeartGeometry.from_file(pulse.mesh_paths[\"simple_ellipsoid\"])\n",
    "# geometry = pulse.geometries.prolate_ellipsoid_geometry(mesh_size_factor=3.0)"
   ]
  },
  {
   "cell_type": "code",
   "execution_count": null,
   "id": "810479df",
   "metadata": {},
   "outputs": [],
   "source": [
    "if gamma_space == \"regional\":\n",
    "    activation = pulse.RegionalParameter(geometry.cfun)\n",
    "    target_activation = pulse.dolfin_utils.get_constant(0.2, len(activation))\n",
    "else:\n",
    "    activation = Function(dolfin.FunctionSpace(geometry.mesh, \"R\", 0))\n",
    "    target_activation = Constant(0.2)"
   ]
  },
  {
   "cell_type": "code",
   "execution_count": null,
   "id": "3a24979d",
   "metadata": {},
   "outputs": [],
   "source": [
    "matparams = pulse.HolzapfelOgden.default_parameters()\n",
    "material = pulse.HolzapfelOgden(\n",
    "    activation=activation,\n",
    "    parameters=matparams,\n",
    "    f0=geometry.f0,\n",
    "    s0=geometry.s0,\n",
    "    n0=geometry.n0,\n",
    ")"
   ]
  },
  {
   "cell_type": "code",
   "execution_count": null,
   "id": "eac0e815",
   "metadata": {},
   "outputs": [],
   "source": [
    "# LV Pressure\n",
    "lvp = Constant(0.0)\n",
    "lv_marker = geometry.markers[\"ENDO\"][0]\n",
    "lv_pressure = pulse.NeumannBC(traction=lvp, marker=lv_marker, name=\"lv\")\n",
    "neumann_bc = [lv_pressure]"
   ]
  },
  {
   "cell_type": "code",
   "execution_count": null,
   "id": "579bd96c",
   "metadata": {},
   "outputs": [],
   "source": [
    "# Add spring term at the epicardium of stiffness 1.0 kPa/cm^2 to represent pericardium\n",
    "base_spring = 1.0\n",
    "robin_bc = [\n",
    "    pulse.RobinBC(value=Constant(base_spring), marker=geometry.markers[\"EPI\"][0]),\n",
    "]"
   ]
  },
  {
   "cell_type": "code",
   "execution_count": null,
   "id": "a619b27c",
   "metadata": {},
   "outputs": [],
   "source": [
    "# Fix the basal plane in the longitudinal direction\n",
    "# 0 in V.sub(0) refers to x-direction, which is the longitudinal direction\n",
    "def fix_basal_plane(W):\n",
    "    V = W if W.sub(0).num_sub_spaces() == 0 else W.sub(0)\n",
    "    bc = DirichletBC(\n",
    "        V.sub(0),\n",
    "        Constant(0.0),\n",
    "        geometry.ffun,\n",
    "        geometry.markers[\"BASE\"][0],\n",
    "    )\n",
    "    return bc"
   ]
  },
  {
   "cell_type": "code",
   "execution_count": null,
   "id": "d90c3290",
   "metadata": {
    "lines_to_next_cell": 2
   },
   "outputs": [],
   "source": [
    "dirichlet_bc = (fix_basal_plane,)"
   ]
  },
  {
   "cell_type": "code",
   "execution_count": null,
   "id": "b55d9880",
   "metadata": {},
   "outputs": [],
   "source": [
    "# Collect boundary conditions\n",
    "bcs = pulse.BoundaryConditions(\n",
    "    dirichlet=dirichlet_bc,\n",
    "    neumann=neumann_bc,\n",
    "    robin=robin_bc,\n",
    ")"
   ]
  },
  {
   "cell_type": "code",
   "execution_count": null,
   "id": "c8cb6c9b",
   "metadata": {},
   "outputs": [],
   "source": [
    "# Create the problem\n",
    "problem = pulse.MechanicsProblem(geometry, material, bcs)"
   ]
  },
  {
   "cell_type": "code",
   "execution_count": null,
   "id": "eb612ddb",
   "metadata": {},
   "outputs": [],
   "source": [
    "# Solve the problem\n",
    "pulse.iterate.iterate(problem, (lvp, activation), (1.0, target_activation))"
   ]
  },
  {
   "cell_type": "code",
   "execution_count": null,
   "id": "2789788f",
   "metadata": {},
   "outputs": [],
   "source": [
    "# Get the solution\n",
    "u, p = problem.state.split(deepcopy=True)"
   ]
  },
  {
   "cell_type": "code",
   "execution_count": null,
   "id": "bb5ce780",
   "metadata": {},
   "outputs": [],
   "source": [
    "# Move mesh accoring to displacement\n",
    "u_int = interpolate(u, dolfin.VectorFunctionSpace(geometry.mesh, \"CG\", 1))\n",
    "mesh = Mesh(geometry.mesh)\n",
    "dolfin.ALE.move(mesh, u_int)"
   ]
  },
  {
   "cell_type": "code",
   "execution_count": null,
   "id": "343edff6",
   "metadata": {},
   "outputs": [],
   "source": [
    "fig = plot(geometry.mesh, opacity=0.0, show=False)\n",
    "fig.add_plot(plot(mesh, color=\"red\", show=False))\n",
    "fig.show()"
   ]
  }
 ],
 "metadata": {
  "jupytext": {
   "cell_metadata_filter": "-all",
   "main_language": "python",
   "notebook_metadata_filter": "-all"
  }
 },
 "nbformat": 4,
 "nbformat_minor": 5
}
