{
 "cells": [
  {
   "cell_type": "markdown",
   "id": "7f8d3022",
   "metadata": {},
   "source": [
    "# Simple ellipsoid\n"
   ]
  },
  {
   "cell_type": "code",
   "execution_count": null,
   "id": "eb21dd41",
   "metadata": {},
   "outputs": [],
   "source": [
    "import dolfin\n",
    "from fenics_plotly import plot"
   ]
  },
  {
   "cell_type": "code",
   "execution_count": null,
   "id": "2971fef8",
   "metadata": {
    "lines_to_next_cell": 2
   },
   "outputs": [],
   "source": [
    "import pulse"
   ]
  },
  {
   "cell_type": "code",
   "execution_count": null,
   "id": "17ae922a",
   "metadata": {},
   "outputs": [],
   "source": [
    "try:\n",
    "    from dolfin_adjoint import Constant, DirichletBC, Function, Mesh, interpolate\n",
    "except ImportError:\n",
    "    from dolfin import Function, Constant, DirichletBC, Mesh, interpolate"
   ]
  },
  {
   "cell_type": "code",
   "execution_count": null,
   "id": "4169b059",
   "metadata": {},
   "outputs": [],
   "source": [
    "gamma_space = \"R_0\""
   ]
  },
  {
   "cell_type": "code",
   "execution_count": null,
   "id": "42b9d0ed",
   "metadata": {},
   "outputs": [],
   "source": [
    "geometry = pulse.HeartGeometry.from_file(pulse.mesh_paths[\"simple_ellipsoid\"])\n",
    "# geometry = pulse.geometries.prolate_ellipsoid_geometry(mesh_size_factor=3.0)"
   ]
  },
  {
   "cell_type": "code",
   "execution_count": null,
   "id": "a07bed84",
   "metadata": {},
   "outputs": [],
   "source": [
    "if gamma_space == \"regional\":\n",
    "    activation = pulse.RegionalParameter(geometry.cfun)\n",
    "    target_activation = pulse.dolfin_utils.get_constant(0.2, len(activation))\n",
    "else:\n",
    "    activation = Function(dolfin.FunctionSpace(geometry.mesh, \"R\", 0))\n",
    "    target_activation = Constant(0.2)"
   ]
  },
  {
   "cell_type": "code",
   "execution_count": null,
   "id": "963c6834",
   "metadata": {},
   "outputs": [],
   "source": [
    "matparams = pulse.HolzapfelOgden.default_parameters()\n",
    "material = pulse.HolzapfelOgden(\n",
    "    activation=activation,\n",
    "    parameters=matparams,\n",
    "    f0=geometry.f0,\n",
    "    s0=geometry.s0,\n",
    "    n0=geometry.n0,\n",
    ")"
   ]
  },
  {
   "cell_type": "code",
   "execution_count": null,
   "id": "31e942fc",
   "metadata": {},
   "outputs": [],
   "source": [
    "# LV Pressure\n",
    "lvp = Constant(0.0)\n",
    "lv_marker = geometry.markers[\"ENDO\"][0]\n",
    "lv_pressure = pulse.NeumannBC(traction=lvp, marker=lv_marker, name=\"lv\")\n",
    "neumann_bc = [lv_pressure]"
   ]
  },
  {
   "cell_type": "code",
   "execution_count": null,
   "id": "068e496d",
   "metadata": {},
   "outputs": [],
   "source": [
    "# Add spring term at the epicardium of stiffness 1.0 kPa/cm^2 to represent pericardium\n",
    "base_spring = 1.0\n",
    "robin_bc = [\n",
    "    pulse.RobinBC(value=Constant(base_spring), marker=geometry.markers[\"EPI\"][0]),\n",
    "]"
   ]
  },
  {
   "cell_type": "code",
   "execution_count": null,
   "id": "042e92a9",
   "metadata": {},
   "outputs": [],
   "source": [
    "# Fix the basal plane in the longitudinal direction\n",
    "# 0 in V.sub(0) refers to x-direction, which is the longitudinal direction\n",
    "def fix_basal_plane(W):\n",
    "    V = W if W.sub(0).num_sub_spaces() == 0 else W.sub(0)\n",
    "    bc = DirichletBC(\n",
    "        V.sub(0),\n",
    "        Constant(0.0),\n",
    "        geometry.ffun,\n",
    "        geometry.markers[\"BASE\"][0],\n",
    "    )\n",
    "    return bc"
   ]
  },
  {
   "cell_type": "code",
   "execution_count": null,
   "id": "d64f300e",
   "metadata": {
    "lines_to_next_cell": 2
   },
   "outputs": [],
   "source": [
    "dirichlet_bc = (fix_basal_plane,)"
   ]
  },
  {
   "cell_type": "code",
   "execution_count": null,
   "id": "83aa228c",
   "metadata": {},
   "outputs": [],
   "source": [
    "# Collect boundary conditions\n",
    "bcs = pulse.BoundaryConditions(\n",
    "    dirichlet=dirichlet_bc,\n",
    "    neumann=neumann_bc,\n",
    "    robin=robin_bc,\n",
    ")"
   ]
  },
  {
   "cell_type": "code",
   "execution_count": null,
   "id": "317a8fb1",
   "metadata": {},
   "outputs": [],
   "source": [
    "# Create the problem\n",
    "problem = pulse.MechanicsProblem(geometry, material, bcs)"
   ]
  },
  {
   "cell_type": "code",
   "execution_count": null,
   "id": "2ae12f0c",
   "metadata": {},
   "outputs": [],
   "source": [
    "# Solve the problem\n",
    "pulse.iterate.iterate(problem, (lvp, activation), (1.0, target_activation))"
   ]
  },
  {
   "cell_type": "code",
   "execution_count": null,
   "id": "0f5dfe75",
   "metadata": {},
   "outputs": [],
   "source": [
    "# Get the solution\n",
    "u, p = problem.state.split(deepcopy=True)"
   ]
  },
  {
   "cell_type": "code",
   "execution_count": null,
   "id": "2fbc4bab",
   "metadata": {},
   "outputs": [],
   "source": [
    "# Move mesh accoring to displacement\n",
    "u_int = interpolate(u, dolfin.VectorFunctionSpace(geometry.mesh, \"CG\", 1))\n",
    "mesh = Mesh(geometry.mesh)\n",
    "dolfin.ALE.move(mesh, u_int)"
   ]
  },
  {
   "cell_type": "code",
   "execution_count": null,
   "id": "2d2b9aaa",
   "metadata": {},
   "outputs": [],
   "source": [
    "fig = plot(geometry.mesh, opacity=0.0, show=False)\n",
    "fig.add_plot(plot(mesh, color=\"red\", show=False))\n",
    "fig.show()"
   ]
  }
 ],
 "metadata": {
  "jupytext": {
   "cell_metadata_filter": "-all",
   "main_language": "python",
   "notebook_metadata_filter": "-all"
  }
 },
 "nbformat": 4,
 "nbformat_minor": 5
}
