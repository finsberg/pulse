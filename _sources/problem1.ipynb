{
 "cells": [
  {
   "cell_type": "markdown",
   "id": "43b9ab34",
   "metadata": {},
   "source": [
    "# Cardiac mechanics Benchmark - Problem 1\n",
    "This code implements problem 1 in the Cardiac Mechanic Benchmark paper\n",
    "\n",
    "> Land S, Gurev V, Arens S, Augustin CM, Baron L, Blake R, Bradley C, Castro S,\n",
    "Crozier A, Favino M, Fastl TE. Verification of cardiac mechanics software:\n",
    "benchmark problems and solutions for testing active and passive material\n",
    "behaviour. Proc. R. Soc. A. 2015 Dec 8;471(2184):20150641.\n"
   ]
  },
  {
   "cell_type": "code",
   "execution_count": null,
   "id": "0935b29d",
   "metadata": {},
   "outputs": [],
   "source": [
    "import dolfin\n",
    "import numpy as np"
   ]
  },
  {
   "cell_type": "code",
   "execution_count": null,
   "id": "4f9d6f6a",
   "metadata": {},
   "outputs": [],
   "source": [
    "try:\n",
    "    from dolfin_adjoint import (\n",
    "        BoxMesh,\n",
    "        Constant,\n",
    "        DirichletBC,\n",
    "        Expression,\n",
    "        Mesh,\n",
    "        interpolate,\n",
    "    )\n",
    "except ImportError:\n",
    "    from dolfin import BoxMesh, Expression, DirichletBC, Constant, interpolate, Mesh"
   ]
  },
  {
   "cell_type": "code",
   "execution_count": null,
   "id": "b2a8c135",
   "metadata": {
    "lines_to_next_cell": 2
   },
   "outputs": [],
   "source": [
    "import pulse\n",
    "from fenics_plotly import plot"
   ]
  },
  {
   "cell_type": "markdown",
   "id": "ef065f01",
   "metadata": {},
   "source": [
    "Create the Beam geometry"
   ]
  },
  {
   "cell_type": "code",
   "execution_count": null,
   "id": "4c2c3f08",
   "metadata": {},
   "outputs": [],
   "source": [
    "# Length\n",
    "L = 10\n",
    "# Width\n",
    "W = 1"
   ]
  },
  {
   "cell_type": "code",
   "execution_count": null,
   "id": "69044bc2",
   "metadata": {},
   "outputs": [],
   "source": [
    "# Create mesh\n",
    "mesh = BoxMesh(dolfin.Point(0, 0, 0), dolfin.Point(L, W, W), 30, 3, 3)"
   ]
  },
  {
   "cell_type": "code",
   "execution_count": null,
   "id": "05234720",
   "metadata": {},
   "outputs": [],
   "source": [
    "# Mark boundary subdomians\n",
    "left = dolfin.CompiledSubDomain(\"near(x[0], side) && on_boundary\", side=0)\n",
    "bottom = dolfin.CompiledSubDomain(\"near(x[2], side) && on_boundary\", side=0)"
   ]
  },
  {
   "cell_type": "code",
   "execution_count": null,
   "id": "ea90a34b",
   "metadata": {},
   "outputs": [],
   "source": [
    "boundary_markers = dolfin.MeshFunction(\"size_t\", mesh, mesh.topology().dim() - 1)\n",
    "boundary_markers.set_all(0)"
   ]
  },
  {
   "cell_type": "code",
   "execution_count": null,
   "id": "25770eec",
   "metadata": {},
   "outputs": [],
   "source": [
    "left_marker = 1\n",
    "left.mark(boundary_markers, 1)\n",
    "bottom_marker = 2\n",
    "bottom.mark(boundary_markers, 2)"
   ]
  },
  {
   "cell_type": "code",
   "execution_count": null,
   "id": "ace3a15c",
   "metadata": {},
   "outputs": [],
   "source": [
    "marker_functions = pulse.MarkerFunctions(ffun=boundary_markers)"
   ]
  },
  {
   "cell_type": "code",
   "execution_count": null,
   "id": "6a6d7155",
   "metadata": {},
   "outputs": [],
   "source": [
    "# Create mictrotructure\n",
    "f0 = Expression((\"1.0\", \"0.0\", \"0.0\"), degree=1, cell=mesh.ufl_cell())\n",
    "s0 = Expression((\"0.0\", \"1.0\", \"0.0\"), degree=1, cell=mesh.ufl_cell())\n",
    "n0 = Expression((\"0.0\", \"0.0\", \"1.0\"), degree=1, cell=mesh.ufl_cell())"
   ]
  },
  {
   "cell_type": "code",
   "execution_count": null,
   "id": "ff5a4828",
   "metadata": {},
   "outputs": [],
   "source": [
    "# Collect the mictrotructure\n",
    "microstructure = pulse.Microstructure(f0=f0, s0=s0, n0=n0)"
   ]
  },
  {
   "cell_type": "code",
   "execution_count": null,
   "id": "ef019f66",
   "metadata": {},
   "outputs": [],
   "source": [
    "# Create the geometry\n",
    "geometry = pulse.Geometry(\n",
    "    mesh=mesh,\n",
    "    marker_functions=marker_functions,\n",
    "    microstructure=microstructure,\n",
    ")"
   ]
  },
  {
   "cell_type": "code",
   "execution_count": null,
   "id": "af2b7cad",
   "metadata": {},
   "outputs": [],
   "source": [
    "# Create the material\n",
    "material_parameters = pulse.Guccione.default_parameters()\n",
    "material_parameters[\"CC\"] = 2.0\n",
    "material_parameters[\"bf\"] = 8.0\n",
    "material_parameters[\"bfs\"] = 4.0\n",
    "material_parameters[\"bt\"] = 2.0"
   ]
  },
  {
   "cell_type": "code",
   "execution_count": null,
   "id": "0af7f933",
   "metadata": {},
   "outputs": [],
   "source": [
    "material = pulse.Guccione(parameters=material_parameters)"
   ]
  },
  {
   "cell_type": "code",
   "execution_count": null,
   "id": "ec6ffe86",
   "metadata": {},
   "outputs": [],
   "source": [
    "# Define Dirichlet boundary. Fix at the left boundary\n",
    "def dirichlet_bc(W):\n",
    "    V = W if W.sub(0).num_sub_spaces() == 0 else W.sub(0)\n",
    "    return DirichletBC(V, Constant((0.0, 0.0, 0.0)), left)"
   ]
  },
  {
   "cell_type": "code",
   "execution_count": null,
   "id": "2a06d640",
   "metadata": {},
   "outputs": [],
   "source": [
    "# Traction at the bottom of the beam\n",
    "p_bottom = Constant(0.004)\n",
    "neumann_bc = pulse.NeumannBC(traction=p_bottom, marker=bottom_marker)"
   ]
  },
  {
   "cell_type": "code",
   "execution_count": null,
   "id": "58188682",
   "metadata": {},
   "outputs": [],
   "source": [
    "# Collect Boundary Conditions\n",
    "bcs = pulse.BoundaryConditions(dirichlet=(dirichlet_bc,), neumann=(neumann_bc,))"
   ]
  },
  {
   "cell_type": "code",
   "execution_count": null,
   "id": "48f6ed3a",
   "metadata": {},
   "outputs": [],
   "source": [
    "# Create problem\n",
    "problem = pulse.MechanicsProblem(geometry, material, bcs)"
   ]
  },
  {
   "cell_type": "code",
   "execution_count": null,
   "id": "35365fb5",
   "metadata": {},
   "outputs": [],
   "source": [
    "# Solve problem\n",
    "problem.solve()"
   ]
  },
  {
   "cell_type": "code",
   "execution_count": null,
   "id": "32a8caae",
   "metadata": {},
   "outputs": [],
   "source": [
    "# Get displacement and hydrostatic pressure\n",
    "u, p = problem.state.split(deepcopy=True)"
   ]
  },
  {
   "cell_type": "code",
   "execution_count": null,
   "id": "d08691ea",
   "metadata": {},
   "outputs": [],
   "source": [
    "point = np.array([10.0, 0.5, 1.0])\n",
    "disp = np.zeros(3)\n",
    "u.eval(disp, point)"
   ]
  },
  {
   "cell_type": "code",
   "execution_count": null,
   "id": "4f84f3b4",
   "metadata": {},
   "outputs": [],
   "source": [
    "print(\n",
    "    (\"Get z-position of point ({}): {:.4f} mm\" \"\").format(\n",
    "        \", \".join([\"{:.1f}\".format(p) for p in point]),\n",
    "        point[2] + disp[2],\n",
    "    ),\n",
    ")"
   ]
  },
  {
   "cell_type": "code",
   "execution_count": null,
   "id": "169d2935",
   "metadata": {},
   "outputs": [],
   "source": [
    "V = dolfin.VectorFunctionSpace(geometry.mesh, \"CG\", 1)\n",
    "u_int = interpolate(u, V)\n",
    "mesh = Mesh(geometry.mesh)\n",
    "dolfin.ALE.move(mesh, u_int)"
   ]
  },
  {
   "cell_type": "code",
   "execution_count": null,
   "id": "4dabfb61",
   "metadata": {},
   "outputs": [],
   "source": [
    "fig = plot(geometry.mesh, show=False)\n",
    "fig.add_plot(plot(mesh, color=\"red\", show=False))\n",
    "fig.show()"
   ]
  }
 ],
 "metadata": {
  "jupytext": {
   "cell_metadata_filter": "-all",
   "main_language": "python",
   "notebook_metadata_filter": "-all"
  }
 },
 "nbformat": 4,
 "nbformat_minor": 5
}
