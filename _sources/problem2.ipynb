{
 "cells": [
  {
   "cell_type": "markdown",
   "id": "efa25d49",
   "metadata": {},
   "source": [
    "# Cardiac mechanics Benchmark - Problem 2\n",
    "This code implements problem 2 in the Cardiac Mechanic Benchmark paper\n",
    "\n",
    "> Land S, Gurev V, Arens S, Augustin CM, Baron L, Blake R, Bradley C, Castro S,\n",
    "Crozier A, Favino M, Fastl TE. Verification of cardiac mechanics software:\n",
    "benchmark problems and solutions for testing active and passive material\n",
    "behaviour. Proc. R. Soc. A. 2015 Dec 8;471(2184):20150641.\n"
   ]
  },
  {
   "cell_type": "code",
   "execution_count": null,
   "id": "9f74a033",
   "metadata": {},
   "outputs": [],
   "source": [
    "from pathlib import Path"
   ]
  },
  {
   "cell_type": "code",
   "execution_count": null,
   "id": "9d79d211",
   "metadata": {},
   "outputs": [],
   "source": [
    "import dolfin"
   ]
  },
  {
   "cell_type": "code",
   "execution_count": null,
   "id": "5302d343",
   "metadata": {},
   "outputs": [],
   "source": [
    "try:\n",
    "    from dolfin_adjoint import Constant, DirichletBC, Mesh, interpolate\n",
    "except ImportError:\n",
    "    from dolfin import DirichletBC, Constant, interpolate, Mesh"
   ]
  },
  {
   "cell_type": "code",
   "execution_count": null,
   "id": "d08d3fc9",
   "metadata": {},
   "outputs": [],
   "source": [
    "import pulse\n",
    "from fenics_plotly import plot"
   ]
  },
  {
   "cell_type": "code",
   "execution_count": null,
   "id": "1d2c3901",
   "metadata": {
    "lines_to_next_cell": 2
   },
   "outputs": [],
   "source": [
    "here = Path(__file__).absolute().parent"
   ]
  },
  {
   "cell_type": "code",
   "execution_count": null,
   "id": "e009ff84",
   "metadata": {
    "lines_to_next_cell": 2
   },
   "outputs": [],
   "source": [
    "geometry = pulse.HeartGeometry.from_file(pulse.mesh_paths[\"benchmark\"])\n",
    "# geometry = pulse.geometries.benchmark_ellipsoid_geometry()"
   ]
  },
  {
   "cell_type": "code",
   "execution_count": null,
   "id": "3b4867e5",
   "metadata": {},
   "outputs": [],
   "source": [
    "# Create the material\n",
    "material_parameters = pulse.Guccione.default_parameters()\n",
    "material_parameters[\"CC\"] = 10.0\n",
    "material_parameters[\"bf\"] = 1.0\n",
    "material_parameters[\"bfs\"] = 1.0\n",
    "material_parameters[\"bt\"] = 1.0"
   ]
  },
  {
   "cell_type": "code",
   "execution_count": null,
   "id": "05f1f9f0",
   "metadata": {},
   "outputs": [],
   "source": [
    "material = pulse.Guccione(parameters=material_parameters)"
   ]
  },
  {
   "cell_type": "code",
   "execution_count": null,
   "id": "0872e83f",
   "metadata": {},
   "outputs": [],
   "source": [
    "# Define Dirichlet boundary. Fix the base_spring\n",
    "def dirichlet_bc(W):\n",
    "    V = W if W.sub(0).num_sub_spaces() == 0 else W.sub(0)\n",
    "    return DirichletBC(\n",
    "        V,\n",
    "        Constant((0.0, 0.0, 0.0)),\n",
    "        geometry.ffun,\n",
    "        geometry.markers[\"BASE\"][0],\n",
    "    )"
   ]
  },
  {
   "cell_type": "code",
   "execution_count": null,
   "id": "5bb3363e",
   "metadata": {},
   "outputs": [],
   "source": [
    "# Traction at the bottom of the beam\n",
    "lvp = Constant(0.0)\n",
    "neumann_bc = pulse.NeumannBC(traction=lvp, marker=geometry.markers[\"ENDO\"][0])"
   ]
  },
  {
   "cell_type": "code",
   "execution_count": null,
   "id": "2dffa59a",
   "metadata": {},
   "outputs": [],
   "source": [
    "# Collect Boundary Conditions\n",
    "bcs = pulse.BoundaryConditions(dirichlet=(dirichlet_bc,), neumann=(neumann_bc,))"
   ]
  },
  {
   "cell_type": "code",
   "execution_count": null,
   "id": "cd57f4fe",
   "metadata": {},
   "outputs": [],
   "source": [
    "# Create problem\n",
    "problem = pulse.MechanicsProblem(geometry, material, bcs)"
   ]
  },
  {
   "cell_type": "code",
   "execution_count": null,
   "id": "3459af6d",
   "metadata": {},
   "outputs": [],
   "source": [
    "# Solve problem\n",
    "pulse.iterate.iterate(problem, lvp, 10.0, initial_number_of_steps=200)"
   ]
  },
  {
   "cell_type": "code",
   "execution_count": null,
   "id": "51d0ab86",
   "metadata": {},
   "outputs": [],
   "source": [
    "# Get displacement and hydrostatic pressure\n",
    "u, p = problem.state.split(deepcopy=True)"
   ]
  },
  {
   "cell_type": "code",
   "execution_count": null,
   "id": "2595f0ae",
   "metadata": {},
   "outputs": [],
   "source": [
    "endo_apex_marker = geometry.markers[\"APEX_ENDO\"][0]\n",
    "endo_apex_idx = geometry.vfun.array().tolist().index(endo_apex_marker)\n",
    "endo_apex = geometry.mesh.coordinates()[endo_apex_idx, :]\n",
    "endo_apex_pos = endo_apex + u(endo_apex)"
   ]
  },
  {
   "cell_type": "code",
   "execution_count": null,
   "id": "49ff3a31",
   "metadata": {
    "lines_to_next_cell": 2
   },
   "outputs": [],
   "source": [
    "print(\n",
    "    (\"\\n\\nGet longitudinal position of endocardial apex: {:.4f} mm\" \"\").format(\n",
    "        endo_apex_pos[0],\n",
    "    ),\n",
    ")"
   ]
  },
  {
   "cell_type": "code",
   "execution_count": null,
   "id": "0ce91107",
   "metadata": {},
   "outputs": [],
   "source": [
    "epi_apex_marker = geometry.markers[\"APEX_EPI\"][0]\n",
    "epi_apex_idx = geometry.vfun.array().tolist().index(epi_apex_marker)\n",
    "epi_apex = geometry.mesh.coordinates()[epi_apex_idx, :]\n",
    "epi_apex_pos = epi_apex + u(epi_apex)"
   ]
  },
  {
   "cell_type": "code",
   "execution_count": null,
   "id": "47da96b2",
   "metadata": {},
   "outputs": [],
   "source": [
    "print(\n",
    "    (\"\\n\\nGet longitudinal position of epicardial apex: {:.4f} mm\" \"\").format(\n",
    "        epi_apex_pos[0],\n",
    "    ),\n",
    ")"
   ]
  },
  {
   "cell_type": "code",
   "execution_count": null,
   "id": "785f363a",
   "metadata": {
    "lines_to_next_cell": 2
   },
   "outputs": [],
   "source": [
    "V = dolfin.VectorFunctionSpace(geometry.mesh, \"CG\", 1)\n",
    "u_int = interpolate(u, V)\n",
    "mesh = Mesh(geometry.mesh)\n",
    "dolfin.ALE.move(mesh, u_int)"
   ]
  },
  {
   "cell_type": "code",
   "execution_count": null,
   "id": "bbc90455",
   "metadata": {},
   "outputs": [],
   "source": [
    "fig = plot(geometry.mesh, color=\"red\", show=False)\n",
    "fig.add_plot(plot(mesh, opacity=0.3, show=False))\n",
    "fig.show()"
   ]
  }
 ],
 "metadata": {
  "jupytext": {
   "cell_metadata_filter": "-all",
   "main_language": "python",
   "notebook_metadata_filter": "-all"
  }
 },
 "nbformat": 4,
 "nbformat_minor": 5
}
