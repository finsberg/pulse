{
 "cells": [
  {
   "cell_type": "markdown",
   "metadata": {
    "lines_to_next_cell": 2
   },
   "source": [
    "# Shear experiment \n",
    "Attempt to reproduce Figure 8 in [1].\n",
    "\n",
    "\n",
    "> [1] Holzapfel, Gerhard A., and Ray W. Ogden.\n",
    "    \"Constitutive modelling of passive myocardium:\n",
    "    a structurally based framework for material characterization.\n",
    "    \"Philosophical Transactions of the Royal Society of London A:\n",
    "    Mathematical, Physical and Engineering Sciences 367.1902 (2009): 3445-3475.\n"
   ]
  },
  {
   "cell_type": "code",
   "execution_count": 1,
   "metadata": {},
   "outputs": [],
   "source": [
    "import matplotlib.pyplot as plt\n",
    "import numpy as np\n",
    "import dolfin\n",
    "import pulse"
   ]
  },
  {
   "cell_type": "code",
   "execution_count": 2,
   "metadata": {},
   "outputs": [],
   "source": [
    "try:\n",
    "    from dolfin_adjoint import (\n",
    "        Constant,\n",
    "        DirichletBC,\n",
    "        Expression,\n",
    "        Mesh,\n",
    "        UnitCubeMesh,\n",
    "        interpolate,\n",
    "    )\n",
    "except ImportError:\n",
    "    from dolfin import (\n",
    "        Constant,\n",
    "        DirichletBC,\n",
    "        Mesh,\n",
    "        interpolate,\n",
    "        Expression,\n",
    "        UnitCubeMesh,\n",
    "    )"
   ]
  },
  {
   "cell_type": "code",
   "execution_count": 3,
   "metadata": {
    "lines_to_next_cell": 2
   },
   "outputs": [],
   "source": [
    "# Create mesh\n",
    "N = 2\n",
    "mesh = UnitCubeMesh(N, N, N)"
   ]
  },
  {
   "cell_type": "code",
   "execution_count": 4,
   "metadata": {},
   "outputs": [],
   "source": [
    "# Create a facet fuction in order to mark the subdomains\n",
    "ffun = dolfin.MeshFunction(\"size_t\", mesh, 2)\n",
    "ffun.set_all(0)"
   ]
  },
  {
   "cell_type": "code",
   "execution_count": 5,
   "metadata": {},
   "outputs": [],
   "source": [
    "# Mark subdomains\n",
    "xlow = dolfin.CompiledSubDomain(\"near(x[0], 0) && on_boundary\")\n",
    "xlow_marker = 1\n",
    "xlow.mark(ffun, xlow_marker)"
   ]
  },
  {
   "cell_type": "code",
   "execution_count": 6,
   "metadata": {},
   "outputs": [],
   "source": [
    "xhigh = dolfin.CompiledSubDomain(\"near(x[0], 1.0) && on_boundary\")\n",
    "xhigh_marker = 2\n",
    "xhigh.mark(ffun, xhigh_marker)"
   ]
  },
  {
   "cell_type": "code",
   "execution_count": 7,
   "metadata": {},
   "outputs": [],
   "source": [
    "ylow = dolfin.CompiledSubDomain(\"near(x[0], 0) && on_boundary\")\n",
    "ylow_marker = 3\n",
    "ylow.mark(ffun, ylow_marker)"
   ]
  },
  {
   "cell_type": "code",
   "execution_count": 8,
   "metadata": {
    "lines_to_next_cell": 2
   },
   "outputs": [],
   "source": [
    "yhigh = dolfin.CompiledSubDomain(\"near(x[1], 1) && on_boundary\")\n",
    "yhigh_marker = 4\n",
    "yhigh.mark(ffun, yhigh_marker)"
   ]
  },
  {
   "cell_type": "code",
   "execution_count": 12,
   "metadata": {
    "lines_to_next_cell": 2
   },
   "outputs": [],
   "source": [
    "# Collect the functions containing the markers\n",
    "marker_functions = pulse.MarkerFunctions(ffun=ffun)"
   ]
  },
  {
   "cell_type": "code",
   "execution_count": 13,
   "metadata": {},
   "outputs": [],
   "source": [
    "# Create mictrotructure\n",
    "V_f = pulse.QuadratureSpace(mesh, 4)"
   ]
  },
  {
   "cell_type": "code",
   "execution_count": 14,
   "metadata": {},
   "outputs": [],
   "source": [
    "# Fibers\n",
    "f0 = interpolate(Expression((\"1.0\", \"0.0\", \"0.0\"), degree=1), V_f)\n",
    "# Sheets\n",
    "s0 = interpolate(Expression((\"0.0\", \"1.0\", \"0.0\"), degree=1), V_f)\n",
    "# Fiber-sheet normal\n",
    "n0 = interpolate(Expression((\"0.0\", \"0.0\", \"1.0\"), degree=1), V_f)"
   ]
  },
  {
   "cell_type": "code",
   "execution_count": 15,
   "metadata": {},
   "outputs": [],
   "source": [
    "# Collect the mictrotructure\n",
    "microstructure = pulse.Microstructure(f0=f0, s0=s0, n0=n0)"
   ]
  },
  {
   "cell_type": "code",
   "execution_count": 16,
   "metadata": {},
   "outputs": [],
   "source": [
    "# Create the geometry\n",
    "geometry = pulse.Geometry(\n",
    "    mesh=mesh,\n",
    "    marker_functions=marker_functions,\n",
    "    microstructure=microstructure,\n",
    ")"
   ]
  },
  {
   "cell_type": "code",
   "execution_count": 17,
   "metadata": {},
   "outputs": [],
   "source": [
    "# Use the default material parameters\n",
    "material_parameters = {\"a\": 2.28, \"b\": 9.726, \"a_f\": 1.685, \"b_f\": 15.779}"
   ]
  },
  {
   "cell_type": "code",
   "execution_count": 18,
   "metadata": {
    "lines_to_next_cell": 2
   },
   "outputs": [],
   "source": [
    "# Create material\n",
    "material = pulse.HolzapfelOgden(parameters=material_parameters)"
   ]
  },
  {
   "cell_type": "code",
   "execution_count": 19,
   "metadata": {},
   "outputs": [],
   "source": [
    "# Eff / Ess strain ratio\n",
    "strain_ratio = Constant(1.0)"
   ]
  },
  {
   "cell_type": "code",
   "execution_count": 20,
   "metadata": {},
   "outputs": [],
   "source": [
    "# Create costants defined for the dirichlet BC\n",
    "u0 = Constant(0.0)\n",
    "x_strain = u0 * strain_ratio / 2\n",
    "y_strain = u0 * (1 / strain_ratio) / 2"
   ]
  },
  {
   "cell_type": "code",
   "execution_count": 21,
   "metadata": {},
   "outputs": [],
   "source": [
    "# Make Dirichlet boundary conditions\n",
    "def dirichlet_bc(W):\n",
    "    V = W if W.sub(0).num_sub_spaces() == 0 else W.sub(0)\n",
    "    return [\n",
    "        DirichletBC(V.sub(0), Constant(-x_strain), xlow),\n",
    "        DirichletBC(V.sub(0), Constant(x_strain), xhigh),\n",
    "        DirichletBC(V.sub(1), Constant(-y_strain), ylow),\n",
    "        DirichletBC(V.sub(1), Constant(y_strain), yhigh),\n",
    "    ]"
   ]
  },
  {
   "cell_type": "code",
   "execution_count": 22,
   "metadata": {},
   "outputs": [],
   "source": [
    "# Collect Boundary Conditions\n",
    "bcs = pulse.BoundaryConditions(dirichlet=(dirichlet_bc,))"
   ]
  },
  {
   "cell_type": "code",
   "execution_count": 23,
   "metadata": {},
   "outputs": [],
   "source": [
    "# Create problem\n",
    "problem = pulse.MechanicsProblem(geometry, material, bcs)"
   ]
  },
  {
   "cell_type": "code",
   "execution_count": 24,
   "metadata": {
    "scrolled": true
   },
   "outputs": [
    {
     "name": "stderr",
     "output_type": "stream",
     "text": [
      "2021-05-11 20:33:40,185 - pulse.iterate - INFO - Iterating....\n",
      "2021-05-11 20:33:40,186 - pulse.iterate - INFO - Current control: 0.000\n",
      "2021-05-11 20:33:40,187 - pulse.iterate - INFO - Target: 0.000\n",
      "2021-05-11 20:33:40,240 - pulse.iterate - INFO - Iterating....\n",
      "2021-05-11 20:33:40,241 - pulse.iterate - INFO - Current control: 0.000\n",
      "2021-05-11 20:33:40,241 - pulse.iterate - INFO - Target: 0.011\n",
      "2021-05-11 20:34:17,588 - pulse.iterate - INFO - Iterating....\n",
      "2021-05-11 20:34:17,589 - pulse.iterate - INFO - Current control: 0.011\n",
      "2021-05-11 20:34:17,589 - pulse.iterate - INFO - Target: 0.022\n",
      "2021-05-11 20:34:18,785 - pulse.iterate - INFO - Iterating....\n",
      "2021-05-11 20:34:18,785 - pulse.iterate - INFO - Current control: 0.022\n",
      "2021-05-11 20:34:18,786 - pulse.iterate - INFO - Target: 0.033\n",
      "2021-05-11 20:34:19,095 - pulse.iterate - INFO - Iterating....\n",
      "2021-05-11 20:34:19,096 - pulse.iterate - INFO - Current control: 0.033\n",
      "2021-05-11 20:34:19,097 - pulse.iterate - INFO - Target: 0.044\n",
      "2021-05-11 20:34:20,377 - pulse.iterate - INFO - Iterating....\n",
      "2021-05-11 20:34:20,377 - pulse.iterate - INFO - Current control: 0.044\n",
      "2021-05-11 20:34:20,378 - pulse.iterate - INFO - Target: 0.056\n",
      "2021-05-11 20:34:21,667 - pulse.iterate - INFO - Iterating....\n",
      "2021-05-11 20:34:21,667 - pulse.iterate - INFO - Current control: 0.056\n",
      "2021-05-11 20:34:21,668 - pulse.iterate - INFO - Target: 0.067\n",
      "2021-05-11 20:34:21,972 - pulse.iterate - INFO - Iterating....\n",
      "2021-05-11 20:34:21,973 - pulse.iterate - INFO - Current control: 0.067\n",
      "2021-05-11 20:34:21,973 - pulse.iterate - INFO - Target: 0.078\n",
      "2021-05-11 20:34:22,308 - pulse.iterate - INFO - Iterating....\n",
      "2021-05-11 20:34:22,309 - pulse.iterate - INFO - Current control: 0.078\n",
      "2021-05-11 20:34:22,309 - pulse.iterate - INFO - Target: 0.089\n",
      "2021-05-11 20:34:22,642 - pulse.iterate - INFO - Iterating....\n",
      "2021-05-11 20:34:22,643 - pulse.iterate - INFO - Current control: 0.089\n",
      "2021-05-11 20:34:22,643 - pulse.iterate - INFO - Target: 0.100\n",
      "2021-05-11 20:34:22,985 - pulse.iterate - INFO - Iterating....\n",
      "2021-05-11 20:34:22,985 - pulse.iterate - INFO - Current control: 0.100\n",
      "2021-05-11 20:34:22,986 - pulse.iterate - INFO - Target: 0.000\n",
      "2021-05-11 20:34:34,000 - pulse.iterate - INFO - Iterating....\n",
      "2021-05-11 20:34:34,001 - pulse.iterate - INFO - Current control: 0.000\n",
      "2021-05-11 20:34:34,002 - pulse.iterate - INFO - Target: 0.011\n",
      "2021-05-11 20:34:34,360 - pulse.iterate - INFO - Iterating....\n",
      "2021-05-11 20:34:34,361 - pulse.iterate - INFO - Current control: 0.011\n",
      "2021-05-11 20:34:34,361 - pulse.iterate - INFO - Target: 0.022\n",
      "2021-05-11 20:34:34,764 - pulse.iterate - INFO - Iterating....\n",
      "2021-05-11 20:34:34,765 - pulse.iterate - INFO - Current control: 0.022\n",
      "2021-05-11 20:34:34,766 - pulse.iterate - INFO - Target: 0.033\n",
      "2021-05-11 20:34:36,266 - pulse.iterate - INFO - Iterating....\n",
      "2021-05-11 20:34:36,267 - pulse.iterate - INFO - Current control: 0.033\n",
      "2021-05-11 20:34:36,268 - pulse.iterate - INFO - Target: 0.044\n",
      "2021-05-11 20:34:36,670 - pulse.iterate - INFO - Iterating....\n",
      "2021-05-11 20:34:36,671 - pulse.iterate - INFO - Current control: 0.044\n",
      "2021-05-11 20:34:36,672 - pulse.iterate - INFO - Target: 0.056\n",
      "2021-05-11 20:34:38,401 - pulse.iterate - INFO - Iterating....\n",
      "2021-05-11 20:34:38,402 - pulse.iterate - INFO - Current control: 0.056\n",
      "2021-05-11 20:34:38,403 - pulse.iterate - INFO - Target: 0.067\n",
      "2021-05-11 20:34:38,811 - pulse.iterate - INFO - Iterating....\n",
      "2021-05-11 20:34:38,812 - pulse.iterate - INFO - Current control: 0.067\n",
      "2021-05-11 20:34:38,812 - pulse.iterate - INFO - Target: 0.078\n",
      "2021-05-11 20:34:39,227 - pulse.iterate - INFO - Iterating....\n",
      "2021-05-11 20:34:39,228 - pulse.iterate - INFO - Current control: 0.078\n",
      "2021-05-11 20:34:39,228 - pulse.iterate - INFO - Target: 0.089\n",
      "2021-05-11 20:34:39,645 - pulse.iterate - INFO - Iterating....\n",
      "2021-05-11 20:34:39,646 - pulse.iterate - INFO - Current control: 0.089\n",
      "2021-05-11 20:34:39,646 - pulse.iterate - INFO - Target: 0.100\n",
      "2021-05-11 20:34:40,086 - pulse.iterate - INFO - Iterating....\n",
      "2021-05-11 20:34:40,086 - pulse.iterate - INFO - Current control: 0.100\n",
      "2021-05-11 20:34:40,087 - pulse.iterate - INFO - Target: 0.000\n"
     ]
    },
    {
     "ename": "SolverDidNotConverge",
     "evalue": "",
     "output_type": "error",
     "traceback": [
      "\u001b[0;31m--------------------------------------------------------------------\u001b[0m",
      "\u001b[0;31mSolverDidNotConverge\u001b[0m               Traceback (most recent call last)",
      "\u001b[0;32m<ipython-input-24-66b06ae58ab6>\u001b[0m in \u001b[0;36m<module>\u001b[0;34m\u001b[0m\n\u001b[1;32m     10\u001b[0m     \u001b[0mSsss\u001b[0m \u001b[0;34m=\u001b[0m \u001b[0;34m[\u001b[0m\u001b[0;34m]\u001b[0m\u001b[0;34m\u001b[0m\u001b[0;34m\u001b[0m\u001b[0m\n\u001b[1;32m     11\u001b[0m     \u001b[0;32mfor\u001b[0m \u001b[0mxi\u001b[0m \u001b[0;32min\u001b[0m \u001b[0mnp\u001b[0m\u001b[0;34m.\u001b[0m\u001b[0mlinspace\u001b[0m\u001b[0;34m(\u001b[0m\u001b[0;36m0\u001b[0m\u001b[0;34m,\u001b[0m \u001b[0;36m0.1\u001b[0m\u001b[0;34m,\u001b[0m \u001b[0;36m10\u001b[0m\u001b[0;34m)\u001b[0m\u001b[0;34m:\u001b[0m\u001b[0;34m\u001b[0m\u001b[0;34m\u001b[0m\u001b[0m\n\u001b[0;32m---> 12\u001b[0;31m         \u001b[0mpulse\u001b[0m\u001b[0;34m.\u001b[0m\u001b[0miterate\u001b[0m\u001b[0;34m.\u001b[0m\u001b[0miterate\u001b[0m\u001b[0;34m(\u001b[0m\u001b[0mproblem\u001b[0m\u001b[0;34m,\u001b[0m \u001b[0mu0\u001b[0m\u001b[0;34m,\u001b[0m \u001b[0mConstant\u001b[0m\u001b[0;34m(\u001b[0m\u001b[0mxi\u001b[0m\u001b[0;34m)\u001b[0m\u001b[0;34m,\u001b[0m \u001b[0mreinit_each_step\u001b[0m\u001b[0;34m=\u001b[0m\u001b[0;32mTrue\u001b[0m\u001b[0;34m)\u001b[0m\u001b[0;34m\u001b[0m\u001b[0;34m\u001b[0m\u001b[0m\n\u001b[0m\u001b[1;32m     13\u001b[0m         \u001b[0mS\u001b[0m \u001b[0;34m=\u001b[0m \u001b[0mproblem\u001b[0m\u001b[0;34m.\u001b[0m\u001b[0mSecondPiolaStress\u001b[0m\u001b[0;34m(\u001b[0m\u001b[0;34m)\u001b[0m\u001b[0;34m\u001b[0m\u001b[0;34m\u001b[0m\u001b[0m\n\u001b[1;32m     14\u001b[0m         \u001b[0mE\u001b[0m \u001b[0;34m=\u001b[0m \u001b[0mproblem\u001b[0m\u001b[0;34m.\u001b[0m\u001b[0mGreenLagrangeStrain\u001b[0m\u001b[0;34m(\u001b[0m\u001b[0;34m)\u001b[0m\u001b[0;34m\u001b[0m\u001b[0;34m\u001b[0m\u001b[0m\n",
      "\u001b[0;32m~/local/src/pulse/pulse/iterate.py\u001b[0m in \u001b[0;36miterate\u001b[0;34m(problem, control, target, continuation, max_adapt_iter, adapt_step, old_states, old_controls, max_nr_crash, max_iters, initial_number_of_steps, reinit_each_step)\u001b[0m\n\u001b[1;32m    326\u001b[0m         \u001b[0mreinit_each_step\u001b[0m\u001b[0;34m=\u001b[0m\u001b[0mreinit_each_step\u001b[0m\u001b[0;34m,\u001b[0m\u001b[0;34m\u001b[0m\u001b[0;34m\u001b[0m\u001b[0m\n\u001b[1;32m    327\u001b[0m     ) as iterator:\n\u001b[0;32m--> 328\u001b[0;31m         \u001b[0mres\u001b[0m \u001b[0;34m=\u001b[0m \u001b[0miterator\u001b[0m\u001b[0;34m.\u001b[0m\u001b[0msolve\u001b[0m\u001b[0;34m(\u001b[0m\u001b[0;34m)\u001b[0m\u001b[0;34m\u001b[0m\u001b[0;34m\u001b[0m\u001b[0m\n\u001b[0m\u001b[1;32m    329\u001b[0m \u001b[0;34m\u001b[0m\u001b[0m\n\u001b[1;32m    330\u001b[0m     \u001b[0;32mreturn\u001b[0m \u001b[0mres\u001b[0m\u001b[0;34m\u001b[0m\u001b[0;34m\u001b[0m\u001b[0m\n",
      "\u001b[0;32m~/local/src/pulse/pulse/iterate.py\u001b[0m in \u001b[0;36msolve\u001b[0;34m(self)\u001b[0m\n\u001b[1;32m    422\u001b[0m                 \u001b[0mself\u001b[0m\u001b[0;34m.\u001b[0m\u001b[0massign_control\u001b[0m\u001b[0;34m(\u001b[0m\u001b[0menlist\u001b[0m\u001b[0;34m(\u001b[0m\u001b[0mself\u001b[0m\u001b[0;34m.\u001b[0m\u001b[0mcontrol_values\u001b[0m\u001b[0;34m[\u001b[0m\u001b[0;36m0\u001b[0m\u001b[0;34m]\u001b[0m\u001b[0;34m)\u001b[0m\u001b[0;34m)\u001b[0m\u001b[0;34m\u001b[0m\u001b[0;34m\u001b[0m\u001b[0m\n\u001b[1;32m    423\u001b[0m \u001b[0;34m\u001b[0m\u001b[0m\n\u001b[0;32m--> 424\u001b[0;31m                 \u001b[0;32mraise\u001b[0m \u001b[0mSolverDidNotConverge\u001b[0m\u001b[0;34m\u001b[0m\u001b[0;34m\u001b[0m\u001b[0m\n\u001b[0m\u001b[1;32m    425\u001b[0m \u001b[0;34m\u001b[0m\u001b[0m\n\u001b[1;32m    426\u001b[0m             \u001b[0mprev_state\u001b[0m \u001b[0;34m=\u001b[0m \u001b[0mself\u001b[0m\u001b[0;34m.\u001b[0m\u001b[0mprev_states\u001b[0m\u001b[0;34m[\u001b[0m\u001b[0;34m-\u001b[0m\u001b[0;36m1\u001b[0m\u001b[0;34m]\u001b[0m\u001b[0;34m\u001b[0m\u001b[0;34m\u001b[0m\u001b[0m\n",
      "\u001b[0;31mSolverDidNotConverge\u001b[0m: "
     ]
    },
    {
     "data": {
      "image/png": "[encoded data removed]",
      "text/plain": [
       "<Figure size 432x288 with 2 Axes>"
      ]
     },
     "metadata": {
      "needs_background": "light"
     },
     "output_type": "display_data"
    }
   ],
   "source": [
    "# Solve problem\n",
    "fig, ax = plt.subplots(1, 2)\n",
    "u0s = [0.045, 0.6, 0.8]\n",
    "markers = [\"^\", \"s\", \"o\"]\n",
    "for i, sr in enumerate([2.05, 1.02, 0.48]):\n",
    "    strain_ratio.assign(sr)\n",
    "    Effs = []\n",
    "    Sffs = []\n",
    "    Esss = []\n",
    "    Ssss = []\n",
    "    for xi in np.linspace(0, 0.1, 10):\n",
    "        pulse.iterate.iterate(problem, u0, Constant(xi), reinit_each_step=True)\n",
    "        S = problem.SecondPiolaStress()\n",
    "        E = problem.GreenLagrangeStrain()\n",
    "\n",
    "        Sff = dolfin.assemble(dolfin.inner(f0, S * f0) * dolfin.dx)\n",
    "        Eff = dolfin.assemble(dolfin.inner(f0, E * f0) * dolfin.dx)\n",
    "\n",
    "        Effs.append(Eff)\n",
    "        Sffs.append(Sff)\n",
    "\n",
    "        Sss = dolfin.assemble(dolfin.inner(s0, S * s0) * dolfin.dx)\n",
    "        Ess = dolfin.assemble(dolfin.inner(s0, E * s0) * dolfin.dx)\n",
    "\n",
    "        Esss.append(Ess)\n",
    "        Ssss.append(Sss)\n",
    "\n",
    "    ax[0].plot(Effs, Sffs, marker=markers[i], label=f\"SR: {sr:.2f}\")\n",
    "    ax[1].plot(Esss, Ssss, marker=markers[i], label=f\"SR: {sr:.2f}\")\n",
    "ax[0].set_ylabel(\"$S_{ff}$ (kPa)\")\n",
    "ax[1].set_ylabel(\"$S_{ss}$ (kPa)\")"
   ]
  },
  {
   "cell_type": "code",
   "execution_count": null,
   "metadata": {},
   "outputs": [],
   "source": [
    "ax[0].set_xlabel(\"$E_{ff}$\")\n",
    "ax[1].set_xlabel(\"$E_{ss}$\")\n",
    "for axi in ax:\n",
    "    axi.legend()\n",
    "fig.savefig(\"biaxial_test\")"
   ]
  },
  {
   "cell_type": "code",
   "execution_count": null,
   "metadata": {},
   "outputs": [],
   "source": []
  },
  {
   "cell_type": "code",
   "execution_count": null,
   "metadata": {},
   "outputs": [],
   "source": []
  }
 ],
 "metadata": {
  "jupytext": {
   "cell_metadata_filter": "-all",
   "main_language": "python",
   "notebook_metadata_filter": "-all"
  },
  "kernelspec": {
   "display_name": "Python 3",
   "language": "python",
   "name": "python3"
  },
  "language_info": {
   "codemirror_mode": {
    "name": "ipython",
    "version": 3
   },
   "file_extension": ".py",
   "mimetype": "text/x-python",
   "name": "python",
   "nbconvert_exporter": "python",
   "pygments_lexer": "ipython3",
   "version": "3.9.0"
  }
 },
 "nbformat": 4,
 "nbformat_minor": 4
}
